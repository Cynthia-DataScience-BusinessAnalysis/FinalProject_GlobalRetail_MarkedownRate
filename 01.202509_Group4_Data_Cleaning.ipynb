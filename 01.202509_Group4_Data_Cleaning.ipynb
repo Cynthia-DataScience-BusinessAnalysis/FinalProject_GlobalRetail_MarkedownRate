{
  "cells": [
    {
      "cell_type": "markdown",
      "id": "da3184de",
      "metadata": {
        "id": "da3184de"
      },
      "source": [
        "# Markdown Project: Data Cleaning"
      ]
    },
    {
      "cell_type": "markdown",
      "id": "345bcbcf",
      "metadata": {
        "id": "345bcbcf"
      },
      "source": [
        "#Importar libraries\n",
        "\n"
      ]
    },
    {
      "cell_type": "code",
      "execution_count": 1,
      "id": "650d7278",
      "metadata": {
        "id": "650d7278"
      },
      "outputs": [],
      "source": [
        "import pandas as pd\n",
        "import re\n",
        "import matplotlib.pyplot as plt\n",
        "import seaborn as sns\n",
        "import numpy as np"
      ]
    },
    {
      "cell_type": "markdown",
      "id": "r4MqUhbkIryb",
      "metadata": {
        "id": "r4MqUhbkIryb"
      },
      "source": [
        "#Dataset Stores"
      ]
    },
    {
      "cell_type": "markdown",
      "source": [
        "##Importar e visualizar ficheiro"
      ],
      "metadata": {
        "id": "JKN4ePwAPHlm"
      },
      "id": "JKN4ePwAPHlm"
    },
    {
      "cell_type": "markdown",
      "source": [],
      "metadata": {
        "id": "DTv5P_SqPc7K"
      },
      "id": "DTv5P_SqPc7K"
    },
    {
      "cell_type": "code",
      "execution_count": 2,
      "id": "gQlzRe2YWDxT",
      "metadata": {
        "colab": {
          "base_uri": "https://localhost:8080/",
          "height": 206
        },
        "id": "gQlzRe2YWDxT",
        "outputId": "952e8c5d-4ca5-41f9-abdc-1dd7b0f8a5ff"
      },
      "outputs": [
        {
          "output_type": "execute_result",
          "data": {
            "text/plain": [
              "   idstore   type  selling_square_ft  district\n",
              "0        1  Large             4762.0     Évora\n",
              "1        2  Large            12358.0  Bragança\n",
              "2        3  Large            16159.0    Lisboa\n",
              "3        4  Large            17903.0     Porto\n",
              "4        5  Large            16179.0   Coimbra"
            ],
            "text/html": [
              "\n",
              "  <div id=\"df-1bf0a9c0-985a-4758-bf4c-f9aca48beb4f\" class=\"colab-df-container\">\n",
              "    <div>\n",
              "<style scoped>\n",
              "    .dataframe tbody tr th:only-of-type {\n",
              "        vertical-align: middle;\n",
              "    }\n",
              "\n",
              "    .dataframe tbody tr th {\n",
              "        vertical-align: top;\n",
              "    }\n",
              "\n",
              "    .dataframe thead th {\n",
              "        text-align: right;\n",
              "    }\n",
              "</style>\n",
              "<table border=\"1\" class=\"dataframe\">\n",
              "  <thead>\n",
              "    <tr style=\"text-align: right;\">\n",
              "      <th></th>\n",
              "      <th>idstore</th>\n",
              "      <th>type</th>\n",
              "      <th>selling_square_ft</th>\n",
              "      <th>district</th>\n",
              "    </tr>\n",
              "  </thead>\n",
              "  <tbody>\n",
              "    <tr>\n",
              "      <th>0</th>\n",
              "      <td>1</td>\n",
              "      <td>Large</td>\n",
              "      <td>4762.0</td>\n",
              "      <td>Évora</td>\n",
              "    </tr>\n",
              "    <tr>\n",
              "      <th>1</th>\n",
              "      <td>2</td>\n",
              "      <td>Large</td>\n",
              "      <td>12358.0</td>\n",
              "      <td>Bragança</td>\n",
              "    </tr>\n",
              "    <tr>\n",
              "      <th>2</th>\n",
              "      <td>3</td>\n",
              "      <td>Large</td>\n",
              "      <td>16159.0</td>\n",
              "      <td>Lisboa</td>\n",
              "    </tr>\n",
              "    <tr>\n",
              "      <th>3</th>\n",
              "      <td>4</td>\n",
              "      <td>Large</td>\n",
              "      <td>17903.0</td>\n",
              "      <td>Porto</td>\n",
              "    </tr>\n",
              "    <tr>\n",
              "      <th>4</th>\n",
              "      <td>5</td>\n",
              "      <td>Large</td>\n",
              "      <td>16179.0</td>\n",
              "      <td>Coimbra</td>\n",
              "    </tr>\n",
              "  </tbody>\n",
              "</table>\n",
              "</div>\n",
              "    <div class=\"colab-df-buttons\">\n",
              "\n",
              "  <div class=\"colab-df-container\">\n",
              "    <button class=\"colab-df-convert\" onclick=\"convertToInteractive('df-1bf0a9c0-985a-4758-bf4c-f9aca48beb4f')\"\n",
              "            title=\"Convert this dataframe to an interactive table.\"\n",
              "            style=\"display:none;\">\n",
              "\n",
              "  <svg xmlns=\"http://www.w3.org/2000/svg\" height=\"24px\" viewBox=\"0 -960 960 960\">\n",
              "    <path d=\"M120-120v-720h720v720H120Zm60-500h600v-160H180v160Zm220 220h160v-160H400v160Zm0 220h160v-160H400v160ZM180-400h160v-160H180v160Zm440 0h160v-160H620v160ZM180-180h160v-160H180v160Zm440 0h160v-160H620v160Z\"/>\n",
              "  </svg>\n",
              "    </button>\n",
              "\n",
              "  <style>\n",
              "    .colab-df-container {\n",
              "      display:flex;\n",
              "      gap: 12px;\n",
              "    }\n",
              "\n",
              "    .colab-df-convert {\n",
              "      background-color: #E8F0FE;\n",
              "      border: none;\n",
              "      border-radius: 50%;\n",
              "      cursor: pointer;\n",
              "      display: none;\n",
              "      fill: #1967D2;\n",
              "      height: 32px;\n",
              "      padding: 0 0 0 0;\n",
              "      width: 32px;\n",
              "    }\n",
              "\n",
              "    .colab-df-convert:hover {\n",
              "      background-color: #E2EBFA;\n",
              "      box-shadow: 0px 1px 2px rgba(60, 64, 67, 0.3), 0px 1px 3px 1px rgba(60, 64, 67, 0.15);\n",
              "      fill: #174EA6;\n",
              "    }\n",
              "\n",
              "    .colab-df-buttons div {\n",
              "      margin-bottom: 4px;\n",
              "    }\n",
              "\n",
              "    [theme=dark] .colab-df-convert {\n",
              "      background-color: #3B4455;\n",
              "      fill: #D2E3FC;\n",
              "    }\n",
              "\n",
              "    [theme=dark] .colab-df-convert:hover {\n",
              "      background-color: #434B5C;\n",
              "      box-shadow: 0px 1px 3px 1px rgba(0, 0, 0, 0.15);\n",
              "      filter: drop-shadow(0px 1px 2px rgba(0, 0, 0, 0.3));\n",
              "      fill: #FFFFFF;\n",
              "    }\n",
              "  </style>\n",
              "\n",
              "    <script>\n",
              "      const buttonEl =\n",
              "        document.querySelector('#df-1bf0a9c0-985a-4758-bf4c-f9aca48beb4f button.colab-df-convert');\n",
              "      buttonEl.style.display =\n",
              "        google.colab.kernel.accessAllowed ? 'block' : 'none';\n",
              "\n",
              "      async function convertToInteractive(key) {\n",
              "        const element = document.querySelector('#df-1bf0a9c0-985a-4758-bf4c-f9aca48beb4f');\n",
              "        const dataTable =\n",
              "          await google.colab.kernel.invokeFunction('convertToInteractive',\n",
              "                                                    [key], {});\n",
              "        if (!dataTable) return;\n",
              "\n",
              "        const docLinkHtml = 'Like what you see? Visit the ' +\n",
              "          '<a target=\"_blank\" href=https://colab.research.google.com/notebooks/data_table.ipynb>data table notebook</a>'\n",
              "          + ' to learn more about interactive tables.';\n",
              "        element.innerHTML = '';\n",
              "        dataTable['output_type'] = 'display_data';\n",
              "        await google.colab.output.renderOutput(dataTable, element);\n",
              "        const docLink = document.createElement('div');\n",
              "        docLink.innerHTML = docLinkHtml;\n",
              "        element.appendChild(docLink);\n",
              "      }\n",
              "    </script>\n",
              "  </div>\n",
              "\n",
              "\n",
              "    <div id=\"df-67481270-9076-4a5e-8bf1-f829df892e5f\">\n",
              "      <button class=\"colab-df-quickchart\" onclick=\"quickchart('df-67481270-9076-4a5e-8bf1-f829df892e5f')\"\n",
              "                title=\"Suggest charts\"\n",
              "                style=\"display:none;\">\n",
              "\n",
              "<svg xmlns=\"http://www.w3.org/2000/svg\" height=\"24px\"viewBox=\"0 0 24 24\"\n",
              "     width=\"24px\">\n",
              "    <g>\n",
              "        <path d=\"M19 3H5c-1.1 0-2 .9-2 2v14c0 1.1.9 2 2 2h14c1.1 0 2-.9 2-2V5c0-1.1-.9-2-2-2zM9 17H7v-7h2v7zm4 0h-2V7h2v10zm4 0h-2v-4h2v4z\"/>\n",
              "    </g>\n",
              "</svg>\n",
              "      </button>\n",
              "\n",
              "<style>\n",
              "  .colab-df-quickchart {\n",
              "      --bg-color: #E8F0FE;\n",
              "      --fill-color: #1967D2;\n",
              "      --hover-bg-color: #E2EBFA;\n",
              "      --hover-fill-color: #174EA6;\n",
              "      --disabled-fill-color: #AAA;\n",
              "      --disabled-bg-color: #DDD;\n",
              "  }\n",
              "\n",
              "  [theme=dark] .colab-df-quickchart {\n",
              "      --bg-color: #3B4455;\n",
              "      --fill-color: #D2E3FC;\n",
              "      --hover-bg-color: #434B5C;\n",
              "      --hover-fill-color: #FFFFFF;\n",
              "      --disabled-bg-color: #3B4455;\n",
              "      --disabled-fill-color: #666;\n",
              "  }\n",
              "\n",
              "  .colab-df-quickchart {\n",
              "    background-color: var(--bg-color);\n",
              "    border: none;\n",
              "    border-radius: 50%;\n",
              "    cursor: pointer;\n",
              "    display: none;\n",
              "    fill: var(--fill-color);\n",
              "    height: 32px;\n",
              "    padding: 0;\n",
              "    width: 32px;\n",
              "  }\n",
              "\n",
              "  .colab-df-quickchart:hover {\n",
              "    background-color: var(--hover-bg-color);\n",
              "    box-shadow: 0 1px 2px rgba(60, 64, 67, 0.3), 0 1px 3px 1px rgba(60, 64, 67, 0.15);\n",
              "    fill: var(--button-hover-fill-color);\n",
              "  }\n",
              "\n",
              "  .colab-df-quickchart-complete:disabled,\n",
              "  .colab-df-quickchart-complete:disabled:hover {\n",
              "    background-color: var(--disabled-bg-color);\n",
              "    fill: var(--disabled-fill-color);\n",
              "    box-shadow: none;\n",
              "  }\n",
              "\n",
              "  .colab-df-spinner {\n",
              "    border: 2px solid var(--fill-color);\n",
              "    border-color: transparent;\n",
              "    border-bottom-color: var(--fill-color);\n",
              "    animation:\n",
              "      spin 1s steps(1) infinite;\n",
              "  }\n",
              "\n",
              "  @keyframes spin {\n",
              "    0% {\n",
              "      border-color: transparent;\n",
              "      border-bottom-color: var(--fill-color);\n",
              "      border-left-color: var(--fill-color);\n",
              "    }\n",
              "    20% {\n",
              "      border-color: transparent;\n",
              "      border-left-color: var(--fill-color);\n",
              "      border-top-color: var(--fill-color);\n",
              "    }\n",
              "    30% {\n",
              "      border-color: transparent;\n",
              "      border-left-color: var(--fill-color);\n",
              "      border-top-color: var(--fill-color);\n",
              "      border-right-color: var(--fill-color);\n",
              "    }\n",
              "    40% {\n",
              "      border-color: transparent;\n",
              "      border-right-color: var(--fill-color);\n",
              "      border-top-color: var(--fill-color);\n",
              "    }\n",
              "    60% {\n",
              "      border-color: transparent;\n",
              "      border-right-color: var(--fill-color);\n",
              "    }\n",
              "    80% {\n",
              "      border-color: transparent;\n",
              "      border-right-color: var(--fill-color);\n",
              "      border-bottom-color: var(--fill-color);\n",
              "    }\n",
              "    90% {\n",
              "      border-color: transparent;\n",
              "      border-bottom-color: var(--fill-color);\n",
              "    }\n",
              "  }\n",
              "</style>\n",
              "\n",
              "      <script>\n",
              "        async function quickchart(key) {\n",
              "          const quickchartButtonEl =\n",
              "            document.querySelector('#' + key + ' button');\n",
              "          quickchartButtonEl.disabled = true;  // To prevent multiple clicks.\n",
              "          quickchartButtonEl.classList.add('colab-df-spinner');\n",
              "          try {\n",
              "            const charts = await google.colab.kernel.invokeFunction(\n",
              "                'suggestCharts', [key], {});\n",
              "          } catch (error) {\n",
              "            console.error('Error during call to suggestCharts:', error);\n",
              "          }\n",
              "          quickchartButtonEl.classList.remove('colab-df-spinner');\n",
              "          quickchartButtonEl.classList.add('colab-df-quickchart-complete');\n",
              "        }\n",
              "        (() => {\n",
              "          let quickchartButtonEl =\n",
              "            document.querySelector('#df-67481270-9076-4a5e-8bf1-f829df892e5f button');\n",
              "          quickchartButtonEl.style.display =\n",
              "            google.colab.kernel.accessAllowed ? 'block' : 'none';\n",
              "        })();\n",
              "      </script>\n",
              "    </div>\n",
              "\n",
              "    </div>\n",
              "  </div>\n"
            ],
            "application/vnd.google.colaboratory.intrinsic+json": {
              "type": "dataframe",
              "variable_name": "df_stores",
              "summary": "{\n  \"name\": \"df_stores\",\n  \"rows\": 342,\n  \"fields\": [\n    {\n      \"column\": \"idstore\",\n      \"properties\": {\n        \"dtype\": \"number\",\n        \"std\": 98,\n        \"min\": 1,\n        \"max\": 342,\n        \"num_unique_values\": 342,\n        \"samples\": [\n          238,\n          117,\n          114\n        ],\n        \"semantic_type\": \"\",\n        \"description\": \"\"\n      }\n    },\n    {\n      \"column\": \"type\",\n      \"properties\": {\n        \"dtype\": \"category\",\n        \"num_unique_values\": 4,\n        \"samples\": [\n          \"Medium\",\n          0,\n          \"Large\"\n        ],\n        \"semantic_type\": \"\",\n        \"description\": \"\"\n      }\n    },\n    {\n      \"column\": \"selling_square_ft\",\n      \"properties\": {\n        \"dtype\": \"number\",\n        \"std\": 4998.922533878669,\n        \"min\": 10.0,\n        \"max\": 25258.0,\n        \"num_unique_values\": 306,\n        \"samples\": [\n          373.0,\n          13797.0,\n          1500.0\n        ],\n        \"semantic_type\": \"\",\n        \"description\": \"\"\n      }\n    },\n    {\n      \"column\": \"district\",\n      \"properties\": {\n        \"dtype\": \"category\",\n        \"num_unique_values\": 18,\n        \"samples\": [\n          \"\\u00c9vora\",\n          \"Bragan\\u00e7a\",\n          \"Beja\"\n        ],\n        \"semantic_type\": \"\",\n        \"description\": \"\"\n      }\n    }\n  ]\n}"
            }
          },
          "metadata": {},
          "execution_count": 2
        }
      ],
      "source": [
        "file_path = '/content/Data_store.xlsx'\n",
        "\n",
        "df_stores = pd.read_excel(file_path)\n",
        "df_stores.head()"
      ]
    },
    {
      "cell_type": "code",
      "source": [
        "df_stores.info()"
      ],
      "metadata": {
        "colab": {
          "base_uri": "https://localhost:8080/"
        },
        "id": "_0Yr2c3wOZWS",
        "outputId": "f3f21e53-dcda-4977-bd66-d465de4a43d2"
      },
      "id": "_0Yr2c3wOZWS",
      "execution_count": 3,
      "outputs": [
        {
          "output_type": "stream",
          "name": "stdout",
          "text": [
            "<class 'pandas.core.frame.DataFrame'>\n",
            "RangeIndex: 342 entries, 0 to 341\n",
            "Data columns (total 4 columns):\n",
            " #   Column             Non-Null Count  Dtype  \n",
            "---  ------             --------------  -----  \n",
            " 0   idstore            342 non-null    int64  \n",
            " 1   type               342 non-null    object \n",
            " 2   selling_square_ft  311 non-null    float64\n",
            " 3   district           342 non-null    object \n",
            "dtypes: float64(1), int64(1), object(2)\n",
            "memory usage: 10.8+ KB\n"
          ]
        }
      ]
    },
    {
      "cell_type": "markdown",
      "source": [
        "##Data Cleaning, Transformation and Exploring"
      ],
      "metadata": {
        "id": "9x4zuX0PPRjh"
      },
      "id": "9x4zuX0PPRjh"
    },
    {
      "cell_type": "markdown",
      "source": [
        "###Missing Values"
      ],
      "metadata": {
        "id": "beeHcD4ZXHUI"
      },
      "id": "beeHcD4ZXHUI"
    },
    {
      "cell_type": "code",
      "source": [
        "# Verificaçao de missing values\n",
        "null_counts = df_stores.isna().sum()\n",
        "\n",
        "# Condição booleana: True se alguma variavel tiver nulos\n",
        "tem_nulos = null_counts.any()\n",
        "\n",
        "print(\"Nulos por coluna:\")\n",
        "print(null_counts)\n",
        "print(\"\\nAlguma coluna tem nulos?:\", tem_nulos)"
      ],
      "metadata": {
        "colab": {
          "base_uri": "https://localhost:8080/"
        },
        "id": "9SXgmgQASdMW",
        "outputId": "3907d3ac-ee90-4974-ee24-23ddccec43f1"
      },
      "id": "9SXgmgQASdMW",
      "execution_count": 4,
      "outputs": [
        {
          "output_type": "stream",
          "name": "stdout",
          "text": [
            "Nulos por coluna:\n",
            "idstore               0\n",
            "type                  0\n",
            "selling_square_ft    31\n",
            "district              0\n",
            "dtype: int64\n",
            "\n",
            "Alguma coluna tem nulos?: True\n"
          ]
        }
      ]
    },
    {
      "cell_type": "markdown",
      "source": [
        "###Type"
      ],
      "metadata": {
        "id": "K98w1YxxXSZU"
      },
      "id": "K98w1YxxXSZU"
    },
    {
      "cell_type": "markdown",
      "source": [
        "Variável qualitativa ordinal. Representa o tamanho de uma loja, atribuindo-lhe 3 dimensões distintas:Small, Medium e Large.\n",
        "\n",
        "Identificado 1 valor ausente, tratado com o moda do respetivo distrito."
      ],
      "metadata": {
        "id": "bghET_gCVaka"
      },
      "id": "bghET_gCVaka"
    },
    {
      "cell_type": "code",
      "source": [
        "# Normalização da coluna 'type' para string, para garantir consistencia dos dados.\n",
        "df_stores['type'] = (\n",
        "    df_stores['type']\n",
        "      .astype(str)\n",
        "      .str.strip()\n",
        "      .replace({'0': np.nan\n",
        "      })\n",
        ")\n",
        "\n",
        "print(df_stores['type'].unique())"
      ],
      "metadata": {
        "id": "AFUVbBBXiZnD",
        "colab": {
          "base_uri": "https://localhost:8080/"
        },
        "outputId": "ef2ee39f-1612-4780-c3e4-f6ec97e57ddd"
      },
      "id": "AFUVbBBXiZnD",
      "execution_count": 5,
      "outputs": [
        {
          "output_type": "stream",
          "name": "stdout",
          "text": [
            "['Large' 'Medium' 'Small' nan]\n"
          ]
        }
      ]
    },
    {
      "cell_type": "code",
      "execution_count": 6,
      "id": "F46M_t7TJrgo",
      "metadata": {
        "colab": {
          "base_uri": "https://localhost:8080/"
        },
        "id": "F46M_t7TJrgo",
        "outputId": "01eceb4b-d6a1-4bf2-b92e-38b6af3169e3"
      },
      "outputs": [
        {
          "output_type": "stream",
          "name": "stdout",
          "text": [
            "         district type_modo\n",
            "0          Aveiro     Small\n",
            "1            Beja     Small\n",
            "2           Braga    Medium\n",
            "3        Bragança     Small\n",
            "4  Castelo Branco    Medium\n"
          ]
        }
      ],
      "source": [
        "#Imputar com a moda do respetivo distrito.\n",
        "\n",
        "#Verificado valor mais frequente de type por distrito\n",
        "modos = (\n",
        "    df_stores.groupby('district')['type']\n",
        "      .agg(lambda x: x.mode().iloc[0] if not x.mode().empty else None)\n",
        "      .reset_index()\n",
        "      .rename(columns={'type': 'type_modo'})\n",
        ")\n",
        "\n",
        "print(modos.head())\n",
        "\n",
        "#Aplicar merge do df_stores com tabela de moda\n",
        "df_stores = df_stores.merge(modos, on='district', how='left')\n",
        "\n",
        "#Preencher type nulo com o moda do distrito\n",
        "df_stores['type'] = df_stores['type'].replace(\"0\", np.nan)\n",
        "df_stores['type'] = df_stores['type'].fillna(df_stores['type_modo'])\n",
        "\n",
        "#Fallback: se ainda restarem nulos, usar o moda global\n",
        "modo_global = df_stores['type'].mode().iloc[0]\n",
        "df_stores['type'] = df_stores['type'].fillna(modo_global)\n",
        "\n",
        "#Eliminar coluna auxiliar\n",
        "df_stores = df_stores.drop(columns=['type_modo'])"
      ]
    },
    {
      "cell_type": "code",
      "source": [
        "#Verificar missing values\n",
        "df_stores['selling_square_ft'].isna().sum()"
      ],
      "metadata": {
        "colab": {
          "base_uri": "https://localhost:8080/"
        },
        "id": "KWPvRSFbamMD",
        "outputId": "5b6b6ca2-8808-4a3d-a29b-5b964177aca5"
      },
      "id": "KWPvRSFbamMD",
      "execution_count": 91,
      "outputs": [
        {
          "output_type": "execute_result",
          "data": {
            "text/plain": [
              "np.int64(0)"
            ]
          },
          "metadata": {},
          "execution_count": 91
        }
      ]
    },
    {
      "cell_type": "markdown",
      "source": [
        "###Selling_square"
      ],
      "metadata": {
        "id": "KTB2hWhRYtqJ"
      },
      "id": "KTB2hWhRYtqJ"
    },
    {
      "cell_type": "markdown",
      "source": [
        "Variável quantitativa continua. Representa o tamanho de uma loja, em metros quadrados.\n",
        "\n",
        "Foram identificados 31 valores ausentes, preenchidos com a mediana do par: Type e district."
      ],
      "metadata": {
        "id": "D6FTTKXhWZNA"
      },
      "id": "D6FTTKXhWZNA"
    },
    {
      "cell_type": "code",
      "source": [
        "#Imputar a mediana do par (type, district).\n",
        "medianas = (\n",
        "    df_stores.groupby(['type', 'district'])['selling_square_ft']\n",
        "      .median()\n",
        "      .reset_index()\n",
        "      .rename(columns={'selling_square_ft': 'median_sqft'})\n",
        ")\n",
        "\n",
        "print(medianas.head())\n",
        "\n",
        "#Merge do df_stores original com a tabela de medianas\n",
        "df_stores = df_stores.merge(medianas, on=['type', 'district'], how='left')\n",
        "\n",
        "# ubstituir nulos pela mediana correspondente\n",
        "df_stores['selling_square_ft'] = df_stores['selling_square_ft'].fillna(df_stores['median_sqft'])\n",
        "\n",
        "#Eliminar coluna auxiliar\n",
        "df_stores = df_stores.drop(columns=['median_sqft'])\n"
      ],
      "metadata": {
        "colab": {
          "base_uri": "https://localhost:8080/"
        },
        "id": "XIX6MOb3W6Fz",
        "outputId": "8f476b82-f161-46ab-9e61-91667f28f0ed"
      },
      "id": "XIX6MOb3W6Fz",
      "execution_count": 8,
      "outputs": [
        {
          "output_type": "stream",
          "name": "stdout",
          "text": [
            "    type        district  median_sqft\n",
            "0  Large          Aveiro      12231.5\n",
            "1  Large            Beja      21275.0\n",
            "2  Large        Bragança      13435.0\n",
            "3  Large  Castelo Branco      21060.0\n",
            "4  Large         Coimbra      13774.0\n"
          ]
        }
      ]
    },
    {
      "cell_type": "code",
      "source": [
        "#Verificar missing values\n",
        "df_stores['selling_square_ft'].isna().sum()"
      ],
      "metadata": {
        "colab": {
          "base_uri": "https://localhost:8080/"
        },
        "id": "huPWuGHQagEH",
        "outputId": "f45c0e49-f7b6-40b2-fc9d-ef99d2135346"
      },
      "id": "huPWuGHQagEH",
      "execution_count": 9,
      "outputs": [
        {
          "output_type": "execute_result",
          "data": {
            "text/plain": [
              "np.int64(0)"
            ]
          },
          "metadata": {},
          "execution_count": 9
        }
      ]
    },
    {
      "cell_type": "markdown",
      "source": [
        "#Dataset Labels"
      ],
      "metadata": {
        "id": "f0BRdGb0QFRn"
      },
      "id": "f0BRdGb0QFRn"
    },
    {
      "cell_type": "markdown",
      "source": [
        "##Importar e visualizar ficheiro"
      ],
      "metadata": {
        "id": "xN9C6Bw5bhOR"
      },
      "id": "xN9C6Bw5bhOR"
    },
    {
      "cell_type": "code",
      "execution_count": 10,
      "id": "98dc4d3e",
      "metadata": {
        "id": "98dc4d3e"
      },
      "outputs": [],
      "source": [
        "file_path = '/content/Data_labels.xlsx'\n",
        "df=pd.read_excel(file_path)\n"
      ]
    },
    {
      "cell_type": "code",
      "source": [
        "#Merge da tabela Store com a tabela Labels\n",
        "\n",
        "df = df.merge(\n",
        "    df_stores,\n",
        "    how=\"left\",\n",
        "    on=\"idstore\"        # chave comum\n",
        ")"
      ],
      "metadata": {
        "id": "8HR1pDEggK2b"
      },
      "id": "8HR1pDEggK2b",
      "execution_count": 11,
      "outputs": []
    },
    {
      "cell_type": "code",
      "execution_count": 12,
      "id": "e8763ab0",
      "metadata": {
        "colab": {
          "base_uri": "https://localhost:8080/"
        },
        "id": "e8763ab0",
        "outputId": "4b09f8cf-9cf8-4255-9c19-322660219bfd"
      },
      "outputs": [
        {
          "output_type": "stream",
          "name": "stdout",
          "text": [
            "<class 'pandas.core.frame.DataFrame'>\n",
            "RangeIndex: 150054 entries, 0 to 150053\n",
            "Data columns (total 18 columns):\n",
            " #   Column              Non-Null Count   Dtype         \n",
            "---  ------              --------------   -----         \n",
            " 0   idstore             150054 non-null  int64         \n",
            " 1   sku                 150054 non-null  int64         \n",
            " 2   brand               150054 non-null  object        \n",
            " 3   oldpvp              150032 non-null  object        \n",
            " 4   new_pvp (discount)  150026 non-null  object        \n",
            " 5   labelqty            150054 non-null  int64         \n",
            " 6   weight (g)          150050 non-null  object        \n",
            " 7   Payment_method      150054 non-null  object        \n",
            " 8   Margin (%)          150054 non-null  int64         \n",
            " 9   Profit (€)          150054 non-null  float64       \n",
            " 10  perc_expiring_sku   149929 non-null  float64       \n",
            " 11  expiring_date       150054 non-null  object        \n",
            " 12  labelling_date      150054 non-null  datetime64[ns]\n",
            " 13  sell_date           80511 non-null   datetime64[ns]\n",
            " 14  sold                149940 non-null  float64       \n",
            " 15  type                150054 non-null  object        \n",
            " 16  selling_square_ft   150054 non-null  float64       \n",
            " 17  district            150054 non-null  object        \n",
            "dtypes: datetime64[ns](2), float64(4), int64(4), object(8)\n",
            "memory usage: 20.6+ MB\n"
          ]
        }
      ],
      "source": [
        "df.info()"
      ]
    },
    {
      "cell_type": "code",
      "execution_count": 13,
      "id": "8cbe5d9a",
      "metadata": {
        "colab": {
          "base_uri": "https://localhost:8080/",
          "height": 311
        },
        "id": "8cbe5d9a",
        "outputId": "fab37116-5fd8-475b-c0c8-50044f97633f"
      },
      "outputs": [
        {
          "output_type": "execute_result",
          "data": {
            "text/plain": [
              "   idstore  sku     brand oldpvp new_pvp (discount)  labelqty weight (g)  \\\n",
              "0        1    1  Marca  1   4.22        2.11 (0.50)         1        260   \n",
              "1        1    1   Marca 1   3.96        1.98 (0.50)         1        260   \n",
              "2        1    1  Marca  1   4.74        2.37 (0.50)         1        260   \n",
              "3        1    1   Marca 1    4.2         2.1 (0.50)         1        260   \n",
              "4        1    1  Marca  1   4.62        2.31 (0.50)         1        260   \n",
              "\n",
              "  Payment_method  Margin (%)  Profit (€)  perc_expiring_sku expiring_date  \\\n",
              "0           Card          16      0.3376           0.010050    03/10/2021   \n",
              "1                         16      0.3168           0.005025    02/10/2021   \n",
              "2           Cash          16      0.3792           0.010050    03/10/2021   \n",
              "3           Card          16      0.3360           0.010050    03/10/2021   \n",
              "4           Cash          16      0.3696           0.010050    03/10/2021   \n",
              "\n",
              "  labelling_date  sell_date  sold   type  selling_square_ft district  \n",
              "0     2021-10-01 2021-10-02   1.0  Large             4762.0    Évora  \n",
              "1     2021-10-01        NaT   0.0  Large             4762.0    Évora  \n",
              "2     2021-10-01 2021-10-03   1.0  Large             4762.0    Évora  \n",
              "3     2021-10-01 2021-10-02   1.0  Large             4762.0    Évora  \n",
              "4     2021-10-01 2021-10-03   NaN  Large             4762.0    Évora  "
            ],
            "text/html": [
              "\n",
              "  <div id=\"df-43f7a91b-d2d8-49f3-ac82-b7eab154c83a\" class=\"colab-df-container\">\n",
              "    <div>\n",
              "<style scoped>\n",
              "    .dataframe tbody tr th:only-of-type {\n",
              "        vertical-align: middle;\n",
              "    }\n",
              "\n",
              "    .dataframe tbody tr th {\n",
              "        vertical-align: top;\n",
              "    }\n",
              "\n",
              "    .dataframe thead th {\n",
              "        text-align: right;\n",
              "    }\n",
              "</style>\n",
              "<table border=\"1\" class=\"dataframe\">\n",
              "  <thead>\n",
              "    <tr style=\"text-align: right;\">\n",
              "      <th></th>\n",
              "      <th>idstore</th>\n",
              "      <th>sku</th>\n",
              "      <th>brand</th>\n",
              "      <th>oldpvp</th>\n",
              "      <th>new_pvp (discount)</th>\n",
              "      <th>labelqty</th>\n",
              "      <th>weight (g)</th>\n",
              "      <th>Payment_method</th>\n",
              "      <th>Margin (%)</th>\n",
              "      <th>Profit (€)</th>\n",
              "      <th>perc_expiring_sku</th>\n",
              "      <th>expiring_date</th>\n",
              "      <th>labelling_date</th>\n",
              "      <th>sell_date</th>\n",
              "      <th>sold</th>\n",
              "      <th>type</th>\n",
              "      <th>selling_square_ft</th>\n",
              "      <th>district</th>\n",
              "    </tr>\n",
              "  </thead>\n",
              "  <tbody>\n",
              "    <tr>\n",
              "      <th>0</th>\n",
              "      <td>1</td>\n",
              "      <td>1</td>\n",
              "      <td>Marca  1</td>\n",
              "      <td>4.22</td>\n",
              "      <td>2.11 (0.50)</td>\n",
              "      <td>1</td>\n",
              "      <td>260</td>\n",
              "      <td>Card</td>\n",
              "      <td>16</td>\n",
              "      <td>0.3376</td>\n",
              "      <td>0.010050</td>\n",
              "      <td>03/10/2021</td>\n",
              "      <td>2021-10-01</td>\n",
              "      <td>2021-10-02</td>\n",
              "      <td>1.0</td>\n",
              "      <td>Large</td>\n",
              "      <td>4762.0</td>\n",
              "      <td>Évora</td>\n",
              "    </tr>\n",
              "    <tr>\n",
              "      <th>1</th>\n",
              "      <td>1</td>\n",
              "      <td>1</td>\n",
              "      <td>Marca 1</td>\n",
              "      <td>3.96</td>\n",
              "      <td>1.98 (0.50)</td>\n",
              "      <td>1</td>\n",
              "      <td>260</td>\n",
              "      <td></td>\n",
              "      <td>16</td>\n",
              "      <td>0.3168</td>\n",
              "      <td>0.005025</td>\n",
              "      <td>02/10/2021</td>\n",
              "      <td>2021-10-01</td>\n",
              "      <td>NaT</td>\n",
              "      <td>0.0</td>\n",
              "      <td>Large</td>\n",
              "      <td>4762.0</td>\n",
              "      <td>Évora</td>\n",
              "    </tr>\n",
              "    <tr>\n",
              "      <th>2</th>\n",
              "      <td>1</td>\n",
              "      <td>1</td>\n",
              "      <td>Marca  1</td>\n",
              "      <td>4.74</td>\n",
              "      <td>2.37 (0.50)</td>\n",
              "      <td>1</td>\n",
              "      <td>260</td>\n",
              "      <td>Cash</td>\n",
              "      <td>16</td>\n",
              "      <td>0.3792</td>\n",
              "      <td>0.010050</td>\n",
              "      <td>03/10/2021</td>\n",
              "      <td>2021-10-01</td>\n",
              "      <td>2021-10-03</td>\n",
              "      <td>1.0</td>\n",
              "      <td>Large</td>\n",
              "      <td>4762.0</td>\n",
              "      <td>Évora</td>\n",
              "    </tr>\n",
              "    <tr>\n",
              "      <th>3</th>\n",
              "      <td>1</td>\n",
              "      <td>1</td>\n",
              "      <td>Marca 1</td>\n",
              "      <td>4.2</td>\n",
              "      <td>2.1 (0.50)</td>\n",
              "      <td>1</td>\n",
              "      <td>260</td>\n",
              "      <td>Card</td>\n",
              "      <td>16</td>\n",
              "      <td>0.3360</td>\n",
              "      <td>0.010050</td>\n",
              "      <td>03/10/2021</td>\n",
              "      <td>2021-10-01</td>\n",
              "      <td>2021-10-02</td>\n",
              "      <td>1.0</td>\n",
              "      <td>Large</td>\n",
              "      <td>4762.0</td>\n",
              "      <td>Évora</td>\n",
              "    </tr>\n",
              "    <tr>\n",
              "      <th>4</th>\n",
              "      <td>1</td>\n",
              "      <td>1</td>\n",
              "      <td>Marca  1</td>\n",
              "      <td>4.62</td>\n",
              "      <td>2.31 (0.50)</td>\n",
              "      <td>1</td>\n",
              "      <td>260</td>\n",
              "      <td>Cash</td>\n",
              "      <td>16</td>\n",
              "      <td>0.3696</td>\n",
              "      <td>0.010050</td>\n",
              "      <td>03/10/2021</td>\n",
              "      <td>2021-10-01</td>\n",
              "      <td>2021-10-03</td>\n",
              "      <td>NaN</td>\n",
              "      <td>Large</td>\n",
              "      <td>4762.0</td>\n",
              "      <td>Évora</td>\n",
              "    </tr>\n",
              "  </tbody>\n",
              "</table>\n",
              "</div>\n",
              "    <div class=\"colab-df-buttons\">\n",
              "\n",
              "  <div class=\"colab-df-container\">\n",
              "    <button class=\"colab-df-convert\" onclick=\"convertToInteractive('df-43f7a91b-d2d8-49f3-ac82-b7eab154c83a')\"\n",
              "            title=\"Convert this dataframe to an interactive table.\"\n",
              "            style=\"display:none;\">\n",
              "\n",
              "  <svg xmlns=\"http://www.w3.org/2000/svg\" height=\"24px\" viewBox=\"0 -960 960 960\">\n",
              "    <path d=\"M120-120v-720h720v720H120Zm60-500h600v-160H180v160Zm220 220h160v-160H400v160Zm0 220h160v-160H400v160ZM180-400h160v-160H180v160Zm440 0h160v-160H620v160ZM180-180h160v-160H180v160Zm440 0h160v-160H620v160Z\"/>\n",
              "  </svg>\n",
              "    </button>\n",
              "\n",
              "  <style>\n",
              "    .colab-df-container {\n",
              "      display:flex;\n",
              "      gap: 12px;\n",
              "    }\n",
              "\n",
              "    .colab-df-convert {\n",
              "      background-color: #E8F0FE;\n",
              "      border: none;\n",
              "      border-radius: 50%;\n",
              "      cursor: pointer;\n",
              "      display: none;\n",
              "      fill: #1967D2;\n",
              "      height: 32px;\n",
              "      padding: 0 0 0 0;\n",
              "      width: 32px;\n",
              "    }\n",
              "\n",
              "    .colab-df-convert:hover {\n",
              "      background-color: #E2EBFA;\n",
              "      box-shadow: 0px 1px 2px rgba(60, 64, 67, 0.3), 0px 1px 3px 1px rgba(60, 64, 67, 0.15);\n",
              "      fill: #174EA6;\n",
              "    }\n",
              "\n",
              "    .colab-df-buttons div {\n",
              "      margin-bottom: 4px;\n",
              "    }\n",
              "\n",
              "    [theme=dark] .colab-df-convert {\n",
              "      background-color: #3B4455;\n",
              "      fill: #D2E3FC;\n",
              "    }\n",
              "\n",
              "    [theme=dark] .colab-df-convert:hover {\n",
              "      background-color: #434B5C;\n",
              "      box-shadow: 0px 1px 3px 1px rgba(0, 0, 0, 0.15);\n",
              "      filter: drop-shadow(0px 1px 2px rgba(0, 0, 0, 0.3));\n",
              "      fill: #FFFFFF;\n",
              "    }\n",
              "  </style>\n",
              "\n",
              "    <script>\n",
              "      const buttonEl =\n",
              "        document.querySelector('#df-43f7a91b-d2d8-49f3-ac82-b7eab154c83a button.colab-df-convert');\n",
              "      buttonEl.style.display =\n",
              "        google.colab.kernel.accessAllowed ? 'block' : 'none';\n",
              "\n",
              "      async function convertToInteractive(key) {\n",
              "        const element = document.querySelector('#df-43f7a91b-d2d8-49f3-ac82-b7eab154c83a');\n",
              "        const dataTable =\n",
              "          await google.colab.kernel.invokeFunction('convertToInteractive',\n",
              "                                                    [key], {});\n",
              "        if (!dataTable) return;\n",
              "\n",
              "        const docLinkHtml = 'Like what you see? Visit the ' +\n",
              "          '<a target=\"_blank\" href=https://colab.research.google.com/notebooks/data_table.ipynb>data table notebook</a>'\n",
              "          + ' to learn more about interactive tables.';\n",
              "        element.innerHTML = '';\n",
              "        dataTable['output_type'] = 'display_data';\n",
              "        await google.colab.output.renderOutput(dataTable, element);\n",
              "        const docLink = document.createElement('div');\n",
              "        docLink.innerHTML = docLinkHtml;\n",
              "        element.appendChild(docLink);\n",
              "      }\n",
              "    </script>\n",
              "  </div>\n",
              "\n",
              "\n",
              "    <div id=\"df-3900278e-3c30-4d38-99b7-b3fdfc20281d\">\n",
              "      <button class=\"colab-df-quickchart\" onclick=\"quickchart('df-3900278e-3c30-4d38-99b7-b3fdfc20281d')\"\n",
              "                title=\"Suggest charts\"\n",
              "                style=\"display:none;\">\n",
              "\n",
              "<svg xmlns=\"http://www.w3.org/2000/svg\" height=\"24px\"viewBox=\"0 0 24 24\"\n",
              "     width=\"24px\">\n",
              "    <g>\n",
              "        <path d=\"M19 3H5c-1.1 0-2 .9-2 2v14c0 1.1.9 2 2 2h14c1.1 0 2-.9 2-2V5c0-1.1-.9-2-2-2zM9 17H7v-7h2v7zm4 0h-2V7h2v10zm4 0h-2v-4h2v4z\"/>\n",
              "    </g>\n",
              "</svg>\n",
              "      </button>\n",
              "\n",
              "<style>\n",
              "  .colab-df-quickchart {\n",
              "      --bg-color: #E8F0FE;\n",
              "      --fill-color: #1967D2;\n",
              "      --hover-bg-color: #E2EBFA;\n",
              "      --hover-fill-color: #174EA6;\n",
              "      --disabled-fill-color: #AAA;\n",
              "      --disabled-bg-color: #DDD;\n",
              "  }\n",
              "\n",
              "  [theme=dark] .colab-df-quickchart {\n",
              "      --bg-color: #3B4455;\n",
              "      --fill-color: #D2E3FC;\n",
              "      --hover-bg-color: #434B5C;\n",
              "      --hover-fill-color: #FFFFFF;\n",
              "      --disabled-bg-color: #3B4455;\n",
              "      --disabled-fill-color: #666;\n",
              "  }\n",
              "\n",
              "  .colab-df-quickchart {\n",
              "    background-color: var(--bg-color);\n",
              "    border: none;\n",
              "    border-radius: 50%;\n",
              "    cursor: pointer;\n",
              "    display: none;\n",
              "    fill: var(--fill-color);\n",
              "    height: 32px;\n",
              "    padding: 0;\n",
              "    width: 32px;\n",
              "  }\n",
              "\n",
              "  .colab-df-quickchart:hover {\n",
              "    background-color: var(--hover-bg-color);\n",
              "    box-shadow: 0 1px 2px rgba(60, 64, 67, 0.3), 0 1px 3px 1px rgba(60, 64, 67, 0.15);\n",
              "    fill: var(--button-hover-fill-color);\n",
              "  }\n",
              "\n",
              "  .colab-df-quickchart-complete:disabled,\n",
              "  .colab-df-quickchart-complete:disabled:hover {\n",
              "    background-color: var(--disabled-bg-color);\n",
              "    fill: var(--disabled-fill-color);\n",
              "    box-shadow: none;\n",
              "  }\n",
              "\n",
              "  .colab-df-spinner {\n",
              "    border: 2px solid var(--fill-color);\n",
              "    border-color: transparent;\n",
              "    border-bottom-color: var(--fill-color);\n",
              "    animation:\n",
              "      spin 1s steps(1) infinite;\n",
              "  }\n",
              "\n",
              "  @keyframes spin {\n",
              "    0% {\n",
              "      border-color: transparent;\n",
              "      border-bottom-color: var(--fill-color);\n",
              "      border-left-color: var(--fill-color);\n",
              "    }\n",
              "    20% {\n",
              "      border-color: transparent;\n",
              "      border-left-color: var(--fill-color);\n",
              "      border-top-color: var(--fill-color);\n",
              "    }\n",
              "    30% {\n",
              "      border-color: transparent;\n",
              "      border-left-color: var(--fill-color);\n",
              "      border-top-color: var(--fill-color);\n",
              "      border-right-color: var(--fill-color);\n",
              "    }\n",
              "    40% {\n",
              "      border-color: transparent;\n",
              "      border-right-color: var(--fill-color);\n",
              "      border-top-color: var(--fill-color);\n",
              "    }\n",
              "    60% {\n",
              "      border-color: transparent;\n",
              "      border-right-color: var(--fill-color);\n",
              "    }\n",
              "    80% {\n",
              "      border-color: transparent;\n",
              "      border-right-color: var(--fill-color);\n",
              "      border-bottom-color: var(--fill-color);\n",
              "    }\n",
              "    90% {\n",
              "      border-color: transparent;\n",
              "      border-bottom-color: var(--fill-color);\n",
              "    }\n",
              "  }\n",
              "</style>\n",
              "\n",
              "      <script>\n",
              "        async function quickchart(key) {\n",
              "          const quickchartButtonEl =\n",
              "            document.querySelector('#' + key + ' button');\n",
              "          quickchartButtonEl.disabled = true;  // To prevent multiple clicks.\n",
              "          quickchartButtonEl.classList.add('colab-df-spinner');\n",
              "          try {\n",
              "            const charts = await google.colab.kernel.invokeFunction(\n",
              "                'suggestCharts', [key], {});\n",
              "          } catch (error) {\n",
              "            console.error('Error during call to suggestCharts:', error);\n",
              "          }\n",
              "          quickchartButtonEl.classList.remove('colab-df-spinner');\n",
              "          quickchartButtonEl.classList.add('colab-df-quickchart-complete');\n",
              "        }\n",
              "        (() => {\n",
              "          let quickchartButtonEl =\n",
              "            document.querySelector('#df-3900278e-3c30-4d38-99b7-b3fdfc20281d button');\n",
              "          quickchartButtonEl.style.display =\n",
              "            google.colab.kernel.accessAllowed ? 'block' : 'none';\n",
              "        })();\n",
              "      </script>\n",
              "    </div>\n",
              "\n",
              "    </div>\n",
              "  </div>\n"
            ],
            "application/vnd.google.colaboratory.intrinsic+json": {
              "type": "dataframe",
              "variable_name": "df"
            }
          },
          "metadata": {},
          "execution_count": 13
        }
      ],
      "source": [
        "df.head()"
      ]
    },
    {
      "cell_type": "code",
      "source": [
        "#Conversão para os types ais apropriados\n",
        "df = df.convert_dtypes()"
      ],
      "metadata": {
        "id": "hJJ5nUnDf4mh"
      },
      "id": "hJJ5nUnDf4mh",
      "execution_count": 14,
      "outputs": []
    },
    {
      "cell_type": "code",
      "source": [
        "df.info()"
      ],
      "metadata": {
        "colab": {
          "base_uri": "https://localhost:8080/"
        },
        "id": "dxqu77rBgl8r",
        "outputId": "a6addc27-9667-4d19-b582-28fa79275557"
      },
      "id": "dxqu77rBgl8r",
      "execution_count": 15,
      "outputs": [
        {
          "output_type": "stream",
          "name": "stdout",
          "text": [
            "<class 'pandas.core.frame.DataFrame'>\n",
            "RangeIndex: 150054 entries, 0 to 150053\n",
            "Data columns (total 18 columns):\n",
            " #   Column              Non-Null Count   Dtype         \n",
            "---  ------              --------------   -----         \n",
            " 0   idstore             150054 non-null  Int64         \n",
            " 1   sku                 150054 non-null  Int64         \n",
            " 2   brand               150054 non-null  string        \n",
            " 3   oldpvp              150032 non-null  object        \n",
            " 4   new_pvp (discount)  150026 non-null  string        \n",
            " 5   labelqty            150054 non-null  Int64         \n",
            " 6   weight (g)          150050 non-null  object        \n",
            " 7   Payment_method      150054 non-null  string        \n",
            " 8   Margin (%)          150054 non-null  Int64         \n",
            " 9   Profit (€)          150054 non-null  Float64       \n",
            " 10  perc_expiring_sku   149929 non-null  Float64       \n",
            " 11  expiring_date       150054 non-null  string        \n",
            " 12  labelling_date      150054 non-null  datetime64[ns]\n",
            " 13  sell_date           80511 non-null   datetime64[ns]\n",
            " 14  sold                149940 non-null  Int64         \n",
            " 15  type                150054 non-null  string        \n",
            " 16  selling_square_ft   150054 non-null  Float64       \n",
            " 17  district            150054 non-null  string        \n",
            "dtypes: Float64(3), Int64(5), datetime64[ns](2), object(2), string(6)\n",
            "memory usage: 21.8+ MB\n"
          ]
        }
      ]
    },
    {
      "cell_type": "markdown",
      "id": "1c809aa6",
      "metadata": {
        "id": "1c809aa6"
      },
      "source": [
        "##Data Cleaning, Transformation and Exploring\n"
      ]
    },
    {
      "cell_type": "markdown",
      "source": [
        "###Brand"
      ],
      "metadata": {
        "id": "95ciDJtAjfug"
      },
      "id": "95ciDJtAjfug"
    },
    {
      "cell_type": "markdown",
      "source": [
        "Variável qualitativa categórica, representa a classificação da marca do SKU em questão.\n",
        "\n",
        "Temos 42 marcas distintas.\n",
        "\n",
        "Não existem valores ausentes."
      ],
      "metadata": {
        "id": "D9gMhMmN03Jc"
      },
      "id": "D9gMhMmN03Jc"
    },
    {
      "cell_type": "code",
      "execution_count": 16,
      "id": "23EEVdUwn53Q",
      "metadata": {
        "colab": {
          "base_uri": "https://localhost:8080/",
          "height": 398
        },
        "id": "23EEVdUwn53Q",
        "outputId": "7cdb3930-4675-4a1b-d06d-2482c4feb82d"
      },
      "outputs": [
        {
          "output_type": "execute_result",
          "data": {
            "text/plain": [
              "58741      marca 15\n",
              "128141    marca  15\n",
              "13495      Marca 12\n",
              "140251      marca 2\n",
              "113160     marca  2\n",
              "12015        Marca7\n",
              "42814       Marca 2\n",
              "65143     marca   2\n",
              "5402         marca2\n",
              "35983       marca 2\n",
              "Name: brand, dtype: string"
            ],
            "text/html": [
              "<div>\n",
              "<style scoped>\n",
              "    .dataframe tbody tr th:only-of-type {\n",
              "        vertical-align: middle;\n",
              "    }\n",
              "\n",
              "    .dataframe tbody tr th {\n",
              "        vertical-align: top;\n",
              "    }\n",
              "\n",
              "    .dataframe thead th {\n",
              "        text-align: right;\n",
              "    }\n",
              "</style>\n",
              "<table border=\"1\" class=\"dataframe\">\n",
              "  <thead>\n",
              "    <tr style=\"text-align: right;\">\n",
              "      <th></th>\n",
              "      <th>brand</th>\n",
              "    </tr>\n",
              "  </thead>\n",
              "  <tbody>\n",
              "    <tr>\n",
              "      <th>58741</th>\n",
              "      <td>marca 15</td>\n",
              "    </tr>\n",
              "    <tr>\n",
              "      <th>128141</th>\n",
              "      <td>marca  15</td>\n",
              "    </tr>\n",
              "    <tr>\n",
              "      <th>13495</th>\n",
              "      <td>Marca 12</td>\n",
              "    </tr>\n",
              "    <tr>\n",
              "      <th>140251</th>\n",
              "      <td>marca 2</td>\n",
              "    </tr>\n",
              "    <tr>\n",
              "      <th>113160</th>\n",
              "      <td>marca  2</td>\n",
              "    </tr>\n",
              "    <tr>\n",
              "      <th>12015</th>\n",
              "      <td>Marca7</td>\n",
              "    </tr>\n",
              "    <tr>\n",
              "      <th>42814</th>\n",
              "      <td>Marca 2</td>\n",
              "    </tr>\n",
              "    <tr>\n",
              "      <th>65143</th>\n",
              "      <td>marca   2</td>\n",
              "    </tr>\n",
              "    <tr>\n",
              "      <th>5402</th>\n",
              "      <td>marca2</td>\n",
              "    </tr>\n",
              "    <tr>\n",
              "      <th>35983</th>\n",
              "      <td>marca 2</td>\n",
              "    </tr>\n",
              "  </tbody>\n",
              "</table>\n",
              "</div><br><label><b>dtype:</b> string</label>"
            ]
          },
          "metadata": {},
          "execution_count": 16
        }
      ],
      "source": [
        "#Visualizar dados\n",
        "df['brand'].sample(10)"
      ]
    },
    {
      "cell_type": "code",
      "execution_count": 17,
      "id": "8WHQ_inhoJZV",
      "metadata": {
        "colab": {
          "base_uri": "https://localhost:8080/"
        },
        "id": "8WHQ_inhoJZV",
        "outputId": "9d06bc8b-9f1f-45e1-bc58-9c61f69fea64"
      },
      "outputs": [
        {
          "output_type": "execute_result",
          "data": {
            "text/plain": [
              "np.int64(0)"
            ]
          },
          "metadata": {},
          "execution_count": 17
        }
      ],
      "source": [
        "#Veriricar missing values\n",
        "df['brand'].isnull().sum()"
      ]
    },
    {
      "cell_type": "code",
      "execution_count": 18,
      "id": "_PQh73QMoLZS",
      "metadata": {
        "id": "_PQh73QMoLZS"
      },
      "outputs": [],
      "source": [
        "def clean_brand(brand):\n",
        "    if pd.isna(brand):\n",
        "        return brand\n",
        "    # 1. Uppercase\n",
        "    brand = brand.upper()\n",
        "    # 2. Remover espaços extras\n",
        "    brand = \" \".join(brand.split())\n",
        "    # 3. Garantir espaço entre letras e números (MARCA21 -> MARCA 21)\n",
        "    brand = re.sub(r'([A-Z])(\\d+)', r'\\1 \\2', brand)\n",
        "    # 4. Capitalizar para \"Marca X\"\n",
        "    brand = brand.title()\n",
        "\n",
        "    return brand"
      ]
    },
    {
      "cell_type": "code",
      "execution_count": 19,
      "id": "GArKy81EoMsa",
      "metadata": {
        "colab": {
          "base_uri": "https://localhost:8080/"
        },
        "id": "GArKy81EoMsa",
        "outputId": "9a48ce0d-d3fb-4975-c3cd-2948dceedd2c"
      },
      "outputs": [
        {
          "output_type": "stream",
          "name": "stdout",
          "text": [
            "42\n",
            "['Marca 1' 'Marca 2' 'Marca 3' 'Marca 4' 'Marca 5' 'Marca 6' 'Marca 7'\n",
            " 'Marca 8' 'Marca 9' 'Marca 10' 'Marca 11' 'Marca 12' 'Marca 13'\n",
            " 'Marca 14' 'Marca 15' 'Marca 16' 'Marca 17' 'Marca 18' 'Marca 19'\n",
            " 'Marca 20' 'Marca 21' 'Marca 22' 'Marca 23' 'Marca 24' 'Marca 25'\n",
            " 'Marca 26' 'Marca 27' 'Marca 28' 'Marca 29' 'Marca 30' 'Marca 31'\n",
            " 'Marca 32' 'Marca 33' 'Marca 34' 'Marca 35' 'Marca 36' 'Marca 37'\n",
            " 'Marca 38' 'Marca 39' 'Marca 40' 'Marca 41' 'Marca 42']\n"
          ]
        }
      ],
      "source": [
        "#Validação\n",
        "df['brand'] = df['brand'].apply(clean_brand)\n",
        "df['brand'].unique()\n",
        "\n",
        "print(df['brand'].nunique())\n",
        "print(df['brand'].unique())"
      ]
    },
    {
      "cell_type": "markdown",
      "id": "e0f8f7e5",
      "metadata": {
        "id": "e0f8f7e5"
      },
      "source": [
        "### oldpvp"
      ]
    },
    {
      "cell_type": "markdown",
      "source": [
        "Variável quantitativa contínua, representa o preço do produto, antes de ser aplicado qualquer desconto.\n",
        "\n",
        "Identificados 22 valores ausentes.Tratamento: Preenchimento e correções após tratamento da variável newpvp (Discount). Preenchidos com base no cálculo entre estas duas."
      ],
      "metadata": {
        "id": "lbGe-Sr30-za"
      },
      "id": "lbGe-Sr30-za"
    },
    {
      "cell_type": "code",
      "source": [
        "df['oldpvp'].sample(10)"
      ],
      "metadata": {
        "colab": {
          "base_uri": "https://localhost:8080/",
          "height": 398
        },
        "id": "ztRLVFL4lk0y",
        "outputId": "9c52c46b-8806-4ea3-e63a-da7332c40099"
      },
      "id": "ztRLVFL4lk0y",
      "execution_count": 20,
      "outputs": [
        {
          "output_type": "execute_result",
          "data": {
            "text/plain": [
              "43983     1.49\n",
              "55161     1.99\n",
              "92169     1.79\n",
              "16290     0.69\n",
              "52993     0.95\n",
              "26935     1,99\n",
              "101881    1.59\n",
              "66176     0.99\n",
              "123183    1,19\n",
              "34048     1,19\n",
              "Name: oldpvp, dtype: object"
            ],
            "text/html": [
              "<div>\n",
              "<style scoped>\n",
              "    .dataframe tbody tr th:only-of-type {\n",
              "        vertical-align: middle;\n",
              "    }\n",
              "\n",
              "    .dataframe tbody tr th {\n",
              "        vertical-align: top;\n",
              "    }\n",
              "\n",
              "    .dataframe thead th {\n",
              "        text-align: right;\n",
              "    }\n",
              "</style>\n",
              "<table border=\"1\" class=\"dataframe\">\n",
              "  <thead>\n",
              "    <tr style=\"text-align: right;\">\n",
              "      <th></th>\n",
              "      <th>oldpvp</th>\n",
              "    </tr>\n",
              "  </thead>\n",
              "  <tbody>\n",
              "    <tr>\n",
              "      <th>43983</th>\n",
              "      <td>1.49</td>\n",
              "    </tr>\n",
              "    <tr>\n",
              "      <th>55161</th>\n",
              "      <td>1.99</td>\n",
              "    </tr>\n",
              "    <tr>\n",
              "      <th>92169</th>\n",
              "      <td>1.79</td>\n",
              "    </tr>\n",
              "    <tr>\n",
              "      <th>16290</th>\n",
              "      <td>0.69</td>\n",
              "    </tr>\n",
              "    <tr>\n",
              "      <th>52993</th>\n",
              "      <td>0.95</td>\n",
              "    </tr>\n",
              "    <tr>\n",
              "      <th>26935</th>\n",
              "      <td>1,99</td>\n",
              "    </tr>\n",
              "    <tr>\n",
              "      <th>101881</th>\n",
              "      <td>1.59</td>\n",
              "    </tr>\n",
              "    <tr>\n",
              "      <th>66176</th>\n",
              "      <td>0.99</td>\n",
              "    </tr>\n",
              "    <tr>\n",
              "      <th>123183</th>\n",
              "      <td>1,19</td>\n",
              "    </tr>\n",
              "    <tr>\n",
              "      <th>34048</th>\n",
              "      <td>1,19</td>\n",
              "    </tr>\n",
              "  </tbody>\n",
              "</table>\n",
              "</div><br><label><b>dtype:</b> object</label>"
            ]
          },
          "metadata": {},
          "execution_count": 20
        }
      ]
    },
    {
      "cell_type": "code",
      "source": [
        "#Veriricar missing values\n",
        "df['oldpvp'].isnull().sum()\n",
        "\n",
        "#tratamento efetuado apos correçao de new_pvp e discount"
      ],
      "metadata": {
        "colab": {
          "base_uri": "https://localhost:8080/"
        },
        "id": "rxSo8ChbnS_4",
        "outputId": "39e5f00e-19dd-422a-cfda-e52e8802efbb"
      },
      "id": "rxSo8ChbnS_4",
      "execution_count": 21,
      "outputs": [
        {
          "output_type": "execute_result",
          "data": {
            "text/plain": [
              "np.int64(22)"
            ]
          },
          "metadata": {},
          "execution_count": 21
        }
      ]
    },
    {
      "cell_type": "code",
      "execution_count": 22,
      "id": "sg6rgu8_Jsu4",
      "metadata": {
        "colab": {
          "base_uri": "https://localhost:8080/"
        },
        "id": "sg6rgu8_Jsu4",
        "outputId": "f97dbe32-b33f-43b9-b1f7-9f66af589810"
      },
      "outputs": [
        {
          "output_type": "execute_result",
          "data": {
            "text/plain": [
              "array([4.22, 3.96, 4.74, 4.2, 4.62, 3.42, 3.62, 4.38, 5.23, 5.89, 3.78,\n",
              "       4.76, 3.19, nan, '3,19', 2.65, 2.79, '2,79', 500, 46, '2,99',\n",
              "       '1,39', 1.39, 2.19, '2,19', 1.19, '1,19', 1.25, '1,25', 3.99,\n",
              "       '4,29', 1.99, '1,99', '0,79', 0.79, 1.29, 1.79, '1,79', '1,15',\n",
              "       '2,69', 2.49, '2,49', 2.59, 4.39, '4,59', '1,49', 0.99, '0,99',\n",
              "       2.99, 4.99, '4,99', 17.99, 1.49, '1,29', '2,39', 0.69, '0,69',\n",
              "       0.76, 2.95, 1.59, '1,59', 1.95, '1,95', 1.89, '1,89', 3.29, '2,80',\n",
              "       '3,99', '2,59', 4.15, 2.69, 1.69, '1,69', 4.59, 3.39, '3,24', 3.24,\n",
              "       2.89, '2,89', 1.75, '1,75', 2.29, '2,29', 999, 0.95, '0,95', 1.54,\n",
              "       '1,54', '1,09', 3.49, '3,49', 0.96, 0.98, 0.97, 1, 4.29, 1.09,\n",
              "       2.75, '1,05', 3.35, 0.89, 1.15, 2.39, '0,85', 0.85, 1.55, 1.12,\n",
              "       1.47, 1.22, 1.71, 1.36, 1.68, 1.05, 1.78, 1.5, 1.61, 1.33, 1.57,\n",
              "       1.26, 1.43, 1.08, 2.1, 0.91, 1.4, 2.03, 0.84, 0.94, 2.5, '2,50',\n",
              "       '2,09', 14.99, 0.59, '0,59', '1,33', 1.65, 3.8, 2.45, '4,89', 3.09,\n",
              "       1.9, 1.44], dtype=object)"
            ]
          },
          "metadata": {},
          "execution_count": 22
        }
      ],
      "source": [
        "df['oldpvp'].unique()"
      ]
    },
    {
      "cell_type": "code",
      "execution_count": 23,
      "id": "duBWk9l7I01J",
      "metadata": {
        "colab": {
          "base_uri": "https://localhost:8080/"
        },
        "id": "duBWk9l7I01J",
        "outputId": "9a6d8e68-5fee-4cb8-e29f-2e6c93d27561"
      },
      "outputs": [
        {
          "output_type": "stream",
          "name": "stdout",
          "text": [
            "Valores únicos oldpvp:\n",
            "[4.220e+00 3.960e+00 4.740e+00 4.200e+00 4.620e+00 3.420e+00 3.620e+00\n",
            " 4.380e+00 5.230e+00 5.890e+00 3.780e+00 4.760e+00 3.190e+00       nan\n",
            " 2.650e+00 2.790e+00 5.000e+02 4.600e+01 2.990e+00 1.390e+00 2.190e+00\n",
            " 1.190e+00 1.250e+00 3.990e+00 4.290e+00 1.990e+00 7.900e-01 1.290e+00\n",
            " 1.790e+00 1.150e+00 2.690e+00 2.490e+00 2.590e+00 4.390e+00 4.590e+00\n",
            " 1.490e+00 9.900e-01 4.990e+00 1.799e+01 2.390e+00 6.900e-01 7.600e-01\n",
            " 2.950e+00 1.590e+00 1.950e+00 1.890e+00 3.290e+00 2.800e+00 4.150e+00\n",
            " 1.690e+00 3.390e+00 3.240e+00 2.890e+00 1.750e+00 2.290e+00 9.990e+02\n",
            " 9.500e-01 1.540e+00 1.090e+00 3.490e+00 9.600e-01 9.800e-01 9.700e-01\n",
            " 1.000e+00 2.750e+00 1.050e+00 3.350e+00 8.900e-01 8.500e-01 1.550e+00\n",
            " 1.120e+00 1.470e+00 1.220e+00 1.710e+00 1.360e+00 1.680e+00 1.780e+00\n",
            " 1.500e+00 1.610e+00 1.330e+00 1.570e+00 1.260e+00 1.430e+00 1.080e+00\n",
            " 2.100e+00 9.100e-01 1.400e+00 2.030e+00 8.400e-01 9.400e-01 2.500e+00\n",
            " 2.090e+00 1.499e+01 5.900e-01 1.650e+00 3.800e+00 2.450e+00 4.890e+00\n",
            " 3.090e+00 1.900e+00 1.440e+00]\n"
          ]
        }
      ],
      "source": [
        "#Normalizar separadores decimais\n",
        "def normalize_decimal(x):\n",
        "    if pd.isna(x):\n",
        "        return x\n",
        "    # garantir que é string\n",
        "    x = str(x).strip()\n",
        "    # trocar vírgula por ponto\n",
        "    x = x.replace(\",\", \".\")\n",
        "    return x\n",
        "\n",
        "#Aplicar a transformação decimal na coluna oldpvp\n",
        "df[\"oldpvp\"] = df[\"oldpvp\"].apply(normalize_decimal)\n",
        "\n",
        "#Converter para numérico\n",
        "df[\"oldpvp\"] = pd.to_numeric(df[\"oldpvp\"], errors=\"coerce\")\n",
        "\n",
        "#Validar valores únicos após a limpeza\n",
        "print(\"Valores únicos oldpvp:\")\n",
        "print(df[\"oldpvp\"].unique())\n",
        "\n"
      ]
    },
    {
      "cell_type": "markdown",
      "id": "Tq7ZweZ3Oa2H",
      "metadata": {
        "id": "Tq7ZweZ3Oa2H"
      },
      "source": [
        "### new_pvp (discount)"
      ]
    },
    {
      "cell_type": "markdown",
      "source": [
        "Variavel quantitativa contínua. Representa o preço de um produto após aplicação de desconto + a percentagem de desconto aplicado.\n",
        "\n",
        "Identificado que variável contém new_pvp + discount na mesma célula.\n",
        "\n",
        "Tratamento: separação dos valores para colunas distintas (2 variaveis novas - newpvp + discount)\n",
        "\n",
        "Verificados 28 valores ausentes: preenchidos através do cálculo entre Profit e Margin"
      ],
      "metadata": {
        "id": "qkFfInDbXaPC"
      },
      "id": "qkFfInDbXaPC"
    },
    {
      "cell_type": "code",
      "source": [
        "df['new_pvp (discount)'].sample(10)"
      ],
      "metadata": {
        "colab": {
          "base_uri": "https://localhost:8080/",
          "height": 398
        },
        "id": "K3Zxkm4EpNlC",
        "outputId": "47a2b8d4-c187-4d62-f3d0-77c9e432abcc"
      },
      "id": "K3Zxkm4EpNlC",
      "execution_count": 24,
      "outputs": [
        {
          "output_type": "execute_result",
          "data": {
            "text/plain": [
              "23274      1,25 (30%)\n",
              "117674     1,18 (30%)\n",
              "138602    1.18 (0.30)\n",
              "45263      1,04 (30%)\n",
              "32784      1.6 (0.30)\n",
              "120952    0.83 (0.30)\n",
              "61085      0,83 (30%)\n",
              "130573    1.18 (0.30)\n",
              "2721      0.83 (0.30)\n",
              "57751     1.32 (0.30)\n",
              "Name: new_pvp (discount), dtype: string"
            ],
            "text/html": [
              "<div>\n",
              "<style scoped>\n",
              "    .dataframe tbody tr th:only-of-type {\n",
              "        vertical-align: middle;\n",
              "    }\n",
              "\n",
              "    .dataframe tbody tr th {\n",
              "        vertical-align: top;\n",
              "    }\n",
              "\n",
              "    .dataframe thead th {\n",
              "        text-align: right;\n",
              "    }\n",
              "</style>\n",
              "<table border=\"1\" class=\"dataframe\">\n",
              "  <thead>\n",
              "    <tr style=\"text-align: right;\">\n",
              "      <th></th>\n",
              "      <th>new_pvp (discount)</th>\n",
              "    </tr>\n",
              "  </thead>\n",
              "  <tbody>\n",
              "    <tr>\n",
              "      <th>23274</th>\n",
              "      <td>1,25 (30%)</td>\n",
              "    </tr>\n",
              "    <tr>\n",
              "      <th>117674</th>\n",
              "      <td>1,18 (30%)</td>\n",
              "    </tr>\n",
              "    <tr>\n",
              "      <th>138602</th>\n",
              "      <td>1.18 (0.30)</td>\n",
              "    </tr>\n",
              "    <tr>\n",
              "      <th>45263</th>\n",
              "      <td>1,04 (30%)</td>\n",
              "    </tr>\n",
              "    <tr>\n",
              "      <th>32784</th>\n",
              "      <td>1.6 (0.30)</td>\n",
              "    </tr>\n",
              "    <tr>\n",
              "      <th>120952</th>\n",
              "      <td>0.83 (0.30)</td>\n",
              "    </tr>\n",
              "    <tr>\n",
              "      <th>61085</th>\n",
              "      <td>0,83 (30%)</td>\n",
              "    </tr>\n",
              "    <tr>\n",
              "      <th>130573</th>\n",
              "      <td>1.18 (0.30)</td>\n",
              "    </tr>\n",
              "    <tr>\n",
              "      <th>2721</th>\n",
              "      <td>0.83 (0.30)</td>\n",
              "    </tr>\n",
              "    <tr>\n",
              "      <th>57751</th>\n",
              "      <td>1.32 (0.30)</td>\n",
              "    </tr>\n",
              "  </tbody>\n",
              "</table>\n",
              "</div><br><label><b>dtype:</b> string</label>"
            ]
          },
          "metadata": {},
          "execution_count": 24
        }
      ]
    },
    {
      "cell_type": "code",
      "source": [
        "#Veriricar missing values\n",
        "df['new_pvp (discount)'].isnull().sum()"
      ],
      "metadata": {
        "colab": {
          "base_uri": "https://localhost:8080/"
        },
        "id": "XgLkay1LpQCY",
        "outputId": "feae461c-e4af-47d3-fe6b-eefc5d11d9f4"
      },
      "id": "XgLkay1LpQCY",
      "execution_count": 25,
      "outputs": [
        {
          "output_type": "execute_result",
          "data": {
            "text/plain": [
              "np.int64(28)"
            ]
          },
          "metadata": {},
          "execution_count": 25
        }
      ]
    },
    {
      "cell_type": "code",
      "execution_count": 26,
      "id": "W1xdhnFgM7uv",
      "metadata": {
        "colab": {
          "base_uri": "https://localhost:8080/"
        },
        "id": "W1xdhnFgM7uv",
        "outputId": "2f48b75e-b213-4a45-c702-c5084466fe10"
      },
      "outputs": [
        {
          "output_type": "stream",
          "name": "stdout",
          "text": [
            "\n",
            "Valores únicos new_pvp (discount):\n",
            "['2.11 (0.50)' '1.98 (0.50)' '2.37 (0.50)' '2.1 (0.50)' '2.31 (0.50)'\n",
            " '1.71 (0.50)' '1.81 (0.50)' '2.19 (0.50)' <NA> '2.94 (0.50)'\n",
            " '1.89 (0.50)' '2.38 (0.50)' '1.59 (0.50)' '1.59 (50%)' '2.39 (0.25)'\n",
            " '2.39 (25%)' '2.55 (0.20)' '1.32 (0.50)' '1.32 (50%)' '1.95 (0.30)']\n"
          ]
        }
      ],
      "source": [
        "#Aplicar a transformação decimal na coluna new_pvp (discount)\n",
        "df[\"new_pvp (discount)\"] = df[\"new_pvp (discount)\"].apply(normalize_decimal)\n",
        "\n",
        "print(\"\\nValores únicos new_pvp (discount):\")\n",
        "print(df[\"new_pvp (discount)\"].unique()[:20])"
      ]
    },
    {
      "cell_type": "code",
      "source": [
        "#Descobrir o nome real da coluna \"newpvp (discount)\" (com ou sem underscore)\n",
        "def find_newpvp_discount_col(columns):\n",
        "    target_norm = \"newpvp(discount)\"\n",
        "    for c in columns:\n",
        "        if c and c.strip():\n",
        "            norm = c.strip().lower().replace(\"_\", \"\").replace(\" \", \"\")\n",
        "            if norm == target_norm:\n",
        "                return c\n",
        "    # fallback: tenta por inclusão (casos mais soltos)\n",
        "    for c in columns:\n",
        "        norm = c.strip().lower()\n",
        "        if \"new\" in norm and \"discount\" in norm:\n",
        "            return c\n",
        "    raise KeyError(\"Não encontrei a coluna de 'newpvp (discount)'. Ajusta o nome manualmente.\")\n",
        "\n",
        "col = find_newpvp_discount_col(df.columns)\n",
        "\n",
        "#Helpers de normalização\n",
        "def _clean_num_str(s: str) -> str:\n",
        "    #remove símbolos e normaliza separador\n",
        "    return s.replace(\"€\", \"\").replace(\" \", \"\").replace(\",\", \".\")\n",
        "\n",
        "def parse_price_and_discount(cell):\n",
        "    \"\"\"Recebe strings do tipo '2.31 (0.50)' ou '2,31 (30%)'\n",
        "       Devolve: (newpvp_float, discount_float_em_fração_0_1_ou_nan)\n",
        "    \"\"\"\n",
        "    if pd.isna(cell):\n",
        "        return (np.nan, np.nan)\n",
        "\n",
        "    s = str(cell).strip()\n",
        "    m = re.match(r\"^\\s*([0-9][0-9\\.,]*)\\s*(?:\\(([^)]*)\\))?\\s*$\", s)\n",
        "    if not m:\n",
        "        #sem padrão esperado: tenta interpretar tudo como preço sem desconto\n",
        "        price_str = _clean_num_str(s)\n",
        "        price = pd.to_numeric(price_str, errors=\"coerce\")\n",
        "        return (price, np.nan)\n",
        "\n",
        "    # preço antes dos parêntesis\n",
        "    price_str = _clean_num_str(m.group(1))\n",
        "    price = pd.to_numeric(price_str, errors=\"coerce\")\n",
        "\n",
        "    # desconto dentro dos parêntesis\n",
        "    disc_raw = m.group(2)\n",
        "    if disc_raw is None or str(disc_raw).strip() == \"\":\n",
        "        return (price, np.nan)\n",
        "\n",
        "    d = _clean_num_str(str(disc_raw))\n",
        "    # remover % se existir\n",
        "    if d.endswith(\"%\"):\n",
        "        d = d[:-1]\n",
        "\n",
        "    disc_val = pd.to_numeric(d, errors=\"coerce\")\n",
        "\n",
        "    # Normalização para FRAÇÃO 0–1:\n",
        "    # - Se NaN -> NaN\n",
        "    # - Se 0 <= x <= 1 -> já é fração (ex.: 0.3 -> 0.3)\n",
        "    # - Se 1 < x <= 100 -> era percentagem sem símbolo (ex.: 30 -> 0.30)\n",
        "    # - Fora do intervalo -> NaN\n",
        "    if pd.isna(disc_val):\n",
        "        disc_frac = np.nan\n",
        "    elif 0 <= disc_val <= 1:\n",
        "        disc_frac = float(disc_val)\n",
        "    elif 1 < disc_val <= 100:\n",
        "        disc_frac = float(disc_val) / 100.0\n",
        "    else:\n",
        "        disc_frac = np.nan\n",
        "\n",
        "    return (price, disc_frac)\n",
        "\n",
        "#Criar colunas novas: newpvp (float) e discount (fração 0–1)\n",
        "df[[\"newpvp\", \"discount\"]] = df[col].apply(lambda x: pd.Series(parse_price_and_discount(x)))\n",
        "\n",
        "#Confirmações rápidas\n",
        "print(\"Amostra (original | newpvp | discount fração):\")\n",
        "print(df[[col, \"newpvp\", \"discount\"]].head(10))\n",
        "\n",
        "print(\"\\nValores únicos de discount (primeiros 20, arredondados a 4 casas):\")\n",
        "print(pd.unique(df[\"discount\"].round(4)))\n",
        "\n"
      ],
      "metadata": {
        "colab": {
          "base_uri": "https://localhost:8080/"
        },
        "id": "ZHtm7Qt8uS0Z",
        "outputId": "9ba5d82f-b247-4c68-97f0-4fdd8b61a4cb"
      },
      "id": "ZHtm7Qt8uS0Z",
      "execution_count": 27,
      "outputs": [
        {
          "output_type": "stream",
          "name": "stdout",
          "text": [
            "Amostra (original | newpvp | discount fração):\n",
            "  new_pvp (discount)  newpvp  discount\n",
            "0        2.11 (0.50)    2.11       0.5\n",
            "1        1.98 (0.50)    1.98       0.5\n",
            "2        2.37 (0.50)    2.37       0.5\n",
            "3         2.1 (0.50)    2.10       0.5\n",
            "4        2.31 (0.50)    2.31       0.5\n",
            "5        2.31 (0.50)    2.31       0.5\n",
            "6        1.71 (0.50)    1.71       0.5\n",
            "7        1.81 (0.50)    1.81       0.5\n",
            "8        2.31 (0.50)    2.31       0.5\n",
            "9        2.19 (0.50)    2.19       0.5\n",
            "\n",
            "Valores únicos de discount (primeiros 20, arredondados a 4 casas):\n",
            "[0.5   nan 0.25 0.2  0.3  0.99 0.31 0.15 0.1  0.26 0.51 0.16 0.21 0.11\n",
            " 0.4  0.35 0.17 0.03 0.28 0.18 0.48 0.05 0.36 0.02 0.23 0.01]\n"
          ]
        }
      ]
    },
    {
      "cell_type": "markdown",
      "id": "uqrpiWzQOjQH",
      "metadata": {
        "id": "uqrpiWzQOjQH"
      },
      "source": [
        "**Missing Values | Oldpvp -** com base em newpvp e discount"
      ]
    },
    {
      "cell_type": "code",
      "execution_count": 28,
      "id": "kaX8QwcyOiMm",
      "metadata": {
        "colab": {
          "base_uri": "https://localhost:8080/"
        },
        "id": "kaX8QwcyOiMm",
        "outputId": "1ed9ec1e-ec9e-413e-ba17-82cf4ca86276"
      },
      "outputs": [
        {
          "output_type": "stream",
          "name": "stdout",
          "text": [
            "Nulos em oldpvp após preenchimento: 0 de 150054 (0.00%)\n"
          ]
        }
      ],
      "source": [
        "##Tratamento de missing values\n",
        "\n",
        "# Garantir tipos numéricos\n",
        "df[\"newpvp\"] = pd.to_numeric(df[\"newpvp\"], errors=\"coerce\")\n",
        "df[\"discount\"] = pd.to_numeric(df[\"discount\"], errors=\"coerce\")\n",
        "\n",
        "#Cria Nan para podermos preencher\n",
        "if \"oldpvp\" in df.columns:\n",
        "    df[\"oldpvp\"] = pd.to_numeric(df[\"oldpvp\"], errors=\"coerce\")\n",
        "else:\n",
        "    df[\"oldpvp\"] = np.nan\n",
        "\n",
        "# Condições válidas para calcular oldpvp: newpvp e discount presentes, 0 >= discount < 1\n",
        "valid = (\n",
        "    df[\"newpvp\"].notna()\n",
        "    & df[\"discount\"].notna()\n",
        "    & (df[\"discount\"] >= 0)\n",
        "    & (df[\"discount\"] < 1)\n",
        ")\n",
        "\n",
        "# Calcular e preencher apenas onde oldpvp está nulo\n",
        "df.loc[valid & df[\"oldpvp\"].isna(), \"oldpvp\"] = df.loc[valid, \"newpvp\"] / (1 - df.loc[valid, \"discount\"])\n",
        "\n",
        "# Confirmação final\n",
        "n_nulos = df[\"oldpvp\"].isna().sum()\n",
        "total = len(df)\n",
        "print(f\"Nulos em oldpvp após preenchimento: {n_nulos} de {total} ({(n_nulos/total*100 if total else 0):.2f}%)\")\n"
      ]
    },
    {
      "cell_type": "markdown",
      "source": [
        "**Missing Values | Newpvp & Discount -** com base nas variáveis Profit | Margin (newpvp) e Newpvp | Oldpvp (discount)"
      ],
      "metadata": {
        "id": "h3vYT7G4ynbO"
      },
      "id": "h3vYT7G4ynbO"
    },
    {
      "cell_type": "code",
      "execution_count": 29,
      "id": "SalHxr97mM4C",
      "metadata": {
        "colab": {
          "base_uri": "https://localhost:8080/"
        },
        "id": "SalHxr97mM4C",
        "outputId": "3d2dbcc4-ceb9-4a54-cdd3-626537cb1c99"
      },
      "outputs": [
        {
          "output_type": "stream",
          "name": "stdout",
          "text": [
            "Nulos em newpvp após preenchimento: 0\n",
            "Nulos em discount após preenchimento: 0\n"
          ]
        }
      ],
      "source": [
        "# --- Helpers simples ---\n",
        "def parse_money(x):\n",
        "    if pd.isna(x): return np.nan\n",
        "    s = str(x).strip().replace(\"€\", \"\").replace(\" \", \"\").replace(\",\", \".\")\n",
        "    try: return float(s)\n",
        "    except: return np.nan\n",
        "\n",
        "def parse_percent_to_fraction(x):\n",
        "    if pd.isna(x): return np.nan\n",
        "    s = str(x).strip().replace(\"%\", \"\").replace(\" \", \"\").replace(\",\", \".\")\n",
        "    try:\n",
        "        v = float(s)\n",
        "    except:\n",
        "        return np.nan\n",
        "    # aceita fração (<=1) ou percentagem (0–100)\n",
        "    return v if 0 <= v <= 1 else (v/100 if 0 < v <= 100 else np.nan)\n",
        "\n",
        "def find_col(df, key_substr):\n",
        "    # encontra coluna pelo nome aproximado (case-insensitive)\n",
        "    cs = [c for c in df.columns if key_substr.lower() in c.lower()]\n",
        "    if not cs:\n",
        "        raise KeyError(f\"Não encontrei coluna com '{key_substr}'.\")\n",
        "    return cs[0]\n",
        "\n",
        "#Identificar colunas Profit e Margin (ajusta se os nomes forem diferentes) ---\n",
        "profit_col = find_col(df, \"profit\")\n",
        "margin_col = find_col(df, \"margin\")\n",
        "\n",
        "#Preparar séries limpas\n",
        "profit = df[profit_col].apply(parse_money)\n",
        "margin_frac = df[margin_col].apply(parse_percent_to_fraction)  # fração 0–1\n",
        "\n",
        "#Garantir tipos nas colunas alvo\n",
        "df[\"newpvp\"] = pd.to_numeric(df[\"newpvp\"], errors=\"coerce\")\n",
        "df[\"discount\"] = pd.to_numeric(df[\"discount\"], errors=\"coerce\")\n",
        "df[\"oldpvp\"] = pd.to_numeric(df.get(\"oldpvp\", np.nan), errors=\"coerce\")\n",
        "\n",
        "# =========================\n",
        "\n",
        "#Preencher NEWPVP em falta: newpvp = Profit / Margin\n",
        "\n",
        "mask_newpvp = df[\"newpvp\"].isna() & profit.notna() & margin_frac.notna() & (margin_frac > 0)\n",
        "df.loc[mask_newpvp, \"newpvp\"] = (profit / margin_frac)[mask_newpvp]\n",
        "\n",
        "# =========================\n",
        "\n",
        "#Preencher DISCOUNT em falta: discount = 1 - newpvp / oldpvp\n",
        "\n",
        "mask_disc = (\n",
        "    df[\"discount\"].isna()\n",
        "    & df[\"newpvp\"].notna()\n",
        "    & df[\"oldpvp\"].notna()\n",
        "    & (df[\"oldpvp\"] > 0)\n",
        ")\n",
        "df.loc[mask_disc, \"discount\"] = 1 - (df.loc[mask_disc, \"newpvp\"] / df.loc[mask_disc, \"oldpvp\"])\n",
        "\n",
        "# Opcional: invalidar descontos fora do intervalo [0, 1)\n",
        "df.loc[mask_disc, \"discount\"] = df.loc[mask_disc, \"discount\"].where(\n",
        "    (df.loc[mask_disc, \"discount\"] >= 0) & (df.loc[mask_disc, \"discount\"] < 1),\n",
        "    np.nan\n",
        ")\n",
        "\n",
        "# --- Confirmações simples ---\n",
        "print(\"Nulos em newpvp após preenchimento:\", int(df[\"newpvp\"].isna().sum()))\n",
        "print(\"Nulos em discount após preenchimento:\", int(df[\"discount\"].isna().sum()))\n"
      ]
    },
    {
      "cell_type": "code",
      "execution_count": 30,
      "id": "C-lF8XCXA4je",
      "metadata": {
        "id": "C-lF8XCXA4je"
      },
      "outputs": [],
      "source": [
        "#Remover coluna original de new_pvp discount por ser redundante apos duas novas criadas\n",
        "df = df.drop(columns=['new_pvp (discount)'])"
      ]
    },
    {
      "cell_type": "code",
      "execution_count": 31,
      "id": "wzhRPfS-PI7c",
      "metadata": {
        "colab": {
          "base_uri": "https://localhost:8080/"
        },
        "id": "wzhRPfS-PI7c",
        "outputId": "2e64c168-688f-4748-aa11-a61afdc0cc45"
      },
      "outputs": [
        {
          "output_type": "stream",
          "name": "stdout",
          "text": [
            "<class 'pandas.core.frame.DataFrame'>\n",
            "RangeIndex: 150054 entries, 0 to 150053\n",
            "Data columns (total 19 columns):\n",
            " #   Column             Non-Null Count   Dtype         \n",
            "---  ------             --------------   -----         \n",
            " 0   idstore            150054 non-null  Int64         \n",
            " 1   sku                150054 non-null  Int64         \n",
            " 2   brand              150054 non-null  object        \n",
            " 3   oldpvp             150054 non-null  float64       \n",
            " 4   labelqty           150054 non-null  Int64         \n",
            " 5   weight (g)         150050 non-null  object        \n",
            " 6   Payment_method     150054 non-null  string        \n",
            " 7   Margin (%)         150054 non-null  Int64         \n",
            " 8   Profit (€)         150054 non-null  Float64       \n",
            " 9   perc_expiring_sku  149929 non-null  Float64       \n",
            " 10  expiring_date      150054 non-null  string        \n",
            " 11  labelling_date     150054 non-null  datetime64[ns]\n",
            " 12  sell_date          80511 non-null   datetime64[ns]\n",
            " 13  sold               149940 non-null  Int64         \n",
            " 14  type               150054 non-null  string        \n",
            " 15  selling_square_ft  150054 non-null  Float64       \n",
            " 16  district           150054 non-null  string        \n",
            " 17  newpvp             150054 non-null  float64       \n",
            " 18  discount           150054 non-null  float64       \n",
            "dtypes: Float64(3), Int64(5), datetime64[ns](2), float64(3), object(2), string(4)\n",
            "memory usage: 22.9+ MB\n"
          ]
        }
      ],
      "source": [
        "df.info()"
      ]
    },
    {
      "cell_type": "markdown",
      "source": [
        "**Outliers | Newpvp e Oldpvp**"
      ],
      "metadata": {
        "id": "YQV1Q9KQ0fDZ"
      },
      "id": "YQV1Q9KQ0fDZ"
    },
    {
      "cell_type": "code",
      "execution_count": 32,
      "id": "29eKsuFV6ma9",
      "metadata": {
        "colab": {
          "base_uri": "https://localhost:8080/"
        },
        "id": "29eKsuFV6ma9",
        "outputId": "2574d15f-e285-4c12-ab1e-a7008dd5a750"
      },
      "outputs": [
        {
          "output_type": "stream",
          "name": "stdout",
          "text": [
            "New PVP Limite pelo valor: 6.00\n",
            "Old PVP Limite pelo percentil 99: 272.76\n",
            "Número de outliers identificados: 15\n"
          ]
        }
      ],
      "source": [
        "#Metodo flag para limpar Outliers de newpvp e oldpvp - selecionado percentil 99\n",
        "limite_sup_newpvp = 6\n",
        "print(f\"New PVP Limite pelo valor: {limite_sup_newpvp:.2f}\")\n",
        "\n",
        "limite_sup_oldpvp = df['oldpvp'].quantile(0.99999)\n",
        "print(f\"Old PVP Limite pelo percentil 99: {limite_sup_oldpvp:.2f}\")\n",
        "\n",
        "# criar flag: 1 = outlier, 0 = normal\n",
        "df[\"flag\"] = 0\n",
        "df.loc[df[\"newpvp\"] > limite_sup_newpvp, \"flag\"] = 1\n",
        "df.loc[df[\"oldpvp\"] > limite_sup_oldpvp, \"flag\"] = 1\n",
        "\n",
        "# verificar quantos ficaram marcados\n",
        "print(f\"Número de outliers identificados: {df['flag'].sum()}\")"
      ]
    },
    {
      "cell_type": "markdown",
      "id": "khO7JL3XOaMZ",
      "metadata": {
        "id": "khO7JL3XOaMZ"
      },
      "source": [
        "### labelqty"
      ]
    },
    {
      "cell_type": "markdown",
      "id": "wJl24-npOsc7",
      "metadata": {
        "id": "wJl24-npOsc7"
      },
      "source": [
        "Variável qualitativa categórica representa a quantidade de etiquetas atribuídas ao SKU.\n",
        "Existe apenas um único valor em toda a base de dados, o que significa que não tem variabilidade estatística.\n",
        "O formato é categórico/numérico uniforme e, por essa razão, a variável foi considerada não relevante para análise e removida do dataset.\n",
        "\n",
        "- **Decisão**: remover a coluna por não ter relevância para a análise.  \n",
        "- **Nota**: poderia ser interessante se existissem valores distintos noutras bases de dados."
      ]
    },
    {
      "cell_type": "code",
      "execution_count": 33,
      "id": "4UuXKvWKPHji",
      "metadata": {
        "id": "4UuXKvWKPHji"
      },
      "outputs": [],
      "source": [
        "# Remover a coluna\n",
        "df = df.drop(columns=['labelqty'])\n"
      ]
    },
    {
      "cell_type": "markdown",
      "id": "a97f91bf",
      "metadata": {
        "id": "a97f91bf"
      },
      "source": [
        "### weight (g)\n",
        "Variável quantitativa contínua representa o peso do produto.\n",
        "\n",
        "O peso dos produtos varia entre 1g e 410g.\n",
        "\n",
        "Contém 428 valores ausentes. Tratamento realizado pela média por SKU respetivo"
      ]
    },
    {
      "cell_type": "code",
      "execution_count": 34,
      "id": "olgW0q1qPF67",
      "metadata": {
        "id": "olgW0q1qPF67"
      },
      "outputs": [],
      "source": [
        "#transformação de type object para float64\n",
        "df[\"weight (g)\"] = pd.to_numeric(df[\"weight (g)\"], errors=\"coerce\")"
      ]
    },
    {
      "cell_type": "code",
      "execution_count": 35,
      "id": "Sk1lgvtklWqp",
      "metadata": {
        "colab": {
          "base_uri": "https://localhost:8080/"
        },
        "id": "Sk1lgvtklWqp",
        "outputId": "b7948ce4-f19a-470c-8a1e-489e497f96ee"
      },
      "outputs": [
        {
          "output_type": "stream",
          "name": "stdout",
          "text": [
            "Total de missing (incluindo strings e NaN): 428\n"
          ]
        }
      ],
      "source": [
        "#Verificaçao de missing values\n",
        "\n",
        "# Criar máscara para todos os tipos de \"missing\"\n",
        "mask_missing = (\n",
        "    df[\"weight (g)\"].isna() |                                   # NaN ou None\n",
        "    (df[\"weight (g)\"].astype(str).str.strip() == \"\") |          # strings vazias ou só espaços\n",
        "    (df[\"weight (g)\"].astype(str).str.lower() == \"nan\")         # strings \"NaN\"\n",
        ")\n",
        "\n",
        "# Contar total de valores missing\n",
        "total_missing = mask_missing.sum()\n",
        "print(f\"Total de missing (incluindo strings e NaN): {total_missing}\")"
      ]
    },
    {
      "cell_type": "code",
      "execution_count": 36,
      "id": "JTG8pLPnSoeX",
      "metadata": {
        "id": "JTG8pLPnSoeX"
      },
      "outputs": [],
      "source": [
        "# Tratamento de missing pela média por SKU respetivo\n",
        "df[\"weight (g)\"] = df.groupby(\"sku\")[\"weight (g)\"].transform(\n",
        "    lambda x: x.fillna(x.mean())\n",
        ")\n",
        "\n",
        "\n",
        "# E se ainda existirem nulos, usar média por marca\n",
        "df[\"weight (g)\"] = df.groupby(\"brand\")[\"weight (g)\"].transform(\n",
        "    lambda x: x.fillna(x.mean())\n",
        ")"
      ]
    },
    {
      "cell_type": "code",
      "execution_count": 37,
      "id": "9AY20iJWTF7P",
      "metadata": {
        "colab": {
          "base_uri": "https://localhost:8080/"
        },
        "id": "9AY20iJWTF7P",
        "outputId": "f9226a38-10f3-46a8-a210-e1c13fd88ccb"
      },
      "outputs": [
        {
          "output_type": "stream",
          "name": "stdout",
          "text": [
            "Total de missing (incluindo strings e NaN): 0\n"
          ]
        }
      ],
      "source": [
        "mask_missing = (\n",
        "    df[\"weight (g)\"].isna() |                                   # NaN ou None\n",
        "    (df[\"weight (g)\"].astype(str).str.strip() == \"\") |          # strings vazias ou só espaços\n",
        "    (df[\"weight (g)\"].astype(str).str.lower() == \"nan\")         # strings \"NaN\"\n",
        ")\n",
        "total_missing = mask_missing.sum()\n",
        "print(f\"Total de missing (incluindo strings e NaN): {total_missing}\")"
      ]
    },
    {
      "cell_type": "markdown",
      "id": "8fb2ad9b",
      "metadata": {
        "id": "8fb2ad9b"
      },
      "source": [
        "### Payment_method\n",
        "\n",
        "Variável qualitativa nominal representa o metodo de pagamento utilizado para comprar o produto.\n",
        "\n",
        "Varia entre Card ou Cash.\n",
        "\n",
        "Contem 69543 valores ausentes que não foram tratados.\n",
        "\n",
        "Variável sem valor preditivo direto.\n",
        "- **Decisão**: remover a coluna por não ter relevância para a análise.  \n"
      ]
    },
    {
      "cell_type": "code",
      "execution_count": 38,
      "id": "dkcU3trKlkXA",
      "metadata": {
        "colab": {
          "base_uri": "https://localhost:8080/"
        },
        "id": "dkcU3trKlkXA",
        "outputId": "1a565b70-468d-4c34-c666-f4096b4af2d2"
      },
      "outputs": [
        {
          "output_type": "stream",
          "name": "stdout",
          "text": [
            "Símbolos encontrados: {'r', 'h', 'a', ' ', 'd', 's', 'C'}\n"
          ]
        }
      ],
      "source": [
        "import re\n",
        "\n",
        "#Verificaçao de símbolos\n",
        "\n",
        "# 1. Garantir que os valores são strings\n",
        "dates_as_str = df[\"Payment_method\"].astype(str)\n",
        "\n",
        "# 2. Extrair apenas os caracteres que NÃO são dígitos\n",
        "# re.findall(\"\\D\", x) devolve todos os caracteres não numéricos\n",
        "non_numeric_chars = dates_as_str.apply(lambda x: re.findall(r\"\\D\", x))\n",
        "\n",
        "# 3. Flatten (juntar tudo numa lista só)\n",
        "all_non_numeric = [char for sublist in non_numeric_chars for char in sublist]\n",
        "\n",
        "# 4. Obter os símbolos únicos\n",
        "unique_symbols = set(all_non_numeric)\n",
        "print(\"Símbolos encontrados:\", unique_symbols)"
      ]
    },
    {
      "cell_type": "code",
      "execution_count": 39,
      "id": "m5zUIFhOlld6",
      "metadata": {
        "colab": {
          "base_uri": "https://localhost:8080/"
        },
        "id": "m5zUIFhOlld6",
        "outputId": "5ba0c058-5d3d-44c3-ea14-86c1a0c24f4f"
      },
      "outputs": [
        {
          "output_type": "stream",
          "name": "stdout",
          "text": [
            "['Card' nan 'Cash']\n"
          ]
        }
      ],
      "source": [
        "# 1) Garantir que todos os valores são strings, remover espaços início/fim e normalizar espaços internos\n",
        "df[\"Payment_method\"] = df[\"Payment_method\"].astype(str).str.strip().str.replace(r\"\\s+\", \" \", regex=True)\n",
        "\n",
        "# 2) Substituir strings vazias por NaN\n",
        "df[\"Payment_method\"] = df[\"Payment_method\"].replace(\"\", np.nan)\n",
        "\n",
        "# 3) Verificar valores únicos após limpeza\n",
        "unique_values = df[\"Payment_method\"].unique()\n",
        "print(unique_values)"
      ]
    },
    {
      "cell_type": "markdown",
      "id": "UxmSO8vkPsHJ",
      "metadata": {
        "id": "UxmSO8vkPsHJ"
      },
      "source": [
        "###Margin (%)\n",
        "\n",
        "Esta variável quantitativa discreta representa a margem de lucro associada ao SKU.  \n",
        "No dataset, os valores estão registados em **percentagem inteira** (ex.: `16` → 16%). Não foram detetados valores ausentes.\n",
        "\n",
        "- **Transformação necessária**: converter para formato decimal (ex.: `16` → `0.16`), dividindo por 100.  \n",
        "- **Análise recomendada**: explorar a distribuição global da margem e também por marca, para perceber dispersão, outliers e padrões de rentabilidade.\n"
      ]
    },
    {
      "cell_type": "code",
      "execution_count": 40,
      "id": "2t7r4WY_Ppqq",
      "metadata": {
        "colab": {
          "base_uri": "https://localhost:8080/",
          "height": 258
        },
        "id": "2t7r4WY_Ppqq",
        "outputId": "c522b5f3-9047-40b3-d09e-0be4377f4fa4"
      },
      "outputs": [
        {
          "output_type": "stream",
          "name": "stdout",
          "text": [
            "Amostra após transformação:\n"
          ]
        },
        {
          "output_type": "execute_result",
          "data": {
            "text/plain": [
              "0    0.16\n",
              "1    0.16\n",
              "2    0.16\n",
              "3    0.16\n",
              "4    0.16\n",
              "Name: Margin (%), dtype: Float64"
            ],
            "text/html": [
              "<div>\n",
              "<style scoped>\n",
              "    .dataframe tbody tr th:only-of-type {\n",
              "        vertical-align: middle;\n",
              "    }\n",
              "\n",
              "    .dataframe tbody tr th {\n",
              "        vertical-align: top;\n",
              "    }\n",
              "\n",
              "    .dataframe thead th {\n",
              "        text-align: right;\n",
              "    }\n",
              "</style>\n",
              "<table border=\"1\" class=\"dataframe\">\n",
              "  <thead>\n",
              "    <tr style=\"text-align: right;\">\n",
              "      <th></th>\n",
              "      <th>Margin (%)</th>\n",
              "    </tr>\n",
              "  </thead>\n",
              "  <tbody>\n",
              "    <tr>\n",
              "      <th>0</th>\n",
              "      <td>0.16</td>\n",
              "    </tr>\n",
              "    <tr>\n",
              "      <th>1</th>\n",
              "      <td>0.16</td>\n",
              "    </tr>\n",
              "    <tr>\n",
              "      <th>2</th>\n",
              "      <td>0.16</td>\n",
              "    </tr>\n",
              "    <tr>\n",
              "      <th>3</th>\n",
              "      <td>0.16</td>\n",
              "    </tr>\n",
              "    <tr>\n",
              "      <th>4</th>\n",
              "      <td>0.16</td>\n",
              "    </tr>\n",
              "  </tbody>\n",
              "</table>\n",
              "</div><br><label><b>dtype:</b> Float64</label>"
            ]
          },
          "metadata": {},
          "execution_count": 40
        }
      ],
      "source": [
        "# Transformar Margin (%) em decimal\n",
        "df['Margin (%)'] = pd.to_numeric(df['Margin (%)'], errors='coerce')\n",
        "df['Margin (%)'] = df['Margin (%)'] / 100\n",
        "\n",
        "\n",
        "print(\"Amostra após transformação:\")\n",
        "df['Margin (%)'].head()"
      ]
    },
    {
      "cell_type": "code",
      "execution_count": 41,
      "id": "Tl3wIV_oqRJ1",
      "metadata": {
        "colab": {
          "base_uri": "https://localhost:8080/"
        },
        "id": "Tl3wIV_oqRJ1",
        "outputId": "149fbfb7-e41b-487a-99e7-d69793f1bb34"
      },
      "outputs": [
        {
          "output_type": "execute_result",
          "data": {
            "text/plain": [
              "<FloatingArray>\n",
              "[0.16, 0.15, 0.18, 0.17, 0.1, 0.11, 0.19, 0.14, 0.13, 0.12, 0.2]\n",
              "Length: 11, dtype: Float64"
            ]
          },
          "metadata": {},
          "execution_count": 41
        }
      ],
      "source": [
        "#verificar valores unicos\n",
        "df['Margin (%)'].unique()"
      ]
    },
    {
      "cell_type": "code",
      "execution_count": 42,
      "id": "xPOQi-ykiZrF",
      "metadata": {
        "colab": {
          "base_uri": "https://localhost:8080/"
        },
        "id": "xPOQi-ykiZrF",
        "outputId": "1c910d0e-4a39-44fd-dbe2-293bfcc2f5a5"
      },
      "outputs": [
        {
          "output_type": "execute_result",
          "data": {
            "text/plain": [
              "np.int64(0)"
            ]
          },
          "metadata": {},
          "execution_count": 42
        }
      ],
      "source": [
        "#verificar missing values\n",
        "df['Margin (%)'].isna().sum()"
      ]
    },
    {
      "cell_type": "code",
      "execution_count": 43,
      "id": "dvVsPbVyZayB",
      "metadata": {
        "colab": {
          "base_uri": "https://localhost:8080/",
          "height": 460
        },
        "id": "dvVsPbVyZayB",
        "outputId": "85d8d5be-0891-484b-fe55-ff56c789923c"
      },
      "outputs": [
        {
          "output_type": "display_data",
          "data": {
            "text/plain": [
              "<Figure size 1200x500 with 2 Axes>"
            ],
            "image/png": "[encoded data removed]"
          },
          "metadata": {}
        }
      ],
      "source": [
        "# Criar uma figura com 2 subplots lado a lado\n",
        "fig, axes = plt.subplots(1, 2, figsize=(12, 5))\n",
        "\n",
        "# Histograma\n",
        "sns.histplot(df['Margin (%)'].dropna(), bins=30, kde=True, ax=axes[0])\n",
        "axes[0].set_title(\"Histograma da Margin (%)\")\n",
        "axes[0].set_xlabel(\"Margin (%)\")\n",
        "axes[0].set_ylabel(\"Frequência\")\n",
        "\n",
        "# Boxplot\n",
        "sns.boxplot(x=df['Margin (%)'], ax=axes[1])\n",
        "axes[1].set_title(\"Boxplot da Margin (%)\")\n",
        "axes[1].set_xlabel(\"Margin (%)\")\n",
        "\n",
        "plt.tight_layout()\n",
        "plt.show()"
      ]
    },
    {
      "cell_type": "markdown",
      "id": "90578fc7",
      "metadata": {
        "id": "90578fc7"
      },
      "source": [
        "### Profit (€)\n",
        "Esta variável quantitativa contínua representa o lucro, em €, de cada produto.\n",
        "\n",
        "Os seus valores variam entre 0.034 e 99.9.\n",
        "\n",
        "Não contém valores ausentes e o seu formato é float."
      ]
    },
    {
      "cell_type": "code",
      "source": [
        "#Visualizar dados\n",
        "df['Profit (€)'].sample(10)"
      ],
      "metadata": {
        "colab": {
          "base_uri": "https://localhost:8080/",
          "height": 398
        },
        "id": "v8ZsetZz3bnE",
        "outputId": "218b0a42-742c-4719-bff6-b377b3ac4ea9"
      },
      "id": "v8ZsetZz3bnE",
      "execution_count": 44,
      "outputs": [
        {
          "output_type": "execute_result",
          "data": {
            "text/plain": [
              "53863     0.1254\n",
              "101387    0.2224\n",
              "46891     0.1768\n",
              "126273    0.1416\n",
              "130575     0.236\n",
              "64589     0.1173\n",
              "92740      0.125\n",
              "88716     0.0792\n",
              "113163    0.0897\n",
              "136188     0.099\n",
              "Name: Profit (€), dtype: Float64"
            ],
            "text/html": [
              "<div>\n",
              "<style scoped>\n",
              "    .dataframe tbody tr th:only-of-type {\n",
              "        vertical-align: middle;\n",
              "    }\n",
              "\n",
              "    .dataframe tbody tr th {\n",
              "        vertical-align: top;\n",
              "    }\n",
              "\n",
              "    .dataframe thead th {\n",
              "        text-align: right;\n",
              "    }\n",
              "</style>\n",
              "<table border=\"1\" class=\"dataframe\">\n",
              "  <thead>\n",
              "    <tr style=\"text-align: right;\">\n",
              "      <th></th>\n",
              "      <th>Profit (€)</th>\n",
              "    </tr>\n",
              "  </thead>\n",
              "  <tbody>\n",
              "    <tr>\n",
              "      <th>53863</th>\n",
              "      <td>0.1254</td>\n",
              "    </tr>\n",
              "    <tr>\n",
              "      <th>101387</th>\n",
              "      <td>0.2224</td>\n",
              "    </tr>\n",
              "    <tr>\n",
              "      <th>46891</th>\n",
              "      <td>0.1768</td>\n",
              "    </tr>\n",
              "    <tr>\n",
              "      <th>126273</th>\n",
              "      <td>0.1416</td>\n",
              "    </tr>\n",
              "    <tr>\n",
              "      <th>130575</th>\n",
              "      <td>0.236</td>\n",
              "    </tr>\n",
              "    <tr>\n",
              "      <th>64589</th>\n",
              "      <td>0.1173</td>\n",
              "    </tr>\n",
              "    <tr>\n",
              "      <th>92740</th>\n",
              "      <td>0.125</td>\n",
              "    </tr>\n",
              "    <tr>\n",
              "      <th>88716</th>\n",
              "      <td>0.0792</td>\n",
              "    </tr>\n",
              "    <tr>\n",
              "      <th>113163</th>\n",
              "      <td>0.0897</td>\n",
              "    </tr>\n",
              "    <tr>\n",
              "      <th>136188</th>\n",
              "      <td>0.099</td>\n",
              "    </tr>\n",
              "  </tbody>\n",
              "</table>\n",
              "</div><br><label><b>dtype:</b> Float64</label>"
            ]
          },
          "metadata": {},
          "execution_count": 44
        }
      ]
    },
    {
      "cell_type": "code",
      "source": [
        "#verificar missing values\n",
        "df['Profit (€)'].isna().sum()"
      ],
      "metadata": {
        "colab": {
          "base_uri": "https://localhost:8080/"
        },
        "id": "cs93YkMt4GyF",
        "outputId": "a6610e3f-0c63-4e6b-eb8b-34e110c60b10"
      },
      "id": "cs93YkMt4GyF",
      "execution_count": 45,
      "outputs": [
        {
          "output_type": "execute_result",
          "data": {
            "text/plain": [
              "np.int64(0)"
            ]
          },
          "metadata": {},
          "execution_count": 45
        }
      ]
    },
    {
      "cell_type": "code",
      "source": [
        "col_profit = \"Profit (€)\""
      ],
      "metadata": {
        "id": "x5_cEkU63oPD"
      },
      "id": "x5_cEkU63oPD",
      "execution_count": 46,
      "outputs": []
    },
    {
      "cell_type": "markdown",
      "id": "99ff8b34",
      "metadata": {
        "id": "99ff8b34"
      },
      "source": [
        "### perc_expiring_sku\n",
        "\n",
        "Esta variável quantitativa contínua representa a proporçao do tempo de vida de um produto, quando a etiqueta foi colocada.\n",
        "\n",
        "Os seus valores variam entre 0 e 2.\n",
        "\n",
        "Existem 125 valores ausentes. Tratamento:\n",
        "\n",
        "1 - Quando expiring_date = labelling_date, perc_expiring_sku deve ser 0 (se for missing)\n",
        "\n",
        "2- Restantes valores ajustados à média\n",
        "\n",
        "Identificados Valores acima de 1 - 25 Decisão: eliminar\n",
        "Restantes 15 utilizado método flag para eliminação\n",
        "\n"
      ]
    },
    {
      "cell_type": "code",
      "source": [
        "#verificar missing values\n",
        "df['perc_expiring_sku'].isna().sum()"
      ],
      "metadata": {
        "colab": {
          "base_uri": "https://localhost:8080/"
        },
        "id": "T4_GteRh4vgX",
        "outputId": "a13c282c-c3ee-4acf-a690-009c7ed6f21c"
      },
      "id": "T4_GteRh4vgX",
      "execution_count": 47,
      "outputs": [
        {
          "output_type": "execute_result",
          "data": {
            "text/plain": [
              "np.int64(125)"
            ]
          },
          "metadata": {},
          "execution_count": 47
        }
      ]
    },
    {
      "cell_type": "code",
      "execution_count": 48,
      "id": "1rKz5kF3OYvJ",
      "metadata": {
        "id": "1rKz5kF3OYvJ"
      },
      "outputs": [],
      "source": [
        "#Tratamento missing values 1 - exp_date = lab_date\n",
        "mask_same_date = (df[\"expiring_date\"] == df[\"labelling_date\"]) & (df[\"perc_expiring_sku\"].isna())\n",
        "df.loc[mask_same_date, \"perc_expiring_sku\"] = 0"
      ]
    },
    {
      "cell_type": "code",
      "source": [
        "#Tratamento missing values 2 - ajuste à média\n",
        "df[\"perc_expiring_sku\"] = df[\"perc_expiring_sku\"].fillna(df[\"perc_expiring_sku\"].mean())"
      ],
      "metadata": {
        "id": "UWalOySu51u4"
      },
      "id": "UWalOySu51u4",
      "execution_count": 49,
      "outputs": []
    },
    {
      "cell_type": "code",
      "execution_count": 50,
      "id": "RofNl-fbP9ZK",
      "metadata": {
        "colab": {
          "base_uri": "https://localhost:8080/"
        },
        "id": "RofNl-fbP9ZK",
        "outputId": "44b6d9b1-1da7-48b8-e930-d46eaf314e80"
      },
      "outputs": [
        {
          "output_type": "stream",
          "name": "stdout",
          "text": [
            "Valores > 1 identificados: 25\n",
            "Número de outliers marcados: 40\n"
          ]
        }
      ],
      "source": [
        "# Identificar outliers de perc_expiring_sku > 1 - método flag\n",
        "outliers = (df[\"perc_expiring_sku\"] > 1).sum()\n",
        "print(f\"Valores > 1 identificados: {outliers}\")\n",
        "\n",
        "df.loc[df[\"perc_expiring_sku\"] > 1, \"flag\"] = 1\n",
        "\n",
        "# Verificação\n",
        "print(f\"Número de outliers marcados: {df['flag'].sum()}\")"
      ]
    },
    {
      "cell_type": "markdown",
      "id": "3ac7b4c5",
      "metadata": {
        "id": "3ac7b4c5"
      },
      "source": [
        "### expiring_date\n",
        "\n",
        "Variável é quantitativa contínua representa a data em que o artigo expira a sua validade, e apartir da qual não pode ser vendido. As datas de validade variam entre 2021-10-01 e 2021-11-20. Não contém valores ausentes. O seu formato é Datetime"
      ]
    },
    {
      "cell_type": "code",
      "execution_count": 51,
      "id": "p_W4OopImv7Z",
      "metadata": {
        "colab": {
          "base_uri": "https://localhost:8080/"
        },
        "id": "p_W4OopImv7Z",
        "outputId": "f51abde5-1d5e-49f8-b1ce-c4af67e8a255"
      },
      "outputs": [
        {
          "output_type": "stream",
          "name": "stdout",
          "text": [
            "Símbolos encontrados: {'/', '-'}\n"
          ]
        }
      ],
      "source": [
        "#verificaçao de quais os símbolos usados para separar o dia, mês e ano.\n",
        "\n",
        "#Garantir que os valores são strings\n",
        "dates_as_str = df[\"expiring_date\"].astype(str)\n",
        "\n",
        "#Extrair apenas os caracteres que NÃO são dígitos\n",
        "#re.findall(\"\\D\", x) devolve todos os caracteres não numéricos\n",
        "non_numeric_chars = dates_as_str.apply(lambda x: re.findall(r\"\\D\", x))\n",
        "\n",
        "#Flatten (juntar tudo numa lista só)\n",
        "all_non_numeric = [char for sublist in non_numeric_chars for char in sublist]\n",
        "\n",
        "#Obter os símbolos únicos\n",
        "unique_symbols = set(all_non_numeric)\n",
        "\n",
        "print(\"Símbolos encontrados:\", unique_symbols)"
      ]
    },
    {
      "cell_type": "code",
      "execution_count": 52,
      "id": "zdnK2yJ8mwnx",
      "metadata": {
        "id": "zdnK2yJ8mwnx"
      },
      "outputs": [],
      "source": [
        "# Correção do campo de data de \"/\" para \"-\" e mudança para formato Datetime\n",
        "\n",
        "df[\"expiring_date\"] = (\n",
        "    df[\"expiring_date\"]\n",
        "    .str.replace(\"-\", \"/\", regex=False)   # padroniza separador\n",
        "    .pipe(pd.to_datetime, dayfirst=True, errors=\"coerce\")  # converte\n",
        "    .dt.date   # extrai apenas dia/mês/ano\n",
        ")"
      ]
    },
    {
      "cell_type": "code",
      "execution_count": 53,
      "id": "xuxdY2zHu7vy",
      "metadata": {
        "colab": {
          "base_uri": "https://localhost:8080/"
        },
        "id": "xuxdY2zHu7vy",
        "outputId": "6b1c8ffa-a2d7-491c-b245-78630f5a7e4f"
      },
      "outputs": [
        {
          "output_type": "stream",
          "name": "stdout",
          "text": [
            "object\n"
          ]
        }
      ],
      "source": [
        "print(df[\"expiring_date\"].dtype)"
      ]
    },
    {
      "cell_type": "code",
      "execution_count": 54,
      "id": "sbyPFBfhm3b3",
      "metadata": {
        "colab": {
          "base_uri": "https://localhost:8080/"
        },
        "id": "sbyPFBfhm3b3",
        "outputId": "1d08a7b5-d271-42a8-8ed4-163f82cb0aef"
      },
      "outputs": [
        {
          "output_type": "stream",
          "name": "stdout",
          "text": [
            "[datetime.date(2021, 10, 3) datetime.date(2021, 10, 2)\n",
            " datetime.date(2021, 10, 25) datetime.date(2021, 10, 26)\n",
            " datetime.date(2021, 10, 27) datetime.date(2021, 10, 15)\n",
            " datetime.date(2021, 10, 18) datetime.date(2021, 10, 28)\n",
            " datetime.date(2021, 10, 16) datetime.date(2021, 10, 23)\n",
            " datetime.date(2021, 10, 7) datetime.date(2021, 10, 30)\n",
            " datetime.date(2021, 10, 14) datetime.date(2021, 10, 21)\n",
            " datetime.date(2021, 10, 12) datetime.date(2021, 10, 9)\n",
            " datetime.date(2021, 10, 19) datetime.date(2021, 10, 5)\n",
            " datetime.date(2021, 10, 6) datetime.date(2021, 10, 11)\n",
            " datetime.date(2021, 10, 24) datetime.date(2021, 10, 13)\n",
            " datetime.date(2021, 10, 17) datetime.date(2021, 10, 10)\n",
            " datetime.date(2021, 10, 8) datetime.date(2021, 10, 22)\n",
            " datetime.date(2021, 11, 1) datetime.date(2021, 10, 20)\n",
            " datetime.date(2021, 10, 29) datetime.date(2021, 10, 31)\n",
            " datetime.date(2021, 10, 1) datetime.date(2021, 10, 4)\n",
            " datetime.date(2021, 11, 20) datetime.date(2021, 11, 2)\n",
            " datetime.date(2021, 11, 19) datetime.date(2021, 11, 6)\n",
            " datetime.date(2021, 11, 7) datetime.date(2021, 11, 8)\n",
            " datetime.date(2021, 11, 3) datetime.date(2021, 11, 18)\n",
            " datetime.date(2021, 11, 13) datetime.date(2021, 11, 10)\n",
            " datetime.date(2021, 11, 9) datetime.date(2021, 11, 5)\n",
            " datetime.date(2021, 11, 11)]\n"
          ]
        }
      ],
      "source": [
        "print(df[\"expiring_date\"].unique())"
      ]
    },
    {
      "cell_type": "code",
      "execution_count": 55,
      "id": "313C1lPVm4kG",
      "metadata": {
        "colab": {
          "base_uri": "https://localhost:8080/"
        },
        "id": "313C1lPVm4kG",
        "outputId": "33b3a2e0-6f06-48bf-d5ea-a0f0aae78580"
      },
      "outputs": [
        {
          "output_type": "stream",
          "name": "stdout",
          "text": [
            "2021-11-20\n",
            "2021-10-01\n"
          ]
        }
      ],
      "source": [
        "data_min = df[\"expiring_date\"].min()\n",
        "data_max = df[\"expiring_date\"].max()\n",
        "print(data_max)\n",
        "print(data_min)"
      ]
    },
    {
      "cell_type": "code",
      "source": [
        "#verificar missing values\n",
        "df['expiring_date'].isna().sum()"
      ],
      "metadata": {
        "colab": {
          "base_uri": "https://localhost:8080/"
        },
        "id": "XRZJilQM69hD",
        "outputId": "a4ca2238-6570-4f3a-9326-4c4de3f8ee9b"
      },
      "id": "XRZJilQM69hD",
      "execution_count": 56,
      "outputs": [
        {
          "output_type": "execute_result",
          "data": {
            "text/plain": [
              "np.int64(0)"
            ]
          },
          "metadata": {},
          "execution_count": 56
        }
      ]
    },
    {
      "cell_type": "code",
      "execution_count": 57,
      "id": "eY-0B3T9wU9h",
      "metadata": {
        "id": "eY-0B3T9wU9h"
      },
      "outputs": [],
      "source": [
        "# Converter de texto para datetime64[ns], só com data (hora = 00:00:00)\n",
        "df[\"expiring_date\"] = (\n",
        "    pd.to_datetime(df[\"expiring_date\"], dayfirst=True, errors=\"coerce\")\n",
        "    .dt.normalize()\n",
        ")\n"
      ]
    },
    {
      "cell_type": "markdown",
      "id": "18118a6f",
      "metadata": {
        "id": "18118a6f"
      },
      "source": [
        "### labelling_date\n",
        "\n",
        "Variável é quantitativa contínua, representa a data em que foi colocada a etiqueta no produto. As datas de etiquetagem variam entre 2021-10-01 e 2021-10-31. Não contém valores ausentes. O seu formato é Datetime"
      ]
    },
    {
      "cell_type": "code",
      "execution_count": 58,
      "id": "3WuHkPlxm9e3",
      "metadata": {
        "colab": {
          "base_uri": "https://localhost:8080/"
        },
        "id": "3WuHkPlxm9e3",
        "outputId": "f8c2df9a-1aeb-44cb-899c-10c526135a99"
      },
      "outputs": [
        {
          "output_type": "stream",
          "name": "stdout",
          "text": [
            "Símbolos encontrados: {'-'}\n"
          ]
        }
      ],
      "source": [
        "#verificaçao de quais os símbolos usados para separar o dia, mês e ano.\n",
        "\n",
        "#Garantir que os valores são strings\n",
        "dates_as_str = df[\"labelling_date\"].astype(str)\n",
        "\n",
        "#Extrair apenas os caracteres que NÃO são dígitos\n",
        "#re.findall(\"\\D\", x) devolve todos os caracteres não numéricos\n",
        "non_numeric_chars = dates_as_str.apply(lambda x: re.findall(r\"\\D\", x))\n",
        "\n",
        "#Flatten (juntar tudo numa lista só)\n",
        "all_non_numeric = [char for sublist in non_numeric_chars for char in sublist]\n",
        "\n",
        "#Obter os símbolos únicos\n",
        "unique_symbols = set(all_non_numeric)\n",
        "\n",
        "print(\"Símbolos encontrados:\", unique_symbols)"
      ]
    },
    {
      "cell_type": "code",
      "execution_count": 59,
      "id": "IrpIabIMm-pe",
      "metadata": {
        "colab": {
          "base_uri": "https://localhost:8080/"
        },
        "id": "IrpIabIMm-pe",
        "outputId": "93831f96-9dde-4911-af55-5912deb4f000"
      },
      "outputs": [
        {
          "output_type": "stream",
          "name": "stdout",
          "text": [
            "<DatetimeArray>\n",
            "['2021-10-01 00:00:00', '2021-10-13 00:00:00', '2021-10-15 00:00:00',\n",
            " '2021-10-17 00:00:00', '2021-10-11 00:00:00', '2021-10-14 00:00:00',\n",
            " '2021-10-20 00:00:00', '2021-10-06 00:00:00', '2021-10-21 00:00:00',\n",
            " '2021-10-28 00:00:00', '2021-10-27 00:00:00', '2021-10-23 00:00:00',\n",
            " '2021-10-05 00:00:00', '2021-10-29 00:00:00', '2021-10-12 00:00:00',\n",
            " '2021-10-22 00:00:00', '2021-10-10 00:00:00', '2021-10-25 00:00:00',\n",
            " '2021-10-08 00:00:00', '2021-10-18 00:00:00', '2021-10-26 00:00:00',\n",
            " '2021-10-30 00:00:00', '2021-10-07 00:00:00', '2021-10-02 00:00:00',\n",
            " '2021-10-19 00:00:00', '2021-10-03 00:00:00', '2021-10-24 00:00:00',\n",
            " '2021-10-09 00:00:00', '2021-10-04 00:00:00', '2021-10-31 00:00:00',\n",
            " '2021-10-16 00:00:00']\n",
            "Length: 31, dtype: datetime64[ns]\n"
          ]
        }
      ],
      "source": [
        "print(df[\"labelling_date\"].unique())"
      ]
    },
    {
      "cell_type": "code",
      "execution_count": 60,
      "id": "HicgXes5nAEn",
      "metadata": {
        "colab": {
          "base_uri": "https://localhost:8080/"
        },
        "id": "HicgXes5nAEn",
        "outputId": "426e0cb4-47c6-46f6-d5e8-57c5975b33be"
      },
      "outputs": [
        {
          "output_type": "stream",
          "name": "stdout",
          "text": [
            "2021-10-31 00:00:00\n",
            "2021-10-01 00:00:00\n"
          ]
        }
      ],
      "source": [
        "data_min = df[\"labelling_date\"].min()\n",
        "data_max = df[\"labelling_date\"].max()\n",
        "print(data_max)\n",
        "print(data_min)"
      ]
    },
    {
      "cell_type": "code",
      "source": [
        "#verificar missing values\n",
        "df['labelling_date'].isna().sum()"
      ],
      "metadata": {
        "colab": {
          "base_uri": "https://localhost:8080/"
        },
        "id": "pCHNf5XO7OsD",
        "outputId": "c4445a75-6401-4029-b220-3a2314bb286a"
      },
      "id": "pCHNf5XO7OsD",
      "execution_count": 61,
      "outputs": [
        {
          "output_type": "execute_result",
          "data": {
            "text/plain": [
              "np.int64(0)"
            ]
          },
          "metadata": {},
          "execution_count": 61
        }
      ]
    },
    {
      "cell_type": "code",
      "execution_count": 61,
      "id": "3aLZIPVSN51_",
      "metadata": {
        "id": "3aLZIPVSN51_"
      },
      "outputs": [],
      "source": []
    },
    {
      "cell_type": "markdown",
      "id": "t_dk_PY-N6Wc",
      "metadata": {
        "id": "t_dk_PY-N6Wc"
      },
      "source": [
        "Filtrar casos sem utilidade"
      ]
    },
    {
      "cell_type": "code",
      "execution_count": 62,
      "id": "LiWdBEi3dSZ_",
      "metadata": {
        "colab": {
          "base_uri": "https://localhost:8080/"
        },
        "id": "LiWdBEi3dSZ_",
        "outputId": "bc37c0ad-30f2-40d3-f801-bcdd44026314"
      },
      "outputs": [
        {
          "output_type": "stream",
          "name": "stdout",
          "text": [
            "Caso 1 - labelling_date > expiring_date: 0 registos\n",
            "Caso 2 - sell_date > expiring_date: 0 registos\n",
            "Caso 3 - sell_date < labelling_date: 6 registos\n",
            "Caso 4 - expiring_date > max(sell_date) & sold=0: 30 registos\n",
            "TOTAL incoerentes (flag=1): 76\n"
          ]
        }
      ],
      "source": [
        "#Verificar sell date ou label date após expiring date\n",
        "\n",
        "# Caso 1: labelling_date depois da expiring_date\n",
        "cond1 = df[\"labelling_date\"] > df[\"expiring_date\"]\n",
        "df.loc[cond1, \"flag\"] = 1\n",
        "print(f\"Caso 1 - labelling_date > expiring_date: {cond1.sum()} registos\")\n",
        "\n",
        "# Caso 2: sell_date depois da expiring_date (ignorando NaN)\n",
        "cond2 = df[\"sell_date\"].notna() & (df[\"sell_date\"] > df[\"expiring_date\"])\n",
        "df.loc[cond2, \"flag\"] = 1\n",
        "print(f\"Caso 2 - sell_date > expiring_date: {cond2.sum()} registos\")\n",
        "\n",
        "# Caso 3: sell_date antes do labelling_date (ignorando NaN)\n",
        "cond3 = df[\"sell_date\"].notna() & (df[\"sell_date\"] < df[\"labelling_date\"])\n",
        "df.loc[cond3, \"flag\"] = 1\n",
        "print(f\"Caso 3 - sell_date < labelling_date: {cond3.sum()} registos\")\n",
        "\n",
        "# Caso 4: expiring_date > máximo de sell_date e sold=0\n",
        "max_sell_date = df[\"sell_date\"].max()\n",
        "cond4 = (df[\"expiring_date\"] > max_sell_date) & (df[\"sold\"] == 0)\n",
        "df.loc[cond4, \"flag\"] = 1\n",
        "print(f\"Caso 4 - expiring_date > max(sell_date) & sold=0: {cond4.sum()} registos\")\n",
        "\n",
        "# Total marcados como incoerentes\n",
        "print(f\"TOTAL incoerentes (flag=1): {df['flag'].sum()}\")\n"
      ]
    },
    {
      "cell_type": "code",
      "execution_count": 63,
      "id": "XJNJb8UViEoE",
      "metadata": {
        "colab": {
          "base_uri": "https://localhost:8080/",
          "height": 1000
        },
        "id": "XJNJb8UViEoE",
        "outputId": "ba12228d-5598-44e1-f50a-afdc2fabefca"
      },
      "outputs": [
        {
          "output_type": "execute_result",
          "data": {
            "text/plain": [
              "       idstore  sku     brand  oldpvp  weight (g) Payment_method  Margin (%)  \\\n",
              "7852       296   15   Marca 2    1.79       145.0            NaN        0.18   \n",
              "10688      145   26  Marca 11    1.49       215.0            NaN        0.15   \n",
              "10689      145   26  Marca 11    1.49       215.0            NaN        0.15   \n",
              "10690      145   26  Marca 11    1.49       215.0            NaN        0.15   \n",
              "10691      145   26  Marca 11    1.49       215.0            NaN        0.15   \n",
              "10692      145   26  Marca 11    1.49       215.0            NaN        0.15   \n",
              "32648      175   93   Marca 2    1.79       118.0            NaN        0.14   \n",
              "32649      175   93   Marca 2    1.79       118.0            NaN        0.14   \n",
              "32650      175   93   Marca 2    1.79       118.0            NaN        0.14   \n",
              "32651      175   93   Marca 2    1.79       118.0            NaN        0.14   \n",
              "32653      267   93   Marca 2    1.79       118.0            NaN        0.14   \n",
              "33824      296   96   Marca 2    2.49       143.0            NaN        0.12   \n",
              "33825      296   96   Marca 2    2.49       143.0            NaN        0.12   \n",
              "33826      296   96   Marca 2    2.49       143.0            NaN        0.12   \n",
              "33827      296   96   Marca 2    2.49       143.0            NaN        0.12   \n",
              "33828      296   96   Marca 2    2.49       143.0            NaN        0.12   \n",
              "33829      296   96   Marca 2    2.49       143.0            NaN        0.12   \n",
              "33830      296   96   Marca 2    2.49       143.0            NaN        0.12   \n",
              "33831      296   96   Marca 2    2.49       143.0            NaN        0.12   \n",
              "62178      190  133  Marca 27    1.49       155.0            NaN        0.11   \n",
              "62179      190  133  Marca 27    1.49       155.0            NaN        0.11   \n",
              "62180      190  133  Marca 27    1.49       155.0            NaN        0.11   \n",
              "62706      259  137  Marca 31    0.79       236.0            NaN        0.16   \n",
              "62707      259  137  Marca 31    0.79       236.0            NaN        0.16   \n",
              "62708      259  137  Marca 31    0.79       236.0            NaN        0.16   \n",
              "62709      259  137  Marca 31    0.79       236.0            NaN        0.16   \n",
              "62710      259  137  Marca 31    0.79       236.0            NaN        0.16   \n",
              "62711      259  137  Marca 31    0.79       236.0            NaN        0.16   \n",
              "62712      259  137  Marca 31    0.79       236.0            NaN        0.16   \n",
              "62713      259  137  Marca 31    0.79       236.0            NaN        0.16   \n",
              "\n",
              "       Profit (€)  perc_expiring_sku expiring_date labelling_date sell_date  \\\n",
              "7852       0.1602           0.125786    2021-11-20     2021-10-31       NaT   \n",
              "10688       0.111           0.082645    2021-11-19     2021-10-30       NaT   \n",
              "10689       0.111           0.082645    2021-11-19     2021-10-30       NaT   \n",
              "10690       0.111           0.082645    2021-11-19     2021-10-30       NaT   \n",
              "10691       0.111           0.082645    2021-11-19     2021-10-30       NaT   \n",
              "10692       0.111           0.082645    2021-11-19     2021-10-30       NaT   \n",
              "32648      0.1246           0.125786    2021-11-20     2021-10-31       NaT   \n",
              "32649      0.1246           0.125786    2021-11-20     2021-10-31       NaT   \n",
              "32650      0.1246           0.125786    2021-11-20     2021-10-31       NaT   \n",
              "32651      0.1246           0.125786    2021-11-20     2021-10-31       NaT   \n",
              "32653      0.1876           0.125786    2021-11-20     2021-10-31       NaT   \n",
              "33824      0.1488           0.125786    2021-11-20     2021-10-31       NaT   \n",
              "33825      0.1488           0.125786    2021-11-20     2021-10-31       NaT   \n",
              "33826      0.1488           0.125786    2021-11-20     2021-10-31       NaT   \n",
              "33827      0.1488           0.125786    2021-11-20     2021-10-31       NaT   \n",
              "33828      0.1488           0.125786    2021-11-20     2021-10-31       NaT   \n",
              "33829      0.1488           0.125786    2021-11-20     2021-10-31       NaT   \n",
              "33830      0.1488           0.125786    2021-11-20     2021-10-31       NaT   \n",
              "33831      0.1488           0.125786    2021-11-20     2021-10-31       NaT   \n",
              "62178      0.0814           0.125786    2021-11-19     2021-10-30       NaT   \n",
              "62179      0.0814           0.125786    2021-11-19     2021-10-30       NaT   \n",
              "62180      0.0814           0.125786    2021-11-19     2021-10-30       NaT   \n",
              "62706       0.088           0.103306    2021-11-20     2021-10-26       NaT   \n",
              "62707       0.088           0.103306    2021-11-20     2021-10-26       NaT   \n",
              "62708       0.088           0.103306    2021-11-20     2021-10-26       NaT   \n",
              "62709       0.088           0.103306    2021-11-20     2021-10-26       NaT   \n",
              "62710       0.088           0.103306    2021-11-20     2021-10-26       NaT   \n",
              "62711       0.088           0.103306    2021-11-20     2021-10-26       NaT   \n",
              "62712       0.088           0.103306    2021-11-20     2021-10-26       NaT   \n",
              "62713       0.088           0.103306    2021-11-20     2021-10-26       NaT   \n",
              "\n",
              "       sold    type  selling_square_ft        district  newpvp  discount  flag  \n",
              "7852      0   Small              379.0         Coimbra    0.89      0.50     1  \n",
              "10688     0   Small             1352.0          Lisboa    0.74      0.50     1  \n",
              "10689     0   Small             1352.0          Lisboa    0.74      0.50     1  \n",
              "10690     0   Small             1352.0          Lisboa    0.74      0.50     1  \n",
              "10691     0   Small             1352.0          Lisboa    0.74      0.50     1  \n",
              "10692     0   Small             1352.0          Lisboa    0.74      0.50     1  \n",
              "32648     0  Medium             5576.0          Aveiro    0.89      0.50     1  \n",
              "32649     0  Medium             5576.0          Aveiro    0.89      0.50     1  \n",
              "32650     0  Medium             5576.0          Aveiro    0.89      0.50     1  \n",
              "32651     0  Medium             5576.0          Aveiro    0.89      0.50     1  \n",
              "32653     0   Small              768.0           Braga    1.34      0.25     1  \n",
              "33824     0   Small              379.0         Coimbra    1.24      0.50     1  \n",
              "33825     0   Small              379.0         Coimbra    1.24      0.50     1  \n",
              "33826     0   Small              379.0         Coimbra    1.24      0.50     1  \n",
              "33827     0   Small              379.0         Coimbra    1.24      0.50     1  \n",
              "33828     0   Small              379.0         Coimbra    1.24      0.50     1  \n",
              "33829     0   Small              379.0         Coimbra    1.24      0.50     1  \n",
              "33830     0   Small              379.0         Coimbra    1.24      0.50     1  \n",
              "33831     0   Small              379.0         Coimbra    1.24      0.50     1  \n",
              "62178     0   Small              936.0  Castelo Branco    0.74      0.50     1  \n",
              "62179     0   Small              936.0  Castelo Branco    0.74      0.50     1  \n",
              "62180     0   Small              936.0  Castelo Branco    0.74      0.50     1  \n",
              "62706     0   Small             1425.0         Coimbra    0.55      0.30     1  \n",
              "62707     0   Small             1425.0         Coimbra    0.55      0.30     1  \n",
              "62708     0   Small             1425.0         Coimbra    0.55      0.30     1  \n",
              "62709     0   Small             1425.0         Coimbra    0.55      0.30     1  \n",
              "62710     0   Small             1425.0         Coimbra    0.55      0.30     1  \n",
              "62711     0   Small             1425.0         Coimbra    0.55      0.30     1  \n",
              "62712     0   Small             1425.0         Coimbra    0.55      0.30     1  \n",
              "62713     0   Small             1425.0         Coimbra    0.55      0.30     1  "
            ],
            "text/html": [
              "\n",
              "  <div id=\"df-75bec1ed-7d75-482e-9cba-964e616facd2\" class=\"colab-df-container\">\n",
              "    <div>\n",
              "<style scoped>\n",
              "    .dataframe tbody tr th:only-of-type {\n",
              "        vertical-align: middle;\n",
              "    }\n",
              "\n",
              "    .dataframe tbody tr th {\n",
              "        vertical-align: top;\n",
              "    }\n",
              "\n",
              "    .dataframe thead th {\n",
              "        text-align: right;\n",
              "    }\n",
              "</style>\n",
              "<table border=\"1\" class=\"dataframe\">\n",
              "  <thead>\n",
              "    <tr style=\"text-align: right;\">\n",
              "      <th></th>\n",
              "      <th>idstore</th>\n",
              "      <th>sku</th>\n",
              "      <th>brand</th>\n",
              "      <th>oldpvp</th>\n",
              "      <th>weight (g)</th>\n",
              "      <th>Payment_method</th>\n",
              "      <th>Margin (%)</th>\n",
              "      <th>Profit (€)</th>\n",
              "      <th>perc_expiring_sku</th>\n",
              "      <th>expiring_date</th>\n",
              "      <th>labelling_date</th>\n",
              "      <th>sell_date</th>\n",
              "      <th>sold</th>\n",
              "      <th>type</th>\n",
              "      <th>selling_square_ft</th>\n",
              "      <th>district</th>\n",
              "      <th>newpvp</th>\n",
              "      <th>discount</th>\n",
              "      <th>flag</th>\n",
              "    </tr>\n",
              "  </thead>\n",
              "  <tbody>\n",
              "    <tr>\n",
              "      <th>7852</th>\n",
              "      <td>296</td>\n",
              "      <td>15</td>\n",
              "      <td>Marca 2</td>\n",
              "      <td>1.79</td>\n",
              "      <td>145.0</td>\n",
              "      <td>NaN</td>\n",
              "      <td>0.18</td>\n",
              "      <td>0.1602</td>\n",
              "      <td>0.125786</td>\n",
              "      <td>2021-11-20</td>\n",
              "      <td>2021-10-31</td>\n",
              "      <td>NaT</td>\n",
              "      <td>0</td>\n",
              "      <td>Small</td>\n",
              "      <td>379.0</td>\n",
              "      <td>Coimbra</td>\n",
              "      <td>0.89</td>\n",
              "      <td>0.50</td>\n",
              "      <td>1</td>\n",
              "    </tr>\n",
              "    <tr>\n",
              "      <th>10688</th>\n",
              "      <td>145</td>\n",
              "      <td>26</td>\n",
              "      <td>Marca 11</td>\n",
              "      <td>1.49</td>\n",
              "      <td>215.0</td>\n",
              "      <td>NaN</td>\n",
              "      <td>0.15</td>\n",
              "      <td>0.111</td>\n",
              "      <td>0.082645</td>\n",
              "      <td>2021-11-19</td>\n",
              "      <td>2021-10-30</td>\n",
              "      <td>NaT</td>\n",
              "      <td>0</td>\n",
              "      <td>Small</td>\n",
              "      <td>1352.0</td>\n",
              "      <td>Lisboa</td>\n",
              "      <td>0.74</td>\n",
              "      <td>0.50</td>\n",
              "      <td>1</td>\n",
              "    </tr>\n",
              "    <tr>\n",
              "      <th>10689</th>\n",
              "      <td>145</td>\n",
              "      <td>26</td>\n",
              "      <td>Marca 11</td>\n",
              "      <td>1.49</td>\n",
              "      <td>215.0</td>\n",
              "      <td>NaN</td>\n",
              "      <td>0.15</td>\n",
              "      <td>0.111</td>\n",
              "      <td>0.082645</td>\n",
              "      <td>2021-11-19</td>\n",
              "      <td>2021-10-30</td>\n",
              "      <td>NaT</td>\n",
              "      <td>0</td>\n",
              "      <td>Small</td>\n",
              "      <td>1352.0</td>\n",
              "      <td>Lisboa</td>\n",
              "      <td>0.74</td>\n",
              "      <td>0.50</td>\n",
              "      <td>1</td>\n",
              "    </tr>\n",
              "    <tr>\n",
              "      <th>10690</th>\n",
              "      <td>145</td>\n",
              "      <td>26</td>\n",
              "      <td>Marca 11</td>\n",
              "      <td>1.49</td>\n",
              "      <td>215.0</td>\n",
              "      <td>NaN</td>\n",
              "      <td>0.15</td>\n",
              "      <td>0.111</td>\n",
              "      <td>0.082645</td>\n",
              "      <td>2021-11-19</td>\n",
              "      <td>2021-10-30</td>\n",
              "      <td>NaT</td>\n",
              "      <td>0</td>\n",
              "      <td>Small</td>\n",
              "      <td>1352.0</td>\n",
              "      <td>Lisboa</td>\n",
              "      <td>0.74</td>\n",
              "      <td>0.50</td>\n",
              "      <td>1</td>\n",
              "    </tr>\n",
              "    <tr>\n",
              "      <th>10691</th>\n",
              "      <td>145</td>\n",
              "      <td>26</td>\n",
              "      <td>Marca 11</td>\n",
              "      <td>1.49</td>\n",
              "      <td>215.0</td>\n",
              "      <td>NaN</td>\n",
              "      <td>0.15</td>\n",
              "      <td>0.111</td>\n",
              "      <td>0.082645</td>\n",
              "      <td>2021-11-19</td>\n",
              "      <td>2021-10-30</td>\n",
              "      <td>NaT</td>\n",
              "      <td>0</td>\n",
              "      <td>Small</td>\n",
              "      <td>1352.0</td>\n",
              "      <td>Lisboa</td>\n",
              "      <td>0.74</td>\n",
              "      <td>0.50</td>\n",
              "      <td>1</td>\n",
              "    </tr>\n",
              "    <tr>\n",
              "      <th>10692</th>\n",
              "      <td>145</td>\n",
              "      <td>26</td>\n",
              "      <td>Marca 11</td>\n",
              "      <td>1.49</td>\n",
              "      <td>215.0</td>\n",
              "      <td>NaN</td>\n",
              "      <td>0.15</td>\n",
              "      <td>0.111</td>\n",
              "      <td>0.082645</td>\n",
              "      <td>2021-11-19</td>\n",
              "      <td>2021-10-30</td>\n",
              "      <td>NaT</td>\n",
              "      <td>0</td>\n",
              "      <td>Small</td>\n",
              "      <td>1352.0</td>\n",
              "      <td>Lisboa</td>\n",
              "      <td>0.74</td>\n",
              "      <td>0.50</td>\n",
              "      <td>1</td>\n",
              "    </tr>\n",
              "    <tr>\n",
              "      <th>32648</th>\n",
              "      <td>175</td>\n",
              "      <td>93</td>\n",
              "      <td>Marca 2</td>\n",
              "      <td>1.79</td>\n",
              "      <td>118.0</td>\n",
              "      <td>NaN</td>\n",
              "      <td>0.14</td>\n",
              "      <td>0.1246</td>\n",
              "      <td>0.125786</td>\n",
              "      <td>2021-11-20</td>\n",
              "      <td>2021-10-31</td>\n",
              "      <td>NaT</td>\n",
              "      <td>0</td>\n",
              "      <td>Medium</td>\n",
              "      <td>5576.0</td>\n",
              "      <td>Aveiro</td>\n",
              "      <td>0.89</td>\n",
              "      <td>0.50</td>\n",
              "      <td>1</td>\n",
              "    </tr>\n",
              "    <tr>\n",
              "      <th>32649</th>\n",
              "      <td>175</td>\n",
              "      <td>93</td>\n",
              "      <td>Marca 2</td>\n",
              "      <td>1.79</td>\n",
              "      <td>118.0</td>\n",
              "      <td>NaN</td>\n",
              "      <td>0.14</td>\n",
              "      <td>0.1246</td>\n",
              "      <td>0.125786</td>\n",
              "      <td>2021-11-20</td>\n",
              "      <td>2021-10-31</td>\n",
              "      <td>NaT</td>\n",
              "      <td>0</td>\n",
              "      <td>Medium</td>\n",
              "      <td>5576.0</td>\n",
              "      <td>Aveiro</td>\n",
              "      <td>0.89</td>\n",
              "      <td>0.50</td>\n",
              "      <td>1</td>\n",
              "    </tr>\n",
              "    <tr>\n",
              "      <th>32650</th>\n",
              "      <td>175</td>\n",
              "      <td>93</td>\n",
              "      <td>Marca 2</td>\n",
              "      <td>1.79</td>\n",
              "      <td>118.0</td>\n",
              "      <td>NaN</td>\n",
              "      <td>0.14</td>\n",
              "      <td>0.1246</td>\n",
              "      <td>0.125786</td>\n",
              "      <td>2021-11-20</td>\n",
              "      <td>2021-10-31</td>\n",
              "      <td>NaT</td>\n",
              "      <td>0</td>\n",
              "      <td>Medium</td>\n",
              "      <td>5576.0</td>\n",
              "      <td>Aveiro</td>\n",
              "      <td>0.89</td>\n",
              "      <td>0.50</td>\n",
              "      <td>1</td>\n",
              "    </tr>\n",
              "    <tr>\n",
              "      <th>32651</th>\n",
              "      <td>175</td>\n",
              "      <td>93</td>\n",
              "      <td>Marca 2</td>\n",
              "      <td>1.79</td>\n",
              "      <td>118.0</td>\n",
              "      <td>NaN</td>\n",
              "      <td>0.14</td>\n",
              "      <td>0.1246</td>\n",
              "      <td>0.125786</td>\n",
              "      <td>2021-11-20</td>\n",
              "      <td>2021-10-31</td>\n",
              "      <td>NaT</td>\n",
              "      <td>0</td>\n",
              "      <td>Medium</td>\n",
              "      <td>5576.0</td>\n",
              "      <td>Aveiro</td>\n",
              "      <td>0.89</td>\n",
              "      <td>0.50</td>\n",
              "      <td>1</td>\n",
              "    </tr>\n",
              "    <tr>\n",
              "      <th>32653</th>\n",
              "      <td>267</td>\n",
              "      <td>93</td>\n",
              "      <td>Marca 2</td>\n",
              "      <td>1.79</td>\n",
              "      <td>118.0</td>\n",
              "      <td>NaN</td>\n",
              "      <td>0.14</td>\n",
              "      <td>0.1876</td>\n",
              "      <td>0.125786</td>\n",
              "      <td>2021-11-20</td>\n",
              "      <td>2021-10-31</td>\n",
              "      <td>NaT</td>\n",
              "      <td>0</td>\n",
              "      <td>Small</td>\n",
              "      <td>768.0</td>\n",
              "      <td>Braga</td>\n",
              "      <td>1.34</td>\n",
              "      <td>0.25</td>\n",
              "      <td>1</td>\n",
              "    </tr>\n",
              "    <tr>\n",
              "      <th>33824</th>\n",
              "      <td>296</td>\n",
              "      <td>96</td>\n",
              "      <td>Marca 2</td>\n",
              "      <td>2.49</td>\n",
              "      <td>143.0</td>\n",
              "      <td>NaN</td>\n",
              "      <td>0.12</td>\n",
              "      <td>0.1488</td>\n",
              "      <td>0.125786</td>\n",
              "      <td>2021-11-20</td>\n",
              "      <td>2021-10-31</td>\n",
              "      <td>NaT</td>\n",
              "      <td>0</td>\n",
              "      <td>Small</td>\n",
              "      <td>379.0</td>\n",
              "      <td>Coimbra</td>\n",
              "      <td>1.24</td>\n",
              "      <td>0.50</td>\n",
              "      <td>1</td>\n",
              "    </tr>\n",
              "    <tr>\n",
              "      <th>33825</th>\n",
              "      <td>296</td>\n",
              "      <td>96</td>\n",
              "      <td>Marca 2</td>\n",
              "      <td>2.49</td>\n",
              "      <td>143.0</td>\n",
              "      <td>NaN</td>\n",
              "      <td>0.12</td>\n",
              "      <td>0.1488</td>\n",
              "      <td>0.125786</td>\n",
              "      <td>2021-11-20</td>\n",
              "      <td>2021-10-31</td>\n",
              "      <td>NaT</td>\n",
              "      <td>0</td>\n",
              "      <td>Small</td>\n",
              "      <td>379.0</td>\n",
              "      <td>Coimbra</td>\n",
              "      <td>1.24</td>\n",
              "      <td>0.50</td>\n",
              "      <td>1</td>\n",
              "    </tr>\n",
              "    <tr>\n",
              "      <th>33826</th>\n",
              "      <td>296</td>\n",
              "      <td>96</td>\n",
              "      <td>Marca 2</td>\n",
              "      <td>2.49</td>\n",
              "      <td>143.0</td>\n",
              "      <td>NaN</td>\n",
              "      <td>0.12</td>\n",
              "      <td>0.1488</td>\n",
              "      <td>0.125786</td>\n",
              "      <td>2021-11-20</td>\n",
              "      <td>2021-10-31</td>\n",
              "      <td>NaT</td>\n",
              "      <td>0</td>\n",
              "      <td>Small</td>\n",
              "      <td>379.0</td>\n",
              "      <td>Coimbra</td>\n",
              "      <td>1.24</td>\n",
              "      <td>0.50</td>\n",
              "      <td>1</td>\n",
              "    </tr>\n",
              "    <tr>\n",
              "      <th>33827</th>\n",
              "      <td>296</td>\n",
              "      <td>96</td>\n",
              "      <td>Marca 2</td>\n",
              "      <td>2.49</td>\n",
              "      <td>143.0</td>\n",
              "      <td>NaN</td>\n",
              "      <td>0.12</td>\n",
              "      <td>0.1488</td>\n",
              "      <td>0.125786</td>\n",
              "      <td>2021-11-20</td>\n",
              "      <td>2021-10-31</td>\n",
              "      <td>NaT</td>\n",
              "      <td>0</td>\n",
              "      <td>Small</td>\n",
              "      <td>379.0</td>\n",
              "      <td>Coimbra</td>\n",
              "      <td>1.24</td>\n",
              "      <td>0.50</td>\n",
              "      <td>1</td>\n",
              "    </tr>\n",
              "    <tr>\n",
              "      <th>33828</th>\n",
              "      <td>296</td>\n",
              "      <td>96</td>\n",
              "      <td>Marca 2</td>\n",
              "      <td>2.49</td>\n",
              "      <td>143.0</td>\n",
              "      <td>NaN</td>\n",
              "      <td>0.12</td>\n",
              "      <td>0.1488</td>\n",
              "      <td>0.125786</td>\n",
              "      <td>2021-11-20</td>\n",
              "      <td>2021-10-31</td>\n",
              "      <td>NaT</td>\n",
              "      <td>0</td>\n",
              "      <td>Small</td>\n",
              "      <td>379.0</td>\n",
              "      <td>Coimbra</td>\n",
              "      <td>1.24</td>\n",
              "      <td>0.50</td>\n",
              "      <td>1</td>\n",
              "    </tr>\n",
              "    <tr>\n",
              "      <th>33829</th>\n",
              "      <td>296</td>\n",
              "      <td>96</td>\n",
              "      <td>Marca 2</td>\n",
              "      <td>2.49</td>\n",
              "      <td>143.0</td>\n",
              "      <td>NaN</td>\n",
              "      <td>0.12</td>\n",
              "      <td>0.1488</td>\n",
              "      <td>0.125786</td>\n",
              "      <td>2021-11-20</td>\n",
              "      <td>2021-10-31</td>\n",
              "      <td>NaT</td>\n",
              "      <td>0</td>\n",
              "      <td>Small</td>\n",
              "      <td>379.0</td>\n",
              "      <td>Coimbra</td>\n",
              "      <td>1.24</td>\n",
              "      <td>0.50</td>\n",
              "      <td>1</td>\n",
              "    </tr>\n",
              "    <tr>\n",
              "      <th>33830</th>\n",
              "      <td>296</td>\n",
              "      <td>96</td>\n",
              "      <td>Marca 2</td>\n",
              "      <td>2.49</td>\n",
              "      <td>143.0</td>\n",
              "      <td>NaN</td>\n",
              "      <td>0.12</td>\n",
              "      <td>0.1488</td>\n",
              "      <td>0.125786</td>\n",
              "      <td>2021-11-20</td>\n",
              "      <td>2021-10-31</td>\n",
              "      <td>NaT</td>\n",
              "      <td>0</td>\n",
              "      <td>Small</td>\n",
              "      <td>379.0</td>\n",
              "      <td>Coimbra</td>\n",
              "      <td>1.24</td>\n",
              "      <td>0.50</td>\n",
              "      <td>1</td>\n",
              "    </tr>\n",
              "    <tr>\n",
              "      <th>33831</th>\n",
              "      <td>296</td>\n",
              "      <td>96</td>\n",
              "      <td>Marca 2</td>\n",
              "      <td>2.49</td>\n",
              "      <td>143.0</td>\n",
              "      <td>NaN</td>\n",
              "      <td>0.12</td>\n",
              "      <td>0.1488</td>\n",
              "      <td>0.125786</td>\n",
              "      <td>2021-11-20</td>\n",
              "      <td>2021-10-31</td>\n",
              "      <td>NaT</td>\n",
              "      <td>0</td>\n",
              "      <td>Small</td>\n",
              "      <td>379.0</td>\n",
              "      <td>Coimbra</td>\n",
              "      <td>1.24</td>\n",
              "      <td>0.50</td>\n",
              "      <td>1</td>\n",
              "    </tr>\n",
              "    <tr>\n",
              "      <th>62178</th>\n",
              "      <td>190</td>\n",
              "      <td>133</td>\n",
              "      <td>Marca 27</td>\n",
              "      <td>1.49</td>\n",
              "      <td>155.0</td>\n",
              "      <td>NaN</td>\n",
              "      <td>0.11</td>\n",
              "      <td>0.0814</td>\n",
              "      <td>0.125786</td>\n",
              "      <td>2021-11-19</td>\n",
              "      <td>2021-10-30</td>\n",
              "      <td>NaT</td>\n",
              "      <td>0</td>\n",
              "      <td>Small</td>\n",
              "      <td>936.0</td>\n",
              "      <td>Castelo Branco</td>\n",
              "      <td>0.74</td>\n",
              "      <td>0.50</td>\n",
              "      <td>1</td>\n",
              "    </tr>\n",
              "    <tr>\n",
              "      <th>62179</th>\n",
              "      <td>190</td>\n",
              "      <td>133</td>\n",
              "      <td>Marca 27</td>\n",
              "      <td>1.49</td>\n",
              "      <td>155.0</td>\n",
              "      <td>NaN</td>\n",
              "      <td>0.11</td>\n",
              "      <td>0.0814</td>\n",
              "      <td>0.125786</td>\n",
              "      <td>2021-11-19</td>\n",
              "      <td>2021-10-30</td>\n",
              "      <td>NaT</td>\n",
              "      <td>0</td>\n",
              "      <td>Small</td>\n",
              "      <td>936.0</td>\n",
              "      <td>Castelo Branco</td>\n",
              "      <td>0.74</td>\n",
              "      <td>0.50</td>\n",
              "      <td>1</td>\n",
              "    </tr>\n",
              "    <tr>\n",
              "      <th>62180</th>\n",
              "      <td>190</td>\n",
              "      <td>133</td>\n",
              "      <td>Marca 27</td>\n",
              "      <td>1.49</td>\n",
              "      <td>155.0</td>\n",
              "      <td>NaN</td>\n",
              "      <td>0.11</td>\n",
              "      <td>0.0814</td>\n",
              "      <td>0.125786</td>\n",
              "      <td>2021-11-19</td>\n",
              "      <td>2021-10-30</td>\n",
              "      <td>NaT</td>\n",
              "      <td>0</td>\n",
              "      <td>Small</td>\n",
              "      <td>936.0</td>\n",
              "      <td>Castelo Branco</td>\n",
              "      <td>0.74</td>\n",
              "      <td>0.50</td>\n",
              "      <td>1</td>\n",
              "    </tr>\n",
              "    <tr>\n",
              "      <th>62706</th>\n",
              "      <td>259</td>\n",
              "      <td>137</td>\n",
              "      <td>Marca 31</td>\n",
              "      <td>0.79</td>\n",
              "      <td>236.0</td>\n",
              "      <td>NaN</td>\n",
              "      <td>0.16</td>\n",
              "      <td>0.088</td>\n",
              "      <td>0.103306</td>\n",
              "      <td>2021-11-20</td>\n",
              "      <td>2021-10-26</td>\n",
              "      <td>NaT</td>\n",
              "      <td>0</td>\n",
              "      <td>Small</td>\n",
              "      <td>1425.0</td>\n",
              "      <td>Coimbra</td>\n",
              "      <td>0.55</td>\n",
              "      <td>0.30</td>\n",
              "      <td>1</td>\n",
              "    </tr>\n",
              "    <tr>\n",
              "      <th>62707</th>\n",
              "      <td>259</td>\n",
              "      <td>137</td>\n",
              "      <td>Marca 31</td>\n",
              "      <td>0.79</td>\n",
              "      <td>236.0</td>\n",
              "      <td>NaN</td>\n",
              "      <td>0.16</td>\n",
              "      <td>0.088</td>\n",
              "      <td>0.103306</td>\n",
              "      <td>2021-11-20</td>\n",
              "      <td>2021-10-26</td>\n",
              "      <td>NaT</td>\n",
              "      <td>0</td>\n",
              "      <td>Small</td>\n",
              "      <td>1425.0</td>\n",
              "      <td>Coimbra</td>\n",
              "      <td>0.55</td>\n",
              "      <td>0.30</td>\n",
              "      <td>1</td>\n",
              "    </tr>\n",
              "    <tr>\n",
              "      <th>62708</th>\n",
              "      <td>259</td>\n",
              "      <td>137</td>\n",
              "      <td>Marca 31</td>\n",
              "      <td>0.79</td>\n",
              "      <td>236.0</td>\n",
              "      <td>NaN</td>\n",
              "      <td>0.16</td>\n",
              "      <td>0.088</td>\n",
              "      <td>0.103306</td>\n",
              "      <td>2021-11-20</td>\n",
              "      <td>2021-10-26</td>\n",
              "      <td>NaT</td>\n",
              "      <td>0</td>\n",
              "      <td>Small</td>\n",
              "      <td>1425.0</td>\n",
              "      <td>Coimbra</td>\n",
              "      <td>0.55</td>\n",
              "      <td>0.30</td>\n",
              "      <td>1</td>\n",
              "    </tr>\n",
              "    <tr>\n",
              "      <th>62709</th>\n",
              "      <td>259</td>\n",
              "      <td>137</td>\n",
              "      <td>Marca 31</td>\n",
              "      <td>0.79</td>\n",
              "      <td>236.0</td>\n",
              "      <td>NaN</td>\n",
              "      <td>0.16</td>\n",
              "      <td>0.088</td>\n",
              "      <td>0.103306</td>\n",
              "      <td>2021-11-20</td>\n",
              "      <td>2021-10-26</td>\n",
              "      <td>NaT</td>\n",
              "      <td>0</td>\n",
              "      <td>Small</td>\n",
              "      <td>1425.0</td>\n",
              "      <td>Coimbra</td>\n",
              "      <td>0.55</td>\n",
              "      <td>0.30</td>\n",
              "      <td>1</td>\n",
              "    </tr>\n",
              "    <tr>\n",
              "      <th>62710</th>\n",
              "      <td>259</td>\n",
              "      <td>137</td>\n",
              "      <td>Marca 31</td>\n",
              "      <td>0.79</td>\n",
              "      <td>236.0</td>\n",
              "      <td>NaN</td>\n",
              "      <td>0.16</td>\n",
              "      <td>0.088</td>\n",
              "      <td>0.103306</td>\n",
              "      <td>2021-11-20</td>\n",
              "      <td>2021-10-26</td>\n",
              "      <td>NaT</td>\n",
              "      <td>0</td>\n",
              "      <td>Small</td>\n",
              "      <td>1425.0</td>\n",
              "      <td>Coimbra</td>\n",
              "      <td>0.55</td>\n",
              "      <td>0.30</td>\n",
              "      <td>1</td>\n",
              "    </tr>\n",
              "    <tr>\n",
              "      <th>62711</th>\n",
              "      <td>259</td>\n",
              "      <td>137</td>\n",
              "      <td>Marca 31</td>\n",
              "      <td>0.79</td>\n",
              "      <td>236.0</td>\n",
              "      <td>NaN</td>\n",
              "      <td>0.16</td>\n",
              "      <td>0.088</td>\n",
              "      <td>0.103306</td>\n",
              "      <td>2021-11-20</td>\n",
              "      <td>2021-10-26</td>\n",
              "      <td>NaT</td>\n",
              "      <td>0</td>\n",
              "      <td>Small</td>\n",
              "      <td>1425.0</td>\n",
              "      <td>Coimbra</td>\n",
              "      <td>0.55</td>\n",
              "      <td>0.30</td>\n",
              "      <td>1</td>\n",
              "    </tr>\n",
              "    <tr>\n",
              "      <th>62712</th>\n",
              "      <td>259</td>\n",
              "      <td>137</td>\n",
              "      <td>Marca 31</td>\n",
              "      <td>0.79</td>\n",
              "      <td>236.0</td>\n",
              "      <td>NaN</td>\n",
              "      <td>0.16</td>\n",
              "      <td>0.088</td>\n",
              "      <td>0.103306</td>\n",
              "      <td>2021-11-20</td>\n",
              "      <td>2021-10-26</td>\n",
              "      <td>NaT</td>\n",
              "      <td>0</td>\n",
              "      <td>Small</td>\n",
              "      <td>1425.0</td>\n",
              "      <td>Coimbra</td>\n",
              "      <td>0.55</td>\n",
              "      <td>0.30</td>\n",
              "      <td>1</td>\n",
              "    </tr>\n",
              "    <tr>\n",
              "      <th>62713</th>\n",
              "      <td>259</td>\n",
              "      <td>137</td>\n",
              "      <td>Marca 31</td>\n",
              "      <td>0.79</td>\n",
              "      <td>236.0</td>\n",
              "      <td>NaN</td>\n",
              "      <td>0.16</td>\n",
              "      <td>0.088</td>\n",
              "      <td>0.103306</td>\n",
              "      <td>2021-11-20</td>\n",
              "      <td>2021-10-26</td>\n",
              "      <td>NaT</td>\n",
              "      <td>0</td>\n",
              "      <td>Small</td>\n",
              "      <td>1425.0</td>\n",
              "      <td>Coimbra</td>\n",
              "      <td>0.55</td>\n",
              "      <td>0.30</td>\n",
              "      <td>1</td>\n",
              "    </tr>\n",
              "  </tbody>\n",
              "</table>\n",
              "</div>\n",
              "    <div class=\"colab-df-buttons\">\n",
              "\n",
              "  <div class=\"colab-df-container\">\n",
              "    <button class=\"colab-df-convert\" onclick=\"convertToInteractive('df-75bec1ed-7d75-482e-9cba-964e616facd2')\"\n",
              "            title=\"Convert this dataframe to an interactive table.\"\n",
              "            style=\"display:none;\">\n",
              "\n",
              "  <svg xmlns=\"http://www.w3.org/2000/svg\" height=\"24px\" viewBox=\"0 -960 960 960\">\n",
              "    <path d=\"M120-120v-720h720v720H120Zm60-500h600v-160H180v160Zm220 220h160v-160H400v160Zm0 220h160v-160H400v160ZM180-400h160v-160H180v160Zm440 0h160v-160H620v160ZM180-180h160v-160H180v160Zm440 0h160v-160H620v160Z\"/>\n",
              "  </svg>\n",
              "    </button>\n",
              "\n",
              "  <style>\n",
              "    .colab-df-container {\n",
              "      display:flex;\n",
              "      gap: 12px;\n",
              "    }\n",
              "\n",
              "    .colab-df-convert {\n",
              "      background-color: #E8F0FE;\n",
              "      border: none;\n",
              "      border-radius: 50%;\n",
              "      cursor: pointer;\n",
              "      display: none;\n",
              "      fill: #1967D2;\n",
              "      height: 32px;\n",
              "      padding: 0 0 0 0;\n",
              "      width: 32px;\n",
              "    }\n",
              "\n",
              "    .colab-df-convert:hover {\n",
              "      background-color: #E2EBFA;\n",
              "      box-shadow: 0px 1px 2px rgba(60, 64, 67, 0.3), 0px 1px 3px 1px rgba(60, 64, 67, 0.15);\n",
              "      fill: #174EA6;\n",
              "    }\n",
              "\n",
              "    .colab-df-buttons div {\n",
              "      margin-bottom: 4px;\n",
              "    }\n",
              "\n",
              "    [theme=dark] .colab-df-convert {\n",
              "      background-color: #3B4455;\n",
              "      fill: #D2E3FC;\n",
              "    }\n",
              "\n",
              "    [theme=dark] .colab-df-convert:hover {\n",
              "      background-color: #434B5C;\n",
              "      box-shadow: 0px 1px 3px 1px rgba(0, 0, 0, 0.15);\n",
              "      filter: drop-shadow(0px 1px 2px rgba(0, 0, 0, 0.3));\n",
              "      fill: #FFFFFF;\n",
              "    }\n",
              "  </style>\n",
              "\n",
              "    <script>\n",
              "      const buttonEl =\n",
              "        document.querySelector('#df-75bec1ed-7d75-482e-9cba-964e616facd2 button.colab-df-convert');\n",
              "      buttonEl.style.display =\n",
              "        google.colab.kernel.accessAllowed ? 'block' : 'none';\n",
              "\n",
              "      async function convertToInteractive(key) {\n",
              "        const element = document.querySelector('#df-75bec1ed-7d75-482e-9cba-964e616facd2');\n",
              "        const dataTable =\n",
              "          await google.colab.kernel.invokeFunction('convertToInteractive',\n",
              "                                                    [key], {});\n",
              "        if (!dataTable) return;\n",
              "\n",
              "        const docLinkHtml = 'Like what you see? Visit the ' +\n",
              "          '<a target=\"_blank\" href=https://colab.research.google.com/notebooks/data_table.ipynb>data table notebook</a>'\n",
              "          + ' to learn more about interactive tables.';\n",
              "        element.innerHTML = '';\n",
              "        dataTable['output_type'] = 'display_data';\n",
              "        await google.colab.output.renderOutput(dataTable, element);\n",
              "        const docLink = document.createElement('div');\n",
              "        docLink.innerHTML = docLinkHtml;\n",
              "        element.appendChild(docLink);\n",
              "      }\n",
              "    </script>\n",
              "  </div>\n",
              "\n",
              "\n",
              "    <div id=\"df-dea4b593-4b4a-46ec-956c-b4ebd2a7c03a\">\n",
              "      <button class=\"colab-df-quickchart\" onclick=\"quickchart('df-dea4b593-4b4a-46ec-956c-b4ebd2a7c03a')\"\n",
              "                title=\"Suggest charts\"\n",
              "                style=\"display:none;\">\n",
              "\n",
              "<svg xmlns=\"http://www.w3.org/2000/svg\" height=\"24px\"viewBox=\"0 0 24 24\"\n",
              "     width=\"24px\">\n",
              "    <g>\n",
              "        <path d=\"M19 3H5c-1.1 0-2 .9-2 2v14c0 1.1.9 2 2 2h14c1.1 0 2-.9 2-2V5c0-1.1-.9-2-2-2zM9 17H7v-7h2v7zm4 0h-2V7h2v10zm4 0h-2v-4h2v4z\"/>\n",
              "    </g>\n",
              "</svg>\n",
              "      </button>\n",
              "\n",
              "<style>\n",
              "  .colab-df-quickchart {\n",
              "      --bg-color: #E8F0FE;\n",
              "      --fill-color: #1967D2;\n",
              "      --hover-bg-color: #E2EBFA;\n",
              "      --hover-fill-color: #174EA6;\n",
              "      --disabled-fill-color: #AAA;\n",
              "      --disabled-bg-color: #DDD;\n",
              "  }\n",
              "\n",
              "  [theme=dark] .colab-df-quickchart {\n",
              "      --bg-color: #3B4455;\n",
              "      --fill-color: #D2E3FC;\n",
              "      --hover-bg-color: #434B5C;\n",
              "      --hover-fill-color: #FFFFFF;\n",
              "      --disabled-bg-color: #3B4455;\n",
              "      --disabled-fill-color: #666;\n",
              "  }\n",
              "\n",
              "  .colab-df-quickchart {\n",
              "    background-color: var(--bg-color);\n",
              "    border: none;\n",
              "    border-radius: 50%;\n",
              "    cursor: pointer;\n",
              "    display: none;\n",
              "    fill: var(--fill-color);\n",
              "    height: 32px;\n",
              "    padding: 0;\n",
              "    width: 32px;\n",
              "  }\n",
              "\n",
              "  .colab-df-quickchart:hover {\n",
              "    background-color: var(--hover-bg-color);\n",
              "    box-shadow: 0 1px 2px rgba(60, 64, 67, 0.3), 0 1px 3px 1px rgba(60, 64, 67, 0.15);\n",
              "    fill: var(--button-hover-fill-color);\n",
              "  }\n",
              "\n",
              "  .colab-df-quickchart-complete:disabled,\n",
              "  .colab-df-quickchart-complete:disabled:hover {\n",
              "    background-color: var(--disabled-bg-color);\n",
              "    fill: var(--disabled-fill-color);\n",
              "    box-shadow: none;\n",
              "  }\n",
              "\n",
              "  .colab-df-spinner {\n",
              "    border: 2px solid var(--fill-color);\n",
              "    border-color: transparent;\n",
              "    border-bottom-color: var(--fill-color);\n",
              "    animation:\n",
              "      spin 1s steps(1) infinite;\n",
              "  }\n",
              "\n",
              "  @keyframes spin {\n",
              "    0% {\n",
              "      border-color: transparent;\n",
              "      border-bottom-color: var(--fill-color);\n",
              "      border-left-color: var(--fill-color);\n",
              "    }\n",
              "    20% {\n",
              "      border-color: transparent;\n",
              "      border-left-color: var(--fill-color);\n",
              "      border-top-color: var(--fill-color);\n",
              "    }\n",
              "    30% {\n",
              "      border-color: transparent;\n",
              "      border-left-color: var(--fill-color);\n",
              "      border-top-color: var(--fill-color);\n",
              "      border-right-color: var(--fill-color);\n",
              "    }\n",
              "    40% {\n",
              "      border-color: transparent;\n",
              "      border-right-color: var(--fill-color);\n",
              "      border-top-color: var(--fill-color);\n",
              "    }\n",
              "    60% {\n",
              "      border-color: transparent;\n",
              "      border-right-color: var(--fill-color);\n",
              "    }\n",
              "    80% {\n",
              "      border-color: transparent;\n",
              "      border-right-color: var(--fill-color);\n",
              "      border-bottom-color: var(--fill-color);\n",
              "    }\n",
              "    90% {\n",
              "      border-color: transparent;\n",
              "      border-bottom-color: var(--fill-color);\n",
              "    }\n",
              "  }\n",
              "</style>\n",
              "\n",
              "      <script>\n",
              "        async function quickchart(key) {\n",
              "          const quickchartButtonEl =\n",
              "            document.querySelector('#' + key + ' button');\n",
              "          quickchartButtonEl.disabled = true;  // To prevent multiple clicks.\n",
              "          quickchartButtonEl.classList.add('colab-df-spinner');\n",
              "          try {\n",
              "            const charts = await google.colab.kernel.invokeFunction(\n",
              "                'suggestCharts', [key], {});\n",
              "          } catch (error) {\n",
              "            console.error('Error during call to suggestCharts:', error);\n",
              "          }\n",
              "          quickchartButtonEl.classList.remove('colab-df-spinner');\n",
              "          quickchartButtonEl.classList.add('colab-df-quickchart-complete');\n",
              "        }\n",
              "        (() => {\n",
              "          let quickchartButtonEl =\n",
              "            document.querySelector('#df-dea4b593-4b4a-46ec-956c-b4ebd2a7c03a button');\n",
              "          quickchartButtonEl.style.display =\n",
              "            google.colab.kernel.accessAllowed ? 'block' : 'none';\n",
              "        })();\n",
              "      </script>\n",
              "    </div>\n",
              "\n",
              "    </div>\n",
              "  </div>\n"
            ],
            "application/vnd.google.colaboratory.intrinsic+json": {
              "type": "dataframe",
              "repr_error": "0"
            }
          },
          "metadata": {},
          "execution_count": 63
        }
      ],
      "source": [
        "df[(df[\"expiring_date\"] > df[\"sell_date\"].max()) & (df[\"sold\"] == 0)]"
      ]
    },
    {
      "cell_type": "markdown",
      "id": "f66613ab",
      "metadata": {
        "id": "f66613ab"
      },
      "source": [
        "### sell_date\n",
        "\n",
        "Variável é quantitativa contínua representa a data em que o produto foi vendido.  \n",
        "\n",
        "As datas de venda variam entre 2021-10-01 e 2021-11-18.\n",
        "Contém 69543 valores ausentes que não foram tratados. Consideramos que correspondem a produtos que não foram vendidos.  \n",
        "\n",
        "O seu formato é Datetime"
      ]
    },
    {
      "cell_type": "code",
      "execution_count": 64,
      "id": "LsuEZDFknHL1",
      "metadata": {
        "colab": {
          "base_uri": "https://localhost:8080/"
        },
        "id": "LsuEZDFknHL1",
        "outputId": "7322899f-513a-4a64-9ed4-0ec7849640eb"
      },
      "outputs": [
        {
          "output_type": "stream",
          "name": "stdout",
          "text": [
            "Símbolos encontrados: {'a', 'N', '-', 'T'}\n"
          ]
        }
      ],
      "source": [
        "#verificaçao de quais os símbolos usados para separar o dia, mês e ano.\n",
        "\n",
        "#Garantir que os valores são strings\n",
        "dates_as_str = df[\"sell_date\"].astype(str)\n",
        "\n",
        "#Extrair apenas os caracteres que NÃO são dígitos\n",
        "#re.findall(\"\\D\", x) devolve todos os caracteres não numéricos\n",
        "non_numeric_chars = dates_as_str.apply(lambda x: re.findall(r\"\\D\", x))\n",
        "\n",
        "#Flatten (juntar tudo numa lista só)\n",
        "all_non_numeric = [char for sublist in non_numeric_chars for char in sublist]\n",
        "\n",
        "#Obter os símbolos únicos\n",
        "unique_symbols = set(all_non_numeric)\n",
        "\n",
        "print(\"Símbolos encontrados:\", unique_symbols)"
      ]
    },
    {
      "cell_type": "code",
      "execution_count": 65,
      "id": "vpqr9az3nImL",
      "metadata": {
        "colab": {
          "base_uri": "https://localhost:8080/"
        },
        "id": "vpqr9az3nImL",
        "outputId": "a2962dee-d6b9-44cc-b2a3-85c5523051f1"
      },
      "outputs": [
        {
          "output_type": "stream",
          "name": "stdout",
          "text": [
            "<DatetimeArray>\n",
            "['2021-10-02 00:00:00',                 'NaT', '2021-10-03 00:00:00',\n",
            " '2021-10-14 00:00:00', '2021-10-15 00:00:00', '2021-10-16 00:00:00',\n",
            " '2021-10-17 00:00:00', '2021-10-18 00:00:00', '2021-10-19 00:00:00',\n",
            " '2021-10-20 00:00:00', '2021-10-22 00:00:00', '2021-10-21 00:00:00',\n",
            " '2021-10-23 00:00:00', '2021-10-12 00:00:00', '2021-10-24 00:00:00',\n",
            " '2021-10-25 00:00:00', '2021-10-26 00:00:00', '2021-10-08 00:00:00',\n",
            " '2021-10-10 00:00:00', '2021-10-11 00:00:00', '2021-10-28 00:00:00',\n",
            " '2021-10-27 00:00:00', '2021-10-06 00:00:00', '2021-10-29 00:00:00',\n",
            " '2021-10-13 00:00:00', '2021-10-09 00:00:00', '2021-10-07 00:00:00',\n",
            " '2021-10-30 00:00:00', '2021-10-04 00:00:00', '2021-10-05 00:00:00',\n",
            " '2021-10-31 00:00:00', '2021-11-01 00:00:00', '2021-10-01 00:00:00',\n",
            " '2021-11-02 00:00:00', '2021-11-06 00:00:00', '2021-11-03 00:00:00',\n",
            " '2021-11-04 00:00:00', '2021-11-14 00:00:00', '2021-11-12 00:00:00',\n",
            " '2021-11-10 00:00:00', '2021-11-05 00:00:00', '2021-11-17 00:00:00',\n",
            " '2021-11-11 00:00:00', '2021-11-13 00:00:00', '2021-11-18 00:00:00',\n",
            " '2021-11-08 00:00:00']\n",
            "Length: 46, dtype: datetime64[ns]\n"
          ]
        }
      ],
      "source": [
        "print(df[\"sell_date\"].unique())"
      ]
    },
    {
      "cell_type": "code",
      "execution_count": 66,
      "id": "TZbRs9wPnJoa",
      "metadata": {
        "colab": {
          "base_uri": "https://localhost:8080/"
        },
        "id": "TZbRs9wPnJoa",
        "outputId": "2dcdf1d0-9796-4d13-f256-24e344bf98c0"
      },
      "outputs": [
        {
          "output_type": "stream",
          "name": "stdout",
          "text": [
            "2021-11-18 00:00:00\n",
            "2021-10-01 00:00:00\n"
          ]
        }
      ],
      "source": [
        "data_min = df[\"sell_date\"].min()\n",
        "data_max = df[\"sell_date\"].max()\n",
        "print(data_max)\n",
        "print(data_min)"
      ]
    },
    {
      "cell_type": "code",
      "execution_count": 67,
      "id": "ohL8OkXmnLB3",
      "metadata": {
        "colab": {
          "base_uri": "https://localhost:8080/"
        },
        "id": "ohL8OkXmnLB3",
        "outputId": "c6161303-64b4-4e5b-8b50-783b3c3ee10e"
      },
      "outputs": [
        {
          "output_type": "execute_result",
          "data": {
            "text/plain": [
              "np.int64(69543)"
            ]
          },
          "metadata": {},
          "execution_count": 67
        }
      ],
      "source": [
        "#verificar missing values\n",
        "df['sell_date'].isna().sum()"
      ]
    },
    {
      "cell_type": "markdown",
      "id": "e4b98945",
      "metadata": {
        "id": "e4b98945"
      },
      "source": [
        "### sold (target)\n",
        "\n",
        "Esta variável qualitativa categórica representa se um produto foi vendido (1) ou não foi vendido (0).\n",
        "\n",
        "Contem 114 valores ausentes. Tratamento: preenchidos com base em informação de sell_date.\n",
        "\n",
        "O seu formato é float."
      ]
    },
    {
      "cell_type": "markdown",
      "source": [],
      "metadata": {
        "id": "yJDh94qg8Szn"
      },
      "id": "yJDh94qg8Szn"
    },
    {
      "cell_type": "code",
      "execution_count": 68,
      "id": "ZdPthMaunR3s",
      "metadata": {
        "colab": {
          "base_uri": "https://localhost:8080/"
        },
        "id": "ZdPthMaunR3s",
        "outputId": "3b31c9b5-d1ee-4361-cf40-9f608a93e9f4"
      },
      "outputs": [
        {
          "output_type": "execute_result",
          "data": {
            "text/plain": [
              "np.int64(114)"
            ]
          },
          "metadata": {},
          "execution_count": 68
        }
      ],
      "source": [
        "#verificar missing values\n",
        "df['sold'].isna().sum()"
      ]
    },
    {
      "cell_type": "code",
      "execution_count": 69,
      "id": "U7uTgG1CnTTi",
      "metadata": {
        "colab": {
          "base_uri": "https://localhost:8080/"
        },
        "id": "U7uTgG1CnTTi",
        "outputId": "06cb9d15-3280-48e0-a87a-090ad00c38d9"
      },
      "outputs": [
        {
          "output_type": "stream",
          "name": "stdout",
          "text": [
            "<IntegerArray>\n",
            "[1, 0]\n",
            "Length: 2, dtype: Int64\n"
          ]
        }
      ],
      "source": [
        "# Preencher missing values com 1, onde foi identificada informação de Sell_date ou, caso contrário, 0\n",
        "\n",
        "df.loc[df[\"sold\"].isna() & df[\"sell_date\"].notna(), \"sold\"] = 1\n",
        "df.loc[df[\"sold\"].isna() & df[\"sell_date\"].isna(), \"sold\"] = 0\n",
        "print(df[\"sold\"].unique())"
      ]
    },
    {
      "cell_type": "code",
      "execution_count": 70,
      "id": "T_vEpPT1nUjg",
      "metadata": {
        "colab": {
          "base_uri": "https://localhost:8080/"
        },
        "id": "T_vEpPT1nUjg",
        "outputId": "d14545cc-597d-4b4e-bc09-d275d80b53b1"
      },
      "outputs": [
        {
          "output_type": "stream",
          "name": "stdout",
          "text": [
            "Símbolos encontrados: set()\n"
          ]
        }
      ],
      "source": [
        "#Verificar simbolos existentes\n",
        "\n",
        "#Garantir que os valores são strings\n",
        "dates_as_str = df[\"sold\"].astype(str)\n",
        "\n",
        "#Extrair apenas os caracteres que NÃO são dígitos\n",
        "#re.findall(\"\\D\", x) devolve todos os caracteres não numéricos\n",
        "non_numeric_chars = dates_as_str.apply(lambda x: re.findall(r\"\\D\", x))\n",
        "\n",
        "#Flatten (juntar tudo numa lista só)\n",
        "all_non_numeric = [char for sublist in non_numeric_chars for char in sublist]\n",
        "\n",
        "#Obter os símbolos únicos\n",
        "unique_symbols = set(all_non_numeric)\n",
        "\n",
        "print(\"Símbolos encontrados:\", unique_symbols)"
      ]
    },
    {
      "cell_type": "markdown",
      "id": "YQgQ2sGcnWl5",
      "metadata": {
        "id": "YQgQ2sGcnWl5"
      },
      "source": [
        "..."
      ]
    },
    {
      "cell_type": "markdown",
      "source": [
        "#Standartização de variáveis decimais para 2 casas."
      ],
      "metadata": {
        "id": "Y5QMv7wP8ieB"
      },
      "id": "Y5QMv7wP8ieB"
    },
    {
      "cell_type": "code",
      "execution_count": 71,
      "id": "_6583kQwNt6Z",
      "metadata": {
        "colab": {
          "base_uri": "https://localhost:8080/",
          "height": 311
        },
        "id": "_6583kQwNt6Z",
        "outputId": "03da7c9d-4f3d-4c18-e0b1-c040a80a603b"
      },
      "outputs": [
        {
          "output_type": "execute_result",
          "data": {
            "text/plain": [
              "   idstore  sku    brand  oldpvp  weight (g) Payment_method  Margin (%)  \\\n",
              "0        1    1  Marca 1    4.22       260.0           Card        0.16   \n",
              "1        1    1  Marca 1    3.96       260.0            NaN        0.16   \n",
              "2        1    1  Marca 1    4.74       260.0           Cash        0.16   \n",
              "3        1    1  Marca 1    4.20       260.0           Card        0.16   \n",
              "4        1    1  Marca 1    4.62       260.0           Cash        0.16   \n",
              "\n",
              "   Profit (€)  perc_expiring_sku expiring_date labelling_date  sell_date  \\\n",
              "0      0.3376            0.01005    2021-10-03     2021-10-01 2021-10-02   \n",
              "1      0.3168           0.005025    2021-10-02     2021-10-01        NaT   \n",
              "2      0.3792            0.01005    2021-10-03     2021-10-01 2021-10-03   \n",
              "3       0.336            0.01005    2021-10-03     2021-10-01 2021-10-02   \n",
              "4      0.3696            0.01005    2021-10-03     2021-10-01 2021-10-03   \n",
              "\n",
              "   sold   type  selling_square_ft district  newpvp  discount  flag  \n",
              "0     1  Large             4762.0    Évora    2.11       0.5     0  \n",
              "1     0  Large             4762.0    Évora    1.98       0.5     0  \n",
              "2     1  Large             4762.0    Évora    2.37       0.5     0  \n",
              "3     1  Large             4762.0    Évora    2.10       0.5     0  \n",
              "4     1  Large             4762.0    Évora    2.31       0.5     0  "
            ],
            "text/html": [
              "\n",
              "  <div id=\"df-ba3ed9db-0e5c-44c3-9b0c-6f2ff881f88f\" class=\"colab-df-container\">\n",
              "    <div>\n",
              "<style scoped>\n",
              "    .dataframe tbody tr th:only-of-type {\n",
              "        vertical-align: middle;\n",
              "    }\n",
              "\n",
              "    .dataframe tbody tr th {\n",
              "        vertical-align: top;\n",
              "    }\n",
              "\n",
              "    .dataframe thead th {\n",
              "        text-align: right;\n",
              "    }\n",
              "</style>\n",
              "<table border=\"1\" class=\"dataframe\">\n",
              "  <thead>\n",
              "    <tr style=\"text-align: right;\">\n",
              "      <th></th>\n",
              "      <th>idstore</th>\n",
              "      <th>sku</th>\n",
              "      <th>brand</th>\n",
              "      <th>oldpvp</th>\n",
              "      <th>weight (g)</th>\n",
              "      <th>Payment_method</th>\n",
              "      <th>Margin (%)</th>\n",
              "      <th>Profit (€)</th>\n",
              "      <th>perc_expiring_sku</th>\n",
              "      <th>expiring_date</th>\n",
              "      <th>labelling_date</th>\n",
              "      <th>sell_date</th>\n",
              "      <th>sold</th>\n",
              "      <th>type</th>\n",
              "      <th>selling_square_ft</th>\n",
              "      <th>district</th>\n",
              "      <th>newpvp</th>\n",
              "      <th>discount</th>\n",
              "      <th>flag</th>\n",
              "    </tr>\n",
              "  </thead>\n",
              "  <tbody>\n",
              "    <tr>\n",
              "      <th>0</th>\n",
              "      <td>1</td>\n",
              "      <td>1</td>\n",
              "      <td>Marca 1</td>\n",
              "      <td>4.22</td>\n",
              "      <td>260.0</td>\n",
              "      <td>Card</td>\n",
              "      <td>0.16</td>\n",
              "      <td>0.3376</td>\n",
              "      <td>0.01005</td>\n",
              "      <td>2021-10-03</td>\n",
              "      <td>2021-10-01</td>\n",
              "      <td>2021-10-02</td>\n",
              "      <td>1</td>\n",
              "      <td>Large</td>\n",
              "      <td>4762.0</td>\n",
              "      <td>Évora</td>\n",
              "      <td>2.11</td>\n",
              "      <td>0.5</td>\n",
              "      <td>0</td>\n",
              "    </tr>\n",
              "    <tr>\n",
              "      <th>1</th>\n",
              "      <td>1</td>\n",
              "      <td>1</td>\n",
              "      <td>Marca 1</td>\n",
              "      <td>3.96</td>\n",
              "      <td>260.0</td>\n",
              "      <td>NaN</td>\n",
              "      <td>0.16</td>\n",
              "      <td>0.3168</td>\n",
              "      <td>0.005025</td>\n",
              "      <td>2021-10-02</td>\n",
              "      <td>2021-10-01</td>\n",
              "      <td>NaT</td>\n",
              "      <td>0</td>\n",
              "      <td>Large</td>\n",
              "      <td>4762.0</td>\n",
              "      <td>Évora</td>\n",
              "      <td>1.98</td>\n",
              "      <td>0.5</td>\n",
              "      <td>0</td>\n",
              "    </tr>\n",
              "    <tr>\n",
              "      <th>2</th>\n",
              "      <td>1</td>\n",
              "      <td>1</td>\n",
              "      <td>Marca 1</td>\n",
              "      <td>4.74</td>\n",
              "      <td>260.0</td>\n",
              "      <td>Cash</td>\n",
              "      <td>0.16</td>\n",
              "      <td>0.3792</td>\n",
              "      <td>0.01005</td>\n",
              "      <td>2021-10-03</td>\n",
              "      <td>2021-10-01</td>\n",
              "      <td>2021-10-03</td>\n",
              "      <td>1</td>\n",
              "      <td>Large</td>\n",
              "      <td>4762.0</td>\n",
              "      <td>Évora</td>\n",
              "      <td>2.37</td>\n",
              "      <td>0.5</td>\n",
              "      <td>0</td>\n",
              "    </tr>\n",
              "    <tr>\n",
              "      <th>3</th>\n",
              "      <td>1</td>\n",
              "      <td>1</td>\n",
              "      <td>Marca 1</td>\n",
              "      <td>4.20</td>\n",
              "      <td>260.0</td>\n",
              "      <td>Card</td>\n",
              "      <td>0.16</td>\n",
              "      <td>0.336</td>\n",
              "      <td>0.01005</td>\n",
              "      <td>2021-10-03</td>\n",
              "      <td>2021-10-01</td>\n",
              "      <td>2021-10-02</td>\n",
              "      <td>1</td>\n",
              "      <td>Large</td>\n",
              "      <td>4762.0</td>\n",
              "      <td>Évora</td>\n",
              "      <td>2.10</td>\n",
              "      <td>0.5</td>\n",
              "      <td>0</td>\n",
              "    </tr>\n",
              "    <tr>\n",
              "      <th>4</th>\n",
              "      <td>1</td>\n",
              "      <td>1</td>\n",
              "      <td>Marca 1</td>\n",
              "      <td>4.62</td>\n",
              "      <td>260.0</td>\n",
              "      <td>Cash</td>\n",
              "      <td>0.16</td>\n",
              "      <td>0.3696</td>\n",
              "      <td>0.01005</td>\n",
              "      <td>2021-10-03</td>\n",
              "      <td>2021-10-01</td>\n",
              "      <td>2021-10-03</td>\n",
              "      <td>1</td>\n",
              "      <td>Large</td>\n",
              "      <td>4762.0</td>\n",
              "      <td>Évora</td>\n",
              "      <td>2.31</td>\n",
              "      <td>0.5</td>\n",
              "      <td>0</td>\n",
              "    </tr>\n",
              "  </tbody>\n",
              "</table>\n",
              "</div>\n",
              "    <div class=\"colab-df-buttons\">\n",
              "\n",
              "  <div class=\"colab-df-container\">\n",
              "    <button class=\"colab-df-convert\" onclick=\"convertToInteractive('df-ba3ed9db-0e5c-44c3-9b0c-6f2ff881f88f')\"\n",
              "            title=\"Convert this dataframe to an interactive table.\"\n",
              "            style=\"display:none;\">\n",
              "\n",
              "  <svg xmlns=\"http://www.w3.org/2000/svg\" height=\"24px\" viewBox=\"0 -960 960 960\">\n",
              "    <path d=\"M120-120v-720h720v720H120Zm60-500h600v-160H180v160Zm220 220h160v-160H400v160Zm0 220h160v-160H400v160ZM180-400h160v-160H180v160Zm440 0h160v-160H620v160ZM180-180h160v-160H180v160Zm440 0h160v-160H620v160Z\"/>\n",
              "  </svg>\n",
              "    </button>\n",
              "\n",
              "  <style>\n",
              "    .colab-df-container {\n",
              "      display:flex;\n",
              "      gap: 12px;\n",
              "    }\n",
              "\n",
              "    .colab-df-convert {\n",
              "      background-color: #E8F0FE;\n",
              "      border: none;\n",
              "      border-radius: 50%;\n",
              "      cursor: pointer;\n",
              "      display: none;\n",
              "      fill: #1967D2;\n",
              "      height: 32px;\n",
              "      padding: 0 0 0 0;\n",
              "      width: 32px;\n",
              "    }\n",
              "\n",
              "    .colab-df-convert:hover {\n",
              "      background-color: #E2EBFA;\n",
              "      box-shadow: 0px 1px 2px rgba(60, 64, 67, 0.3), 0px 1px 3px 1px rgba(60, 64, 67, 0.15);\n",
              "      fill: #174EA6;\n",
              "    }\n",
              "\n",
              "    .colab-df-buttons div {\n",
              "      margin-bottom: 4px;\n",
              "    }\n",
              "\n",
              "    [theme=dark] .colab-df-convert {\n",
              "      background-color: #3B4455;\n",
              "      fill: #D2E3FC;\n",
              "    }\n",
              "\n",
              "    [theme=dark] .colab-df-convert:hover {\n",
              "      background-color: #434B5C;\n",
              "      box-shadow: 0px 1px 3px 1px rgba(0, 0, 0, 0.15);\n",
              "      filter: drop-shadow(0px 1px 2px rgba(0, 0, 0, 0.3));\n",
              "      fill: #FFFFFF;\n",
              "    }\n",
              "  </style>\n",
              "\n",
              "    <script>\n",
              "      const buttonEl =\n",
              "        document.querySelector('#df-ba3ed9db-0e5c-44c3-9b0c-6f2ff881f88f button.colab-df-convert');\n",
              "      buttonEl.style.display =\n",
              "        google.colab.kernel.accessAllowed ? 'block' : 'none';\n",
              "\n",
              "      async function convertToInteractive(key) {\n",
              "        const element = document.querySelector('#df-ba3ed9db-0e5c-44c3-9b0c-6f2ff881f88f');\n",
              "        const dataTable =\n",
              "          await google.colab.kernel.invokeFunction('convertToInteractive',\n",
              "                                                    [key], {});\n",
              "        if (!dataTable) return;\n",
              "\n",
              "        const docLinkHtml = 'Like what you see? Visit the ' +\n",
              "          '<a target=\"_blank\" href=https://colab.research.google.com/notebooks/data_table.ipynb>data table notebook</a>'\n",
              "          + ' to learn more about interactive tables.';\n",
              "        element.innerHTML = '';\n",
              "        dataTable['output_type'] = 'display_data';\n",
              "        await google.colab.output.renderOutput(dataTable, element);\n",
              "        const docLink = document.createElement('div');\n",
              "        docLink.innerHTML = docLinkHtml;\n",
              "        element.appendChild(docLink);\n",
              "      }\n",
              "    </script>\n",
              "  </div>\n",
              "\n",
              "\n",
              "    <div id=\"df-ecf11b7d-5f2a-4b95-8290-f3dd44645dc3\">\n",
              "      <button class=\"colab-df-quickchart\" onclick=\"quickchart('df-ecf11b7d-5f2a-4b95-8290-f3dd44645dc3')\"\n",
              "                title=\"Suggest charts\"\n",
              "                style=\"display:none;\">\n",
              "\n",
              "<svg xmlns=\"http://www.w3.org/2000/svg\" height=\"24px\"viewBox=\"0 0 24 24\"\n",
              "     width=\"24px\">\n",
              "    <g>\n",
              "        <path d=\"M19 3H5c-1.1 0-2 .9-2 2v14c0 1.1.9 2 2 2h14c1.1 0 2-.9 2-2V5c0-1.1-.9-2-2-2zM9 17H7v-7h2v7zm4 0h-2V7h2v10zm4 0h-2v-4h2v4z\"/>\n",
              "    </g>\n",
              "</svg>\n",
              "      </button>\n",
              "\n",
              "<style>\n",
              "  .colab-df-quickchart {\n",
              "      --bg-color: #E8F0FE;\n",
              "      --fill-color: #1967D2;\n",
              "      --hover-bg-color: #E2EBFA;\n",
              "      --hover-fill-color: #174EA6;\n",
              "      --disabled-fill-color: #AAA;\n",
              "      --disabled-bg-color: #DDD;\n",
              "  }\n",
              "\n",
              "  [theme=dark] .colab-df-quickchart {\n",
              "      --bg-color: #3B4455;\n",
              "      --fill-color: #D2E3FC;\n",
              "      --hover-bg-color: #434B5C;\n",
              "      --hover-fill-color: #FFFFFF;\n",
              "      --disabled-bg-color: #3B4455;\n",
              "      --disabled-fill-color: #666;\n",
              "  }\n",
              "\n",
              "  .colab-df-quickchart {\n",
              "    background-color: var(--bg-color);\n",
              "    border: none;\n",
              "    border-radius: 50%;\n",
              "    cursor: pointer;\n",
              "    display: none;\n",
              "    fill: var(--fill-color);\n",
              "    height: 32px;\n",
              "    padding: 0;\n",
              "    width: 32px;\n",
              "  }\n",
              "\n",
              "  .colab-df-quickchart:hover {\n",
              "    background-color: var(--hover-bg-color);\n",
              "    box-shadow: 0 1px 2px rgba(60, 64, 67, 0.3), 0 1px 3px 1px rgba(60, 64, 67, 0.15);\n",
              "    fill: var(--button-hover-fill-color);\n",
              "  }\n",
              "\n",
              "  .colab-df-quickchart-complete:disabled,\n",
              "  .colab-df-quickchart-complete:disabled:hover {\n",
              "    background-color: var(--disabled-bg-color);\n",
              "    fill: var(--disabled-fill-color);\n",
              "    box-shadow: none;\n",
              "  }\n",
              "\n",
              "  .colab-df-spinner {\n",
              "    border: 2px solid var(--fill-color);\n",
              "    border-color: transparent;\n",
              "    border-bottom-color: var(--fill-color);\n",
              "    animation:\n",
              "      spin 1s steps(1) infinite;\n",
              "  }\n",
              "\n",
              "  @keyframes spin {\n",
              "    0% {\n",
              "      border-color: transparent;\n",
              "      border-bottom-color: var(--fill-color);\n",
              "      border-left-color: var(--fill-color);\n",
              "    }\n",
              "    20% {\n",
              "      border-color: transparent;\n",
              "      border-left-color: var(--fill-color);\n",
              "      border-top-color: var(--fill-color);\n",
              "    }\n",
              "    30% {\n",
              "      border-color: transparent;\n",
              "      border-left-color: var(--fill-color);\n",
              "      border-top-color: var(--fill-color);\n",
              "      border-right-color: var(--fill-color);\n",
              "    }\n",
              "    40% {\n",
              "      border-color: transparent;\n",
              "      border-right-color: var(--fill-color);\n",
              "      border-top-color: var(--fill-color);\n",
              "    }\n",
              "    60% {\n",
              "      border-color: transparent;\n",
              "      border-right-color: var(--fill-color);\n",
              "    }\n",
              "    80% {\n",
              "      border-color: transparent;\n",
              "      border-right-color: var(--fill-color);\n",
              "      border-bottom-color: var(--fill-color);\n",
              "    }\n",
              "    90% {\n",
              "      border-color: transparent;\n",
              "      border-bottom-color: var(--fill-color);\n",
              "    }\n",
              "  }\n",
              "</style>\n",
              "\n",
              "      <script>\n",
              "        async function quickchart(key) {\n",
              "          const quickchartButtonEl =\n",
              "            document.querySelector('#' + key + ' button');\n",
              "          quickchartButtonEl.disabled = true;  // To prevent multiple clicks.\n",
              "          quickchartButtonEl.classList.add('colab-df-spinner');\n",
              "          try {\n",
              "            const charts = await google.colab.kernel.invokeFunction(\n",
              "                'suggestCharts', [key], {});\n",
              "          } catch (error) {\n",
              "            console.error('Error during call to suggestCharts:', error);\n",
              "          }\n",
              "          quickchartButtonEl.classList.remove('colab-df-spinner');\n",
              "          quickchartButtonEl.classList.add('colab-df-quickchart-complete');\n",
              "        }\n",
              "        (() => {\n",
              "          let quickchartButtonEl =\n",
              "            document.querySelector('#df-ecf11b7d-5f2a-4b95-8290-f3dd44645dc3 button');\n",
              "          quickchartButtonEl.style.display =\n",
              "            google.colab.kernel.accessAllowed ? 'block' : 'none';\n",
              "        })();\n",
              "      </script>\n",
              "    </div>\n",
              "\n",
              "    </div>\n",
              "  </div>\n"
            ],
            "application/vnd.google.colaboratory.intrinsic+json": {
              "type": "dataframe",
              "variable_name": "df"
            }
          },
          "metadata": {},
          "execution_count": 71
        }
      ],
      "source": [
        "#standardizar a 2 casas decimais\n",
        "\n",
        "df[\"discount\"] = df[\"discount\"].round(2)\n",
        "df[\"newpvp\"] = df[\"newpvp\"].round(2)\n",
        "df[\"oldpvp\"] = df[\"oldpvp\"].round(2)\n",
        "\n",
        "df.head()"
      ]
    },
    {
      "cell_type": "markdown",
      "source": [
        "# Feature Engineering"
      ],
      "metadata": {
        "id": "cfRlCZYX8zoQ"
      },
      "id": "cfRlCZYX8zoQ"
    },
    {
      "cell_type": "markdown",
      "source": [
        "## Normalizações"
      ],
      "metadata": {
        "id": "NhhhoRRk843x"
      },
      "id": "NhhhoRRk843x"
    },
    {
      "cell_type": "markdown",
      "source": [
        "Transformação One-Hot Encoding para considerarmos variáveis nominais (sem ordem) para o modelo.\n",
        "\n",
        "Transformação Label Encoding para considerarmos variáveis ordinais (com ordem natural) para o modelo.\n"
      ],
      "metadata": {
        "id": "luRvC9XO9utP"
      },
      "id": "luRvC9XO9utP"
    },
    {
      "cell_type": "code",
      "execution_count": 72,
      "id": "WnXoARQE-dkZ",
      "metadata": {
        "colab": {
          "base_uri": "https://localhost:8080/"
        },
        "id": "WnXoARQE-dkZ",
        "outputId": "d9412f10-7c4c-4e79-9ba9-2f9cc609c071"
      },
      "outputs": [
        {
          "output_type": "stream",
          "name": "stdout",
          "text": [
            "Colunas dummy criadas: ['d_Marca 1', 'd_Marca 10', 'd_Marca 11', 'd_Marca 12', 'd_Marca 13', 'd_Marca 14', 'd_Marca 15', 'd_Marca 16', 'd_Marca 17', 'd_Marca 18', 'd_Marca 19', 'd_Marca 2', 'd_Marca 20', 'd_Marca 21', 'd_Marca 22', 'd_Marca 23', 'd_Marca 24', 'd_Marca 25', 'd_Marca 26', 'd_Marca 27', 'd_Marca 28', 'd_Marca 29', 'd_Marca 3', 'd_Marca 30', 'd_Marca 31', 'd_Marca 32', 'd_Marca 33', 'd_Marca 34', 'd_Marca 35', 'd_Marca 36', 'd_Marca 37', 'd_Marca 38', 'd_Marca 39', 'd_Marca 4', 'd_Marca 40', 'd_Marca 41', 'd_Marca 42', 'd_Marca 5', 'd_Marca 6', 'd_Marca 7', 'd_Marca 8', 'd_Marca 9']\n",
            "Coluna 'brand' original removida\n",
            "\n",
            "Dataset após encoding: (150054, 60)\n",
            "Colunas finais: ['idstore', 'sku', 'oldpvp', 'weight (g)', 'Payment_method', 'Margin (%)', 'Profit (€)', 'perc_expiring_sku', 'expiring_date', 'labelling_date', 'sell_date', 'sold', 'type', 'selling_square_ft', 'district', 'newpvp', 'discount', 'flag', 'd_Marca 1', 'd_Marca 10', 'd_Marca 11', 'd_Marca 12', 'd_Marca 13', 'd_Marca 14', 'd_Marca 15', 'd_Marca 16', 'd_Marca 17', 'd_Marca 18', 'd_Marca 19', 'd_Marca 2', 'd_Marca 20', 'd_Marca 21', 'd_Marca 22', 'd_Marca 23', 'd_Marca 24', 'd_Marca 25', 'd_Marca 26', 'd_Marca 27', 'd_Marca 28', 'd_Marca 29', 'd_Marca 3', 'd_Marca 30', 'd_Marca 31', 'd_Marca 32', 'd_Marca 33', 'd_Marca 34', 'd_Marca 35', 'd_Marca 36', 'd_Marca 37', 'd_Marca 38', 'd_Marca 39', 'd_Marca 4', 'd_Marca 40', 'd_Marca 41', 'd_Marca 42', 'd_Marca 5', 'd_Marca 6', 'd_Marca 7', 'd_Marca 8', 'd_Marca 9']\n"
          ]
        }
      ],
      "source": [
        "# One-Hot Encoding para variáveis nominais (sem ordem)\n",
        "\n",
        "if 'brand' in df.columns:\n",
        "    # Criar dummies\n",
        "    dummies = pd.get_dummies(df['brand'], prefix='d')\n",
        "\n",
        "    # Adicionar ao dataframe\n",
        "    df = pd.concat([df, dummies], axis=1)\n",
        "\n",
        "    # Remover coluna original\n",
        "    df = df.drop('brand', axis=1)\n",
        "\n",
        "    print(f\"Colunas dummy criadas: {list(dummies.columns)}\")\n",
        "    print(\"Coluna 'brand' original removida\")\n",
        "\n",
        "print(f\"\\nDataset após encoding: {df.shape}\")\n",
        "print(f\"Colunas finais: {list(df.columns)}\")"
      ]
    },
    {
      "cell_type": "code",
      "execution_count": 73,
      "id": "ODVgUEQJ-iMw",
      "metadata": {
        "colab": {
          "base_uri": "https://localhost:8080/"
        },
        "id": "ODVgUEQJ-iMw",
        "outputId": "1a7ca0cc-86b2-43ee-9a64-2695aace8eb6"
      },
      "outputs": [
        {
          "output_type": "stream",
          "name": "stdout",
          "text": [
            "Category Type: {'Small': 1, 'Medium': 2, 'Large': 3}\n",
            "type    type_encoded\n",
            "Medium  2               63236\n",
            "Small   1               60599\n",
            "Large   3               26219\n",
            "Name: count, dtype: int64\n"
          ]
        }
      ],
      "source": [
        "# Label Encoding para variáveis ordinais (com ordem natural)\n",
        "\n",
        "if 'type' in df.columns:\n",
        "    # Mapeamento manual para preservar ordem\n",
        "    cat_type = {'Small': 1, 'Medium': 2, 'Large': 3}\n",
        "    df['type_encoded'] = df['type'].map(cat_type)\n",
        "    print(f\"Category Type: {cat_type}\")\n",
        "\n",
        "    contagem = df.value_counts(['type', 'type_encoded'])\n",
        "    print(contagem)\n",
        "\n",
        "   # Remover coluna original\n",
        "    df = df.drop('type', axis=1)"
      ]
    },
    {
      "cell_type": "markdown",
      "id": "-QXpecFgUt1J",
      "metadata": {
        "id": "-QXpecFgUt1J"
      },
      "source": [
        "##Tranformação de datas"
      ]
    },
    {
      "cell_type": "markdown",
      "source": [
        "Transformar datas em indicadores semanais e de fim-de-semana permite capturar padrões temporais relevantes para explicar o sucesso ou insucesso das vendas."
      ],
      "metadata": {
        "id": "3GfKAPwF9n90"
      },
      "id": "3GfKAPwF9n90"
    },
    {
      "cell_type": "code",
      "execution_count": 74,
      "id": "EA2Yz5mDCsz1",
      "metadata": {
        "colab": {
          "base_uri": "https://localhost:8080/"
        },
        "id": "EA2Yz5mDCsz1",
        "outputId": "106ffa36-b978-45a6-8886-9c29f8b7e1df"
      },
      "outputs": [
        {
          "output_type": "stream",
          "name": "stdout",
          "text": [
            "                nulls_before  nulls_after  new_nulls_from_parse  \\\n",
            "labelling_date             0            0                     0   \n",
            "expiring_date              0            0                     0   \n",
            "\n",
            "                non_nulls_before  non_nulls_after  \n",
            "labelling_date            150054           150054  \n",
            "expiring_date             150054           150054  \n",
            "\n",
            "Exemplos de valores que falharam parsing:\n",
            "\n",
            "labelling_date: (sem falhas)\n",
            "\n",
            "expiring_date: (sem falhas)\n"
          ]
        }
      ],
      "source": [
        "cols_dt = ['labelling_date','expiring_date']  # colunas de datas\n",
        "\n",
        "# Guardar cópia antes da conversão\n",
        "raw = df[cols_dt].copy()\n",
        "\n",
        "#Contagens ANTES\n",
        "nulls_before = raw.isna().sum().rename('nulls_before')\n",
        "non_nulls_before = raw.notna().sum().rename('non_nulls_before')\n",
        "\n",
        "#Converter\n",
        "for c in cols_dt:\n",
        "    df[c] = pd.to_datetime(df[c], errors='coerce')  # dayfirst=True se necessário\n",
        "\n",
        "#Contagens DEPOIS\n",
        "nulls_after = df[cols_dt].isna().sum().rename('nulls_after')\n",
        "non_nulls_after = df[cols_dt].notna().sum().rename('non_nulls_after')\n",
        "\n",
        "#Novos nulos criados pela conversão (existia valor e virou NaT)\n",
        "new_nulls = ((raw.notna()) & (df[cols_dt].isna())).sum().rename('new_nulls_from_parse')\n",
        "\n",
        "#linhas problemáticas para inspecionar\n",
        "samples_problem = {}\n",
        "for c in cols_dt:\n",
        "    idx_bad = df.index[raw[c].notna() & df[c].isna()]\n",
        "    samples_problem[c] = raw.loc[idx_bad, c].head(10)  # primeiros exemplos\n",
        "\n",
        "#Relatório\n",
        "audit = pd.concat([nulls_before, nulls_after, new_nulls, non_nulls_before, non_nulls_after], axis=1)\n",
        "print(audit)\n",
        "print(\"\\nExemplos de valores que falharam parsing:\")\n",
        "for c, s in samples_problem.items():\n",
        "    if len(s):\n",
        "        print(f\"\\n{c}:\")\n",
        "        print(s.to_string(index=False))\n",
        "    else:\n",
        "        print(f\"\\n{c}: (sem falhas)\")"
      ]
    },
    {
      "cell_type": "code",
      "execution_count": 75,
      "id": "e6N_SryKBt4w",
      "metadata": {
        "id": "e6N_SryKBt4w"
      },
      "outputs": [],
      "source": [
        "# Garantir datetime (seguro mesmo que já sejam)\n",
        "for c in [\"labelling_date\", \"expiring_date\"]:\n",
        "    df[c] = pd.to_datetime(df[c], errors=\"coerce\")\n",
        "\n",
        "# Função auxiliar: converte data → dia da semana (0–6) em float (NaT → NaN)\n",
        "def dow_float(s):\n",
        "    return s.dt.dayofweek.astype(\"float\")\n",
        "\n",
        "# labelling: sin/cos diretamente da data\n",
        "w_lab = dow_float(df[\"labelling_date\"])\n",
        "df[\"labelling_dow_sin\"] = np.sin(2 * np.pi * w_lab / 7)\n",
        "df[\"labelling_dow_cos\"] = np.cos(2 * np.pi * w_lab / 7)\n",
        "\n",
        "# expiring: sin/cos diretamente da data\n",
        "w_exp = dow_float(df[\"expiring_date\"])\n",
        "df[\"expiring_dow_sin\"] = np.sin(2 * np.pi * w_exp / 7)\n",
        "df[\"expiring_dow_cos\"] = np.cos(2 * np.pi * w_exp / 7)"
      ]
    },
    {
      "cell_type": "markdown",
      "source": [
        "#Remoção de Outliers"
      ],
      "metadata": {
        "id": "Vnm-jIL6FCCZ"
      },
      "id": "Vnm-jIL6FCCZ"
    },
    {
      "cell_type": "code",
      "source": [
        "#Retirar Outliers Flagged\n",
        "\n",
        "df = df.drop(df[df[\"flag\"] == 1].index)\n",
        "df = df.drop(columns=[\"flag\"])"
      ],
      "metadata": {
        "id": "DFIBszAKFGBI"
      },
      "id": "DFIBszAKFGBI",
      "execution_count": 76,
      "outputs": []
    },
    {
      "cell_type": "markdown",
      "id": "StR-hsLavs5n",
      "metadata": {
        "id": "StR-hsLavs5n"
      },
      "source": [
        "# Removeção colunas"
      ]
    },
    {
      "cell_type": "markdown",
      "source": [
        "-Variáveis sem valor preditivo direto (Payment_method, Sell_date, labelqty)\n",
        "\n",
        "- Datas originais foram transformadas em indicadores (*_weekday, is_weekend_*).\"\n",
        "\n"
      ],
      "metadata": {
        "id": "bwL4gr8E92sI"
      },
      "id": "bwL4gr8E92sI"
    },
    {
      "cell_type": "code",
      "execution_count": 77,
      "id": "k4w3pfAmFFIZ",
      "metadata": {
        "id": "k4w3pfAmFFIZ"
      },
      "outputs": [],
      "source": [
        "#df = df.drop(columns=['idstore','Payment_method','expiring_date','labelling_date','sell_date'])\n",
        "df = df.drop(columns=['Payment_method','expiring_date','labelling_date','sell_date'])"
      ]
    },
    {
      "cell_type": "markdown",
      "source": [
        "#Dataset Final"
      ],
      "metadata": {
        "id": "fuqH1IcxFMIA"
      },
      "id": "fuqH1IcxFMIA"
    },
    {
      "cell_type": "code",
      "execution_count": 78,
      "id": "NGiQbTXRb9v5",
      "metadata": {
        "colab": {
          "base_uri": "https://localhost:8080/"
        },
        "id": "NGiQbTXRb9v5",
        "outputId": "919dfa6b-cd93-4a20-d279-8407ec1cc2b6"
      },
      "outputs": [
        {
          "output_type": "stream",
          "name": "stdout",
          "text": [
            "<class 'pandas.core.frame.DataFrame'>\n",
            "Index: 149978 entries, 0 to 150053\n",
            "Data columns (total 59 columns):\n",
            " #   Column             Non-Null Count   Dtype  \n",
            "---  ------             --------------   -----  \n",
            " 0   idstore            149978 non-null  Int64  \n",
            " 1   sku                149978 non-null  Int64  \n",
            " 2   oldpvp             149978 non-null  float64\n",
            " 3   weight (g)         149978 non-null  float64\n",
            " 4   Margin (%)         149978 non-null  Float64\n",
            " 5   Profit (€)         149978 non-null  Float64\n",
            " 6   perc_expiring_sku  149978 non-null  Float64\n",
            " 7   sold               149978 non-null  Int64  \n",
            " 8   selling_square_ft  149978 non-null  Float64\n",
            " 9   district           149978 non-null  string \n",
            " 10  newpvp             149978 non-null  float64\n",
            " 11  discount           149978 non-null  float64\n",
            " 12  d_Marca 1          149978 non-null  bool   \n",
            " 13  d_Marca 10         149978 non-null  bool   \n",
            " 14  d_Marca 11         149978 non-null  bool   \n",
            " 15  d_Marca 12         149978 non-null  bool   \n",
            " 16  d_Marca 13         149978 non-null  bool   \n",
            " 17  d_Marca 14         149978 non-null  bool   \n",
            " 18  d_Marca 15         149978 non-null  bool   \n",
            " 19  d_Marca 16         149978 non-null  bool   \n",
            " 20  d_Marca 17         149978 non-null  bool   \n",
            " 21  d_Marca 18         149978 non-null  bool   \n",
            " 22  d_Marca 19         149978 non-null  bool   \n",
            " 23  d_Marca 2          149978 non-null  bool   \n",
            " 24  d_Marca 20         149978 non-null  bool   \n",
            " 25  d_Marca 21         149978 non-null  bool   \n",
            " 26  d_Marca 22         149978 non-null  bool   \n",
            " 27  d_Marca 23         149978 non-null  bool   \n",
            " 28  d_Marca 24         149978 non-null  bool   \n",
            " 29  d_Marca 25         149978 non-null  bool   \n",
            " 30  d_Marca 26         149978 non-null  bool   \n",
            " 31  d_Marca 27         149978 non-null  bool   \n",
            " 32  d_Marca 28         149978 non-null  bool   \n",
            " 33  d_Marca 29         149978 non-null  bool   \n",
            " 34  d_Marca 3          149978 non-null  bool   \n",
            " 35  d_Marca 30         149978 non-null  bool   \n",
            " 36  d_Marca 31         149978 non-null  bool   \n",
            " 37  d_Marca 32         149978 non-null  bool   \n",
            " 38  d_Marca 33         149978 non-null  bool   \n",
            " 39  d_Marca 34         149978 non-null  bool   \n",
            " 40  d_Marca 35         149978 non-null  bool   \n",
            " 41  d_Marca 36         149978 non-null  bool   \n",
            " 42  d_Marca 37         149978 non-null  bool   \n",
            " 43  d_Marca 38         149978 non-null  bool   \n",
            " 44  d_Marca 39         149978 non-null  bool   \n",
            " 45  d_Marca 4          149978 non-null  bool   \n",
            " 46  d_Marca 40         149978 non-null  bool   \n",
            " 47  d_Marca 41         149978 non-null  bool   \n",
            " 48  d_Marca 42         149978 non-null  bool   \n",
            " 49  d_Marca 5          149978 non-null  bool   \n",
            " 50  d_Marca 6          149978 non-null  bool   \n",
            " 51  d_Marca 7          149978 non-null  bool   \n",
            " 52  d_Marca 8          149978 non-null  bool   \n",
            " 53  d_Marca 9          149978 non-null  bool   \n",
            " 54  type_encoded       149978 non-null  int64  \n",
            " 55  labelling_dow_sin  149978 non-null  float64\n",
            " 56  labelling_dow_cos  149978 non-null  float64\n",
            " 57  expiring_dow_sin   149978 non-null  float64\n",
            " 58  expiring_dow_cos   149978 non-null  float64\n",
            "dtypes: Float64(4), Int64(3), bool(42), float64(8), int64(1), string(1)\n",
            "memory usage: 27.6 MB\n"
          ]
        }
      ],
      "source": [
        "df.info()"
      ]
    },
    {
      "cell_type": "code",
      "execution_count": 79,
      "id": "C6i_hZZ-cIeC",
      "metadata": {
        "colab": {
          "base_uri": "https://localhost:8080/",
          "height": 273
        },
        "id": "C6i_hZZ-cIeC",
        "outputId": "0e4575b1-2926-48c4-92eb-e7e7a5871805"
      },
      "outputs": [
        {
          "output_type": "execute_result",
          "data": {
            "text/plain": [
              "   idstore  sku  oldpvp  weight (g)  Margin (%)  Profit (€)  \\\n",
              "0        1    1    4.22       260.0        0.16      0.3376   \n",
              "1        1    1    3.96       260.0        0.16      0.3168   \n",
              "2        1    1    4.74       260.0        0.16      0.3792   \n",
              "3        1    1    4.20       260.0        0.16       0.336   \n",
              "4        1    1    4.62       260.0        0.16      0.3696   \n",
              "\n",
              "   perc_expiring_sku  sold  selling_square_ft district  ...  d_Marca 5  \\\n",
              "0            0.01005     1             4762.0    Évora  ...      False   \n",
              "1           0.005025     0             4762.0    Évora  ...      False   \n",
              "2            0.01005     1             4762.0    Évora  ...      False   \n",
              "3            0.01005     1             4762.0    Évora  ...      False   \n",
              "4            0.01005     1             4762.0    Évora  ...      False   \n",
              "\n",
              "   d_Marca 6  d_Marca 7  d_Marca 8  d_Marca 9  type_encoded  \\\n",
              "0      False      False      False      False             3   \n",
              "1      False      False      False      False             3   \n",
              "2      False      False      False      False             3   \n",
              "3      False      False      False      False             3   \n",
              "4      False      False      False      False             3   \n",
              "\n",
              "   labelling_dow_sin  labelling_dow_cos  expiring_dow_sin  expiring_dow_cos  \n",
              "0          -0.433884          -0.900969         -0.781831          0.623490  \n",
              "1          -0.433884          -0.900969         -0.974928         -0.222521  \n",
              "2          -0.433884          -0.900969         -0.781831          0.623490  \n",
              "3          -0.433884          -0.900969         -0.781831          0.623490  \n",
              "4          -0.433884          -0.900969         -0.781831          0.623490  \n",
              "\n",
              "[5 rows x 59 columns]"
            ],
            "text/html": [
              "\n",
              "  <div id=\"df-ee04530d-7756-4978-9a92-8538e78b08c9\" class=\"colab-df-container\">\n",
              "    <div>\n",
              "<style scoped>\n",
              "    .dataframe tbody tr th:only-of-type {\n",
              "        vertical-align: middle;\n",
              "    }\n",
              "\n",
              "    .dataframe tbody tr th {\n",
              "        vertical-align: top;\n",
              "    }\n",
              "\n",
              "    .dataframe thead th {\n",
              "        text-align: right;\n",
              "    }\n",
              "</style>\n",
              "<table border=\"1\" class=\"dataframe\">\n",
              "  <thead>\n",
              "    <tr style=\"text-align: right;\">\n",
              "      <th></th>\n",
              "      <th>idstore</th>\n",
              "      <th>sku</th>\n",
              "      <th>oldpvp</th>\n",
              "      <th>weight (g)</th>\n",
              "      <th>Margin (%)</th>\n",
              "      <th>Profit (€)</th>\n",
              "      <th>perc_expiring_sku</th>\n",
              "      <th>sold</th>\n",
              "      <th>selling_square_ft</th>\n",
              "      <th>district</th>\n",
              "      <th>...</th>\n",
              "      <th>d_Marca 5</th>\n",
              "      <th>d_Marca 6</th>\n",
              "      <th>d_Marca 7</th>\n",
              "      <th>d_Marca 8</th>\n",
              "      <th>d_Marca 9</th>\n",
              "      <th>type_encoded</th>\n",
              "      <th>labelling_dow_sin</th>\n",
              "      <th>labelling_dow_cos</th>\n",
              "      <th>expiring_dow_sin</th>\n",
              "      <th>expiring_dow_cos</th>\n",
              "    </tr>\n",
              "  </thead>\n",
              "  <tbody>\n",
              "    <tr>\n",
              "      <th>0</th>\n",
              "      <td>1</td>\n",
              "      <td>1</td>\n",
              "      <td>4.22</td>\n",
              "      <td>260.0</td>\n",
              "      <td>0.16</td>\n",
              "      <td>0.3376</td>\n",
              "      <td>0.01005</td>\n",
              "      <td>1</td>\n",
              "      <td>4762.0</td>\n",
              "      <td>Évora</td>\n",
              "      <td>...</td>\n",
              "      <td>False</td>\n",
              "      <td>False</td>\n",
              "      <td>False</td>\n",
              "      <td>False</td>\n",
              "      <td>False</td>\n",
              "      <td>3</td>\n",
              "      <td>-0.433884</td>\n",
              "      <td>-0.900969</td>\n",
              "      <td>-0.781831</td>\n",
              "      <td>0.623490</td>\n",
              "    </tr>\n",
              "    <tr>\n",
              "      <th>1</th>\n",
              "      <td>1</td>\n",
              "      <td>1</td>\n",
              "      <td>3.96</td>\n",
              "      <td>260.0</td>\n",
              "      <td>0.16</td>\n",
              "      <td>0.3168</td>\n",
              "      <td>0.005025</td>\n",
              "      <td>0</td>\n",
              "      <td>4762.0</td>\n",
              "      <td>Évora</td>\n",
              "      <td>...</td>\n",
              "      <td>False</td>\n",
              "      <td>False</td>\n",
              "      <td>False</td>\n",
              "      <td>False</td>\n",
              "      <td>False</td>\n",
              "      <td>3</td>\n",
              "      <td>-0.433884</td>\n",
              "      <td>-0.900969</td>\n",
              "      <td>-0.974928</td>\n",
              "      <td>-0.222521</td>\n",
              "    </tr>\n",
              "    <tr>\n",
              "      <th>2</th>\n",
              "      <td>1</td>\n",
              "      <td>1</td>\n",
              "      <td>4.74</td>\n",
              "      <td>260.0</td>\n",
              "      <td>0.16</td>\n",
              "      <td>0.3792</td>\n",
              "      <td>0.01005</td>\n",
              "      <td>1</td>\n",
              "      <td>4762.0</td>\n",
              "      <td>Évora</td>\n",
              "      <td>...</td>\n",
              "      <td>False</td>\n",
              "      <td>False</td>\n",
              "      <td>False</td>\n",
              "      <td>False</td>\n",
              "      <td>False</td>\n",
              "      <td>3</td>\n",
              "      <td>-0.433884</td>\n",
              "      <td>-0.900969</td>\n",
              "      <td>-0.781831</td>\n",
              "      <td>0.623490</td>\n",
              "    </tr>\n",
              "    <tr>\n",
              "      <th>3</th>\n",
              "      <td>1</td>\n",
              "      <td>1</td>\n",
              "      <td>4.20</td>\n",
              "      <td>260.0</td>\n",
              "      <td>0.16</td>\n",
              "      <td>0.336</td>\n",
              "      <td>0.01005</td>\n",
              "      <td>1</td>\n",
              "      <td>4762.0</td>\n",
              "      <td>Évora</td>\n",
              "      <td>...</td>\n",
              "      <td>False</td>\n",
              "      <td>False</td>\n",
              "      <td>False</td>\n",
              "      <td>False</td>\n",
              "      <td>False</td>\n",
              "      <td>3</td>\n",
              "      <td>-0.433884</td>\n",
              "      <td>-0.900969</td>\n",
              "      <td>-0.781831</td>\n",
              "      <td>0.623490</td>\n",
              "    </tr>\n",
              "    <tr>\n",
              "      <th>4</th>\n",
              "      <td>1</td>\n",
              "      <td>1</td>\n",
              "      <td>4.62</td>\n",
              "      <td>260.0</td>\n",
              "      <td>0.16</td>\n",
              "      <td>0.3696</td>\n",
              "      <td>0.01005</td>\n",
              "      <td>1</td>\n",
              "      <td>4762.0</td>\n",
              "      <td>Évora</td>\n",
              "      <td>...</td>\n",
              "      <td>False</td>\n",
              "      <td>False</td>\n",
              "      <td>False</td>\n",
              "      <td>False</td>\n",
              "      <td>False</td>\n",
              "      <td>3</td>\n",
              "      <td>-0.433884</td>\n",
              "      <td>-0.900969</td>\n",
              "      <td>-0.781831</td>\n",
              "      <td>0.623490</td>\n",
              "    </tr>\n",
              "  </tbody>\n",
              "</table>\n",
              "<p>5 rows × 59 columns</p>\n",
              "</div>\n",
              "    <div class=\"colab-df-buttons\">\n",
              "\n",
              "  <div class=\"colab-df-container\">\n",
              "    <button class=\"colab-df-convert\" onclick=\"convertToInteractive('df-ee04530d-7756-4978-9a92-8538e78b08c9')\"\n",
              "            title=\"Convert this dataframe to an interactive table.\"\n",
              "            style=\"display:none;\">\n",
              "\n",
              "  <svg xmlns=\"http://www.w3.org/2000/svg\" height=\"24px\" viewBox=\"0 -960 960 960\">\n",
              "    <path d=\"M120-120v-720h720v720H120Zm60-500h600v-160H180v160Zm220 220h160v-160H400v160Zm0 220h160v-160H400v160ZM180-400h160v-160H180v160Zm440 0h160v-160H620v160ZM180-180h160v-160H180v160Zm440 0h160v-160H620v160Z\"/>\n",
              "  </svg>\n",
              "    </button>\n",
              "\n",
              "  <style>\n",
              "    .colab-df-container {\n",
              "      display:flex;\n",
              "      gap: 12px;\n",
              "    }\n",
              "\n",
              "    .colab-df-convert {\n",
              "      background-color: #E8F0FE;\n",
              "      border: none;\n",
              "      border-radius: 50%;\n",
              "      cursor: pointer;\n",
              "      display: none;\n",
              "      fill: #1967D2;\n",
              "      height: 32px;\n",
              "      padding: 0 0 0 0;\n",
              "      width: 32px;\n",
              "    }\n",
              "\n",
              "    .colab-df-convert:hover {\n",
              "      background-color: #E2EBFA;\n",
              "      box-shadow: 0px 1px 2px rgba(60, 64, 67, 0.3), 0px 1px 3px 1px rgba(60, 64, 67, 0.15);\n",
              "      fill: #174EA6;\n",
              "    }\n",
              "\n",
              "    .colab-df-buttons div {\n",
              "      margin-bottom: 4px;\n",
              "    }\n",
              "\n",
              "    [theme=dark] .colab-df-convert {\n",
              "      background-color: #3B4455;\n",
              "      fill: #D2E3FC;\n",
              "    }\n",
              "\n",
              "    [theme=dark] .colab-df-convert:hover {\n",
              "      background-color: #434B5C;\n",
              "      box-shadow: 0px 1px 3px 1px rgba(0, 0, 0, 0.15);\n",
              "      filter: drop-shadow(0px 1px 2px rgba(0, 0, 0, 0.3));\n",
              "      fill: #FFFFFF;\n",
              "    }\n",
              "  </style>\n",
              "\n",
              "    <script>\n",
              "      const buttonEl =\n",
              "        document.querySelector('#df-ee04530d-7756-4978-9a92-8538e78b08c9 button.colab-df-convert');\n",
              "      buttonEl.style.display =\n",
              "        google.colab.kernel.accessAllowed ? 'block' : 'none';\n",
              "\n",
              "      async function convertToInteractive(key) {\n",
              "        const element = document.querySelector('#df-ee04530d-7756-4978-9a92-8538e78b08c9');\n",
              "        const dataTable =\n",
              "          await google.colab.kernel.invokeFunction('convertToInteractive',\n",
              "                                                    [key], {});\n",
              "        if (!dataTable) return;\n",
              "\n",
              "        const docLinkHtml = 'Like what you see? Visit the ' +\n",
              "          '<a target=\"_blank\" href=https://colab.research.google.com/notebooks/data_table.ipynb>data table notebook</a>'\n",
              "          + ' to learn more about interactive tables.';\n",
              "        element.innerHTML = '';\n",
              "        dataTable['output_type'] = 'display_data';\n",
              "        await google.colab.output.renderOutput(dataTable, element);\n",
              "        const docLink = document.createElement('div');\n",
              "        docLink.innerHTML = docLinkHtml;\n",
              "        element.appendChild(docLink);\n",
              "      }\n",
              "    </script>\n",
              "  </div>\n",
              "\n",
              "\n",
              "    <div id=\"df-5cc060d2-93d9-4e97-8e28-3fb425f20de2\">\n",
              "      <button class=\"colab-df-quickchart\" onclick=\"quickchart('df-5cc060d2-93d9-4e97-8e28-3fb425f20de2')\"\n",
              "                title=\"Suggest charts\"\n",
              "                style=\"display:none;\">\n",
              "\n",
              "<svg xmlns=\"http://www.w3.org/2000/svg\" height=\"24px\"viewBox=\"0 0 24 24\"\n",
              "     width=\"24px\">\n",
              "    <g>\n",
              "        <path d=\"M19 3H5c-1.1 0-2 .9-2 2v14c0 1.1.9 2 2 2h14c1.1 0 2-.9 2-2V5c0-1.1-.9-2-2-2zM9 17H7v-7h2v7zm4 0h-2V7h2v10zm4 0h-2v-4h2v4z\"/>\n",
              "    </g>\n",
              "</svg>\n",
              "      </button>\n",
              "\n",
              "<style>\n",
              "  .colab-df-quickchart {\n",
              "      --bg-color: #E8F0FE;\n",
              "      --fill-color: #1967D2;\n",
              "      --hover-bg-color: #E2EBFA;\n",
              "      --hover-fill-color: #174EA6;\n",
              "      --disabled-fill-color: #AAA;\n",
              "      --disabled-bg-color: #DDD;\n",
              "  }\n",
              "\n",
              "  [theme=dark] .colab-df-quickchart {\n",
              "      --bg-color: #3B4455;\n",
              "      --fill-color: #D2E3FC;\n",
              "      --hover-bg-color: #434B5C;\n",
              "      --hover-fill-color: #FFFFFF;\n",
              "      --disabled-bg-color: #3B4455;\n",
              "      --disabled-fill-color: #666;\n",
              "  }\n",
              "\n",
              "  .colab-df-quickchart {\n",
              "    background-color: var(--bg-color);\n",
              "    border: none;\n",
              "    border-radius: 50%;\n",
              "    cursor: pointer;\n",
              "    display: none;\n",
              "    fill: var(--fill-color);\n",
              "    height: 32px;\n",
              "    padding: 0;\n",
              "    width: 32px;\n",
              "  }\n",
              "\n",
              "  .colab-df-quickchart:hover {\n",
              "    background-color: var(--hover-bg-color);\n",
              "    box-shadow: 0 1px 2px rgba(60, 64, 67, 0.3), 0 1px 3px 1px rgba(60, 64, 67, 0.15);\n",
              "    fill: var(--button-hover-fill-color);\n",
              "  }\n",
              "\n",
              "  .colab-df-quickchart-complete:disabled,\n",
              "  .colab-df-quickchart-complete:disabled:hover {\n",
              "    background-color: var(--disabled-bg-color);\n",
              "    fill: var(--disabled-fill-color);\n",
              "    box-shadow: none;\n",
              "  }\n",
              "\n",
              "  .colab-df-spinner {\n",
              "    border: 2px solid var(--fill-color);\n",
              "    border-color: transparent;\n",
              "    border-bottom-color: var(--fill-color);\n",
              "    animation:\n",
              "      spin 1s steps(1) infinite;\n",
              "  }\n",
              "\n",
              "  @keyframes spin {\n",
              "    0% {\n",
              "      border-color: transparent;\n",
              "      border-bottom-color: var(--fill-color);\n",
              "      border-left-color: var(--fill-color);\n",
              "    }\n",
              "    20% {\n",
              "      border-color: transparent;\n",
              "      border-left-color: var(--fill-color);\n",
              "      border-top-color: var(--fill-color);\n",
              "    }\n",
              "    30% {\n",
              "      border-color: transparent;\n",
              "      border-left-color: var(--fill-color);\n",
              "      border-top-color: var(--fill-color);\n",
              "      border-right-color: var(--fill-color);\n",
              "    }\n",
              "    40% {\n",
              "      border-color: transparent;\n",
              "      border-right-color: var(--fill-color);\n",
              "      border-top-color: var(--fill-color);\n",
              "    }\n",
              "    60% {\n",
              "      border-color: transparent;\n",
              "      border-right-color: var(--fill-color);\n",
              "    }\n",
              "    80% {\n",
              "      border-color: transparent;\n",
              "      border-right-color: var(--fill-color);\n",
              "      border-bottom-color: var(--fill-color);\n",
              "    }\n",
              "    90% {\n",
              "      border-color: transparent;\n",
              "      border-bottom-color: var(--fill-color);\n",
              "    }\n",
              "  }\n",
              "</style>\n",
              "\n",
              "      <script>\n",
              "        async function quickchart(key) {\n",
              "          const quickchartButtonEl =\n",
              "            document.querySelector('#' + key + ' button');\n",
              "          quickchartButtonEl.disabled = true;  // To prevent multiple clicks.\n",
              "          quickchartButtonEl.classList.add('colab-df-spinner');\n",
              "          try {\n",
              "            const charts = await google.colab.kernel.invokeFunction(\n",
              "                'suggestCharts', [key], {});\n",
              "          } catch (error) {\n",
              "            console.error('Error during call to suggestCharts:', error);\n",
              "          }\n",
              "          quickchartButtonEl.classList.remove('colab-df-spinner');\n",
              "          quickchartButtonEl.classList.add('colab-df-quickchart-complete');\n",
              "        }\n",
              "        (() => {\n",
              "          let quickchartButtonEl =\n",
              "            document.querySelector('#df-5cc060d2-93d9-4e97-8e28-3fb425f20de2 button');\n",
              "          quickchartButtonEl.style.display =\n",
              "            google.colab.kernel.accessAllowed ? 'block' : 'none';\n",
              "        })();\n",
              "      </script>\n",
              "    </div>\n",
              "\n",
              "    </div>\n",
              "  </div>\n"
            ],
            "application/vnd.google.colaboratory.intrinsic+json": {
              "type": "dataframe",
              "variable_name": "df"
            }
          },
          "metadata": {},
          "execution_count": 79
        }
      ],
      "source": [
        "df.head()"
      ]
    },
    {
      "cell_type": "code",
      "execution_count": 80,
      "id": "IKiJR_D4d7iF",
      "metadata": {
        "colab": {
          "base_uri": "https://localhost:8080/"
        },
        "id": "IKiJR_D4d7iF",
        "outputId": "bbee04a3-a282-41f0-f886-a9a919049bd3"
      },
      "outputs": [
        {
          "output_type": "stream",
          "name": "stdout",
          "text": [
            "Número de linhas no df final: 149978\n"
          ]
        }
      ],
      "source": [
        "print(f\"Número de linhas no df final: {df.shape[0]}\")"
      ]
    },
    {
      "cell_type": "markdown",
      "id": "JcX-xDn-bIQB",
      "metadata": {
        "id": "JcX-xDn-bIQB"
      },
      "source": [
        "# Criar csv"
      ]
    },
    {
      "cell_type": "code",
      "execution_count": 81,
      "id": "xLLTCf9A_0xV",
      "metadata": {
        "id": "xLLTCf9A_0xV"
      },
      "outputs": [],
      "source": [
        "df.to_csv(\"Data_cleaned_final_antes_clusters.csv\", index=False, encoding=\"utf-8-sig\")"
      ]
    },
    {
      "cell_type": "markdown",
      "source": [
        "#Integração Dataframe Final com Clusters: SKU e Store"
      ],
      "metadata": {
        "id": "p4jQnVglFhH9"
      },
      "id": "p4jQnVglFhH9"
    },
    {
      "cell_type": "code",
      "execution_count": 83,
      "id": "0fdifNbPsjgc",
      "metadata": {
        "id": "0fdifNbPsjgc"
      },
      "outputs": [],
      "source": [
        "df_cluster = pd.read_csv(\"/content/Data_Store_Clustered.csv\")\n",
        "\n",
        "df_cluster = df_cluster[[\"idstore\", \"Cluster_KMeans\"]].rename(\n",
        "    columns={\"Cluster_KMeans\": \"Store_cluster\"}\n",
        ")\n",
        "\n",
        "df_cluster_store = pd.merge(\n",
        "    df,\n",
        "    df_cluster,\n",
        "    on=\"idstore\",\n",
        "    how=\"left\"\n",
        ")"
      ]
    },
    {
      "cell_type": "code",
      "execution_count": 84,
      "id": "nat0DG9hs_cj",
      "metadata": {
        "id": "nat0DG9hs_cj"
      },
      "outputs": [],
      "source": [
        "df_cluster_store = df_cluster_store.drop(columns=[\"idstore\", \"district\"])"
      ]
    },
    {
      "cell_type": "code",
      "execution_count": 85,
      "id": "1sXhR37TurH3",
      "metadata": {
        "colab": {
          "base_uri": "https://localhost:8080/"
        },
        "id": "1sXhR37TurH3",
        "outputId": "fe7d44db-1c31-42e8-99e2-21c00daa5382"
      },
      "outputs": [
        {
          "output_type": "execute_result",
          "data": {
            "text/plain": [
              "np.int64(4914)"
            ]
          },
          "metadata": {},
          "execution_count": 85
        }
      ],
      "source": [
        "df_cluster_store.isna().sum().sum()"
      ]
    },
    {
      "cell_type": "code",
      "execution_count": 86,
      "id": "avdIb1etuspN",
      "metadata": {
        "id": "avdIb1etuspN"
      },
      "outputs": [],
      "source": [
        "\n",
        "df_sku_cluster = pd.read_csv(\"/content/Data_SKU_Clustered.csv\")\n",
        "\n",
        "\n",
        "df_sku_cluster = df_sku_cluster[[\"sku\", \"Cluster_KMeans\"]].rename(\n",
        "    columns={\"Cluster_KMeans\": \"SKU_cluster\"}\n",
        ")\n",
        "\n",
        "df_cluster_store_sku = pd.merge(\n",
        "    df_cluster_store,\n",
        "    df_sku_cluster,\n",
        "    on=\"sku\",\n",
        "    how=\"left\"\n",
        ")\n",
        "\n",
        "df_cluster_store_sku = df_cluster_store_sku.drop(columns=[\"sku\"])"
      ]
    },
    {
      "cell_type": "code",
      "execution_count": 87,
      "id": "zBMY1mGTwSly",
      "metadata": {
        "colab": {
          "base_uri": "https://localhost:8080/"
        },
        "id": "zBMY1mGTwSly",
        "outputId": "3ecdfc49-2128-496e-ccbb-449690c4c81e"
      },
      "outputs": [
        {
          "output_type": "execute_result",
          "data": {
            "text/plain": [
              "np.int64(42050)"
            ]
          },
          "metadata": {},
          "execution_count": 87
        }
      ],
      "source": [
        "df_cluster_store_sku.isna().sum().sum()"
      ]
    },
    {
      "cell_type": "code",
      "execution_count": 88,
      "id": "iBqeOaiyyVRE",
      "metadata": {
        "id": "iBqeOaiyyVRE"
      },
      "outputs": [],
      "source": [
        "df_cluster_store_sku = pd.get_dummies(\n",
        "    df_cluster_store_sku,\n",
        "    columns=[\"Store_cluster\", \"SKU_cluster\"],\n",
        "    prefix=[\"StoreCluster\", \"SKUCluster\"]\n",
        ")\n"
      ]
    },
    {
      "cell_type": "code",
      "execution_count": 89,
      "id": "7DAcmU-awb2e",
      "metadata": {
        "colab": {
          "base_uri": "https://localhost:8080/"
        },
        "id": "7DAcmU-awb2e",
        "outputId": "88475f45-e1f9-4b7a-f1a0-cbb2f9ebb3da"
      },
      "outputs": [
        {
          "output_type": "stream",
          "name": "stdout",
          "text": [
            "<class 'pandas.core.frame.DataFrame'>\n",
            "RangeIndex: 149978 entries, 0 to 149977\n",
            "Data columns (total 64 columns):\n",
            " #   Column             Non-Null Count   Dtype  \n",
            "---  ------             --------------   -----  \n",
            " 0   oldpvp             149978 non-null  float64\n",
            " 1   weight (g)         149978 non-null  float64\n",
            " 2   Margin (%)         149978 non-null  Float64\n",
            " 3   Profit (€)         149978 non-null  Float64\n",
            " 4   perc_expiring_sku  149978 non-null  Float64\n",
            " 5   sold               149978 non-null  Int64  \n",
            " 6   selling_square_ft  149978 non-null  Float64\n",
            " 7   newpvp             149978 non-null  float64\n",
            " 8   discount           149978 non-null  float64\n",
            " 9   d_Marca 1          149978 non-null  bool   \n",
            " 10  d_Marca 10         149978 non-null  bool   \n",
            " 11  d_Marca 11         149978 non-null  bool   \n",
            " 12  d_Marca 12         149978 non-null  bool   \n",
            " 13  d_Marca 13         149978 non-null  bool   \n",
            " 14  d_Marca 14         149978 non-null  bool   \n",
            " 15  d_Marca 15         149978 non-null  bool   \n",
            " 16  d_Marca 16         149978 non-null  bool   \n",
            " 17  d_Marca 17         149978 non-null  bool   \n",
            " 18  d_Marca 18         149978 non-null  bool   \n",
            " 19  d_Marca 19         149978 non-null  bool   \n",
            " 20  d_Marca 2          149978 non-null  bool   \n",
            " 21  d_Marca 20         149978 non-null  bool   \n",
            " 22  d_Marca 21         149978 non-null  bool   \n",
            " 23  d_Marca 22         149978 non-null  bool   \n",
            " 24  d_Marca 23         149978 non-null  bool   \n",
            " 25  d_Marca 24         149978 non-null  bool   \n",
            " 26  d_Marca 25         149978 non-null  bool   \n",
            " 27  d_Marca 26         149978 non-null  bool   \n",
            " 28  d_Marca 27         149978 non-null  bool   \n",
            " 29  d_Marca 28         149978 non-null  bool   \n",
            " 30  d_Marca 29         149978 non-null  bool   \n",
            " 31  d_Marca 3          149978 non-null  bool   \n",
            " 32  d_Marca 30         149978 non-null  bool   \n",
            " 33  d_Marca 31         149978 non-null  bool   \n",
            " 34  d_Marca 32         149978 non-null  bool   \n",
            " 35  d_Marca 33         149978 non-null  bool   \n",
            " 36  d_Marca 34         149978 non-null  bool   \n",
            " 37  d_Marca 35         149978 non-null  bool   \n",
            " 38  d_Marca 36         149978 non-null  bool   \n",
            " 39  d_Marca 37         149978 non-null  bool   \n",
            " 40  d_Marca 38         149978 non-null  bool   \n",
            " 41  d_Marca 39         149978 non-null  bool   \n",
            " 42  d_Marca 4          149978 non-null  bool   \n",
            " 43  d_Marca 40         149978 non-null  bool   \n",
            " 44  d_Marca 41         149978 non-null  bool   \n",
            " 45  d_Marca 42         149978 non-null  bool   \n",
            " 46  d_Marca 5          149978 non-null  bool   \n",
            " 47  d_Marca 6          149978 non-null  bool   \n",
            " 48  d_Marca 7          149978 non-null  bool   \n",
            " 49  d_Marca 8          149978 non-null  bool   \n",
            " 50  d_Marca 9          149978 non-null  bool   \n",
            " 51  type_encoded       149978 non-null  int64  \n",
            " 52  labelling_dow_sin  149978 non-null  float64\n",
            " 53  labelling_dow_cos  149978 non-null  float64\n",
            " 54  expiring_dow_sin   149978 non-null  float64\n",
            " 55  expiring_dow_cos   149978 non-null  float64\n",
            " 56  StoreCluster_0.0   149978 non-null  bool   \n",
            " 57  StoreCluster_1.0   149978 non-null  bool   \n",
            " 58  StoreCluster_2.0   149978 non-null  bool   \n",
            " 59  StoreCluster_3.0   149978 non-null  bool   \n",
            " 60  SKUCluster_0.0     149978 non-null  bool   \n",
            " 61  SKUCluster_1.0     149978 non-null  bool   \n",
            " 62  SKUCluster_2.0     149978 non-null  bool   \n",
            " 63  SKUCluster_3.0     149978 non-null  bool   \n",
            "dtypes: Float64(4), Int64(1), bool(50), float64(8), int64(1)\n",
            "memory usage: 23.9 MB\n"
          ]
        }
      ],
      "source": [
        "df_cluster_store_sku.info()"
      ]
    },
    {
      "cell_type": "code",
      "execution_count": 90,
      "id": "-1wIIZUdwMEI",
      "metadata": {
        "id": "-1wIIZUdwMEI"
      },
      "outputs": [],
      "source": [
        "df_cluster_store_sku.to_csv(\"Datacluster_store_sku.csv\", index=False, encoding=\"utf-8-sig\")"
      ]
    }
  ],
  "metadata": {
    "colab": {
      "collapsed_sections": [
        "345bcbcf",
        "r4MqUhbkIryb",
        "JKN4ePwAPHlm",
        "f0BRdGb0QFRn",
        "a97f91bf",
        "UxmSO8vkPsHJ",
        "90578fc7",
        "99ff8b34",
        "3ac7b4c5",
        "f66613ab",
        "e4b98945",
        "Y5QMv7wP8ieB",
        "cfRlCZYX8zoQ",
        "Vnm-jIL6FCCZ",
        "StR-hsLavs5n",
        "fuqH1IcxFMIA",
        "JcX-xDn-bIQB",
        "p4jQnVglFhH9"
      ],
      "provenance": [],
      "toc_visible": true
    },
    "kernelspec": {
      "display_name": "Python 3",
      "language": "python",
      "name": "python3"
    },
    "language_info": {
      "codemirror_mode": {
        "name": "ipython",
        "version": 3
      },
      "file_extension": ".py",
      "mimetype": "text/x-python",
      "name": "python",
      "nbconvert_exporter": "python",
      "pygments_lexer": "ipython3",
      "version": "3.13.2"
    }
  },
  "nbformat": 4,
  "nbformat_minor": 5
}