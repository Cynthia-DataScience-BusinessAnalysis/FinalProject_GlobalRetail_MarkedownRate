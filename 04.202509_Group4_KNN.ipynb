{
  "nbformat": 4,
  "nbformat_minor": 0,
  "metadata": {
    "colab": {
      "provenance": []
    },
    "kernelspec": {
      "name": "python3",
      "display_name": "Python 3"
    },
    "language_info": {
      "name": "python"
    }
  },
  "cells": [
    {
      "cell_type": "markdown",
      "source": [
        "#1. Importar libs e DataSet"
      ],
      "metadata": {
        "id": "ljGWmja7fyYl"
      }
    },
    {
      "cell_type": "code",
      "execution_count": 1,
      "metadata": {
        "id": "kZWuqu05errd"
      },
      "outputs": [],
      "source": [
        "import pandas as pd\n",
        "import numpy as np\n",
        "import seaborn as sns\n",
        "from sklearn.model_selection import train_test_split\n",
        "from sklearn.preprocessing import StandardScaler\n",
        "from sklearn.neighbors import KNeighborsClassifier\n",
        "from sklearn.metrics import classification_report, confusion_matrix\n",
        "from sklearn.metrics import accuracy_score\n",
        "from sklearn.metrics import roc_auc_score, roc_curve\n",
        "from sklearn.inspection import permutation_importance\n",
        "from sklearn.metrics import make_scorer, f1_score\n"
      ]
    },
    {
      "cell_type": "markdown",
      "source": [
        "#2. Importação de dados"
      ],
      "metadata": {
        "id": "-zgWF1xNwL-S"
      }
    },
    {
      "cell_type": "code",
      "source": [
        "csv_path = '/content/Datacluster_store_sku.csv'\n",
        "\n",
        "df = pd.read_csv(csv_path, low_memory=False)\n",
        "\n",
        "# Converter colunas problemáticas para numéricas\n",
        "cols_problematicas = df.columns[45:55]\n",
        "for col in cols_problematicas:\n",
        "    df[col] = pd.to_numeric(df[col], errors=\"coerce\")"
      ],
      "metadata": {
        "id": "AcOwPvjXgEYT"
      },
      "execution_count": 2,
      "outputs": []
    },
    {
      "cell_type": "code",
      "source": [
        "# Target\n",
        "y = df[\"sold\"]\n",
        "\n",
        "# Features\n",
        "X = df.drop(columns=[\n",
        "    \"sold\"\n",
        "])\n",
        "\n",
        "SEED=42"
      ],
      "metadata": {
        "id": "1WDaAAWcf7t4"
      },
      "execution_count": 3,
      "outputs": []
    },
    {
      "cell_type": "code",
      "source": [
        "print(X.isna().sum())"
      ],
      "metadata": {
        "colab": {
          "base_uri": "https://localhost:8080/"
        },
        "id": "0JdQk7m6GNnC",
        "outputId": "ab1cc001-b8ad-4cc7-ddad-a28143dd8862",
        "collapsed": true
      },
      "execution_count": 4,
      "outputs": [
        {
          "output_type": "stream",
          "name": "stdout",
          "text": [
            "oldpvp               0\n",
            "weight (g)           0\n",
            "Margin (%)           0\n",
            "Profit (€)           0\n",
            "perc_expiring_sku    0\n",
            "                    ..\n",
            "StoreCluster_3       0\n",
            "SKUCluster_0         0\n",
            "SKUCluster_1         0\n",
            "SKUCluster_2         0\n",
            "SKUCluster_3         0\n",
            "Length: 63, dtype: int64\n"
          ]
        }
      ]
    },
    {
      "cell_type": "markdown",
      "source": [
        "#3. Train/Test/Validation split (70/15/15)"
      ],
      "metadata": {
        "id": "GR9BQUk2g6eg"
      }
    },
    {
      "cell_type": "code",
      "source": [
        "X_train, X_temp, y_train, y_temp = train_test_split(\n",
        "    X, y, test_size=0.30, stratify=y, random_state=SEED\n",
        ")\n",
        "\n",
        "X_valid, X_test, y_valid, y_test = train_test_split(\n",
        "    X_temp, y_temp, test_size=0.50, stratify=y_temp, random_state=SEED\n",
        ")\n",
        "\n",
        "print('Shapes:')\n",
        "print('  Train:', X_train.shape, y_train.shape)\n",
        "print('  Valid:', X_valid.shape, y_valid.shape)\n",
        "print('  Test :', X_test.shape,  y_test.shape)"
      ],
      "metadata": {
        "id": "wx5i_6e6g7r_",
        "colab": {
          "base_uri": "https://localhost:8080/"
        },
        "outputId": "7b1bb428-4717-4fe0-bd7d-547e61f9c72d",
        "collapsed": true
      },
      "execution_count": 5,
      "outputs": [
        {
          "output_type": "stream",
          "name": "stdout",
          "text": [
            "Shapes:\n",
            "  Train: (104984, 63) (104984,)\n",
            "  Valid: (22497, 63) (22497,)\n",
            "  Test : (22497, 63) (22497,)\n"
          ]
        }
      ]
    },
    {
      "cell_type": "markdown",
      "source": [
        "#4. Escalar dados ⚖️"
      ],
      "metadata": {
        "id": "uLH2JiQzg_rn"
      }
    },
    {
      "cell_type": "code",
      "source": [
        "continuous_cols = [\n",
        "    'oldpvp',\n",
        "    'weight (g)',\n",
        "    'Profit (€)',\n",
        "    'selling_square_ft',\n",
        "    'newpvp',\n",
        "    'type_encoded'\n",
        "]\n",
        "\n",
        "#Criar cópias para não perder as colunas originais\n",
        "X_train_scaled = X_train.copy()\n",
        "X_valid_scaled = X_valid.copy()\n",
        "X_test_scaled  = X_test.copy()\n",
        "\n",
        "#Ajustar o scaler apenas no treino e transformar as mesmas colunas\n",
        "scaler = StandardScaler()\n",
        "X_train_scaled[continuous_cols] = scaler.fit_transform(X_train[continuous_cols])\n",
        "X_valid_scaled[continuous_cols] = scaler.transform(X_valid[continuous_cols])\n",
        "X_test_scaled[continuous_cols]  = scaler.transform(X_test[continuous_cols])\n",
        "\n",
        "display(X_train_scaled.head())"
      ],
      "metadata": {
        "id": "6QvUjH7RhA6H",
        "colab": {
          "base_uri": "https://localhost:8080/",
          "height": 273
        },
        "outputId": "58949f94-7585-4288-8a69-4a2794f4bd24",
        "collapsed": true
      },
      "execution_count": 7,
      "outputs": [
        {
          "output_type": "display_data",
          "data": {
            "text/plain": [
              "          oldpvp  weight (g)  Margin (%)  Profit (€)  perc_expiring_sku  \\\n",
              "104805  0.030957   -0.734599        0.18    0.335149           0.666667   \n",
              "67661  -1.020568    1.135011        0.17   -0.754492           0.666667   \n",
              "9444    0.731973   -1.409736        0.13    0.082881           0.333333   \n",
              "140734  0.206211   -1.929071        0.20    0.813270           0.666667   \n",
              "130556  0.206211    1.758214        0.20    0.813270           0.666667   \n",
              "\n",
              "        selling_square_ft    newpvp  discount  d_Marca 1  d_Marca 10  ...  \\\n",
              "104805           0.638577  0.037331       0.3      False       False  ...   \n",
              "67661           -0.133982 -1.041231       0.3      False       False  ...   \n",
              "9444            -0.835592  0.756372       0.3      False       False  ...   \n",
              "140734          -0.835592  0.217091       0.3      False       False  ...   \n",
              "130556          -0.772709  0.217091       0.3      False       False  ...   \n",
              "\n",
              "        expiring_dow_sin  expiring_dow_cos  StoreCluster_0  StoreCluster_1  \\\n",
              "104805          0.433884         -0.900969           False           False   \n",
              "67661           0.433884         -0.900969            True           False   \n",
              "9444           -0.433884         -0.900969            True           False   \n",
              "140734          0.974928         -0.222521            True           False   \n",
              "130556          0.974928         -0.222521           False           False   \n",
              "\n",
              "        StoreCluster_2  StoreCluster_3  SKUCluster_0  SKUCluster_1  \\\n",
              "104805            True           False         False          True   \n",
              "67661            False           False         False          True   \n",
              "9444             False           False         False         False   \n",
              "140734           False           False         False          True   \n",
              "130556            True           False         False          True   \n",
              "\n",
              "        SKUCluster_2  SKUCluster_3  \n",
              "104805         False         False  \n",
              "67661          False         False  \n",
              "9444           False          True  \n",
              "140734         False         False  \n",
              "130556         False         False  \n",
              "\n",
              "[5 rows x 63 columns]"
            ],
            "text/html": [
              "\n",
              "  <div id=\"df-9a7cd40a-106c-484e-bb3b-814424927be3\" class=\"colab-df-container\">\n",
              "    <div>\n",
              "<style scoped>\n",
              "    .dataframe tbody tr th:only-of-type {\n",
              "        vertical-align: middle;\n",
              "    }\n",
              "\n",
              "    .dataframe tbody tr th {\n",
              "        vertical-align: top;\n",
              "    }\n",
              "\n",
              "    .dataframe thead th {\n",
              "        text-align: right;\n",
              "    }\n",
              "</style>\n",
              "<table border=\"1\" class=\"dataframe\">\n",
              "  <thead>\n",
              "    <tr style=\"text-align: right;\">\n",
              "      <th></th>\n",
              "      <th>oldpvp</th>\n",
              "      <th>weight (g)</th>\n",
              "      <th>Margin (%)</th>\n",
              "      <th>Profit (€)</th>\n",
              "      <th>perc_expiring_sku</th>\n",
              "      <th>selling_square_ft</th>\n",
              "      <th>newpvp</th>\n",
              "      <th>discount</th>\n",
              "      <th>d_Marca 1</th>\n",
              "      <th>d_Marca 10</th>\n",
              "      <th>...</th>\n",
              "      <th>expiring_dow_sin</th>\n",
              "      <th>expiring_dow_cos</th>\n",
              "      <th>StoreCluster_0</th>\n",
              "      <th>StoreCluster_1</th>\n",
              "      <th>StoreCluster_2</th>\n",
              "      <th>StoreCluster_3</th>\n",
              "      <th>SKUCluster_0</th>\n",
              "      <th>SKUCluster_1</th>\n",
              "      <th>SKUCluster_2</th>\n",
              "      <th>SKUCluster_3</th>\n",
              "    </tr>\n",
              "  </thead>\n",
              "  <tbody>\n",
              "    <tr>\n",
              "      <th>104805</th>\n",
              "      <td>0.030957</td>\n",
              "      <td>-0.734599</td>\n",
              "      <td>0.18</td>\n",
              "      <td>0.335149</td>\n",
              "      <td>0.666667</td>\n",
              "      <td>0.638577</td>\n",
              "      <td>0.037331</td>\n",
              "      <td>0.3</td>\n",
              "      <td>False</td>\n",
              "      <td>False</td>\n",
              "      <td>...</td>\n",
              "      <td>0.433884</td>\n",
              "      <td>-0.900969</td>\n",
              "      <td>False</td>\n",
              "      <td>False</td>\n",
              "      <td>True</td>\n",
              "      <td>False</td>\n",
              "      <td>False</td>\n",
              "      <td>True</td>\n",
              "      <td>False</td>\n",
              "      <td>False</td>\n",
              "    </tr>\n",
              "    <tr>\n",
              "      <th>67661</th>\n",
              "      <td>-1.020568</td>\n",
              "      <td>1.135011</td>\n",
              "      <td>0.17</td>\n",
              "      <td>-0.754492</td>\n",
              "      <td>0.666667</td>\n",
              "      <td>-0.133982</td>\n",
              "      <td>-1.041231</td>\n",
              "      <td>0.3</td>\n",
              "      <td>False</td>\n",
              "      <td>False</td>\n",
              "      <td>...</td>\n",
              "      <td>0.433884</td>\n",
              "      <td>-0.900969</td>\n",
              "      <td>True</td>\n",
              "      <td>False</td>\n",
              "      <td>False</td>\n",
              "      <td>False</td>\n",
              "      <td>False</td>\n",
              "      <td>True</td>\n",
              "      <td>False</td>\n",
              "      <td>False</td>\n",
              "    </tr>\n",
              "    <tr>\n",
              "      <th>9444</th>\n",
              "      <td>0.731973</td>\n",
              "      <td>-1.409736</td>\n",
              "      <td>0.13</td>\n",
              "      <td>0.082881</td>\n",
              "      <td>0.333333</td>\n",
              "      <td>-0.835592</td>\n",
              "      <td>0.756372</td>\n",
              "      <td>0.3</td>\n",
              "      <td>False</td>\n",
              "      <td>False</td>\n",
              "      <td>...</td>\n",
              "      <td>-0.433884</td>\n",
              "      <td>-0.900969</td>\n",
              "      <td>True</td>\n",
              "      <td>False</td>\n",
              "      <td>False</td>\n",
              "      <td>False</td>\n",
              "      <td>False</td>\n",
              "      <td>False</td>\n",
              "      <td>False</td>\n",
              "      <td>True</td>\n",
              "    </tr>\n",
              "    <tr>\n",
              "      <th>140734</th>\n",
              "      <td>0.206211</td>\n",
              "      <td>-1.929071</td>\n",
              "      <td>0.20</td>\n",
              "      <td>0.813270</td>\n",
              "      <td>0.666667</td>\n",
              "      <td>-0.835592</td>\n",
              "      <td>0.217091</td>\n",
              "      <td>0.3</td>\n",
              "      <td>False</td>\n",
              "      <td>False</td>\n",
              "      <td>...</td>\n",
              "      <td>0.974928</td>\n",
              "      <td>-0.222521</td>\n",
              "      <td>True</td>\n",
              "      <td>False</td>\n",
              "      <td>False</td>\n",
              "      <td>False</td>\n",
              "      <td>False</td>\n",
              "      <td>True</td>\n",
              "      <td>False</td>\n",
              "      <td>False</td>\n",
              "    </tr>\n",
              "    <tr>\n",
              "      <th>130556</th>\n",
              "      <td>0.206211</td>\n",
              "      <td>1.758214</td>\n",
              "      <td>0.20</td>\n",
              "      <td>0.813270</td>\n",
              "      <td>0.666667</td>\n",
              "      <td>-0.772709</td>\n",
              "      <td>0.217091</td>\n",
              "      <td>0.3</td>\n",
              "      <td>False</td>\n",
              "      <td>False</td>\n",
              "      <td>...</td>\n",
              "      <td>0.974928</td>\n",
              "      <td>-0.222521</td>\n",
              "      <td>False</td>\n",
              "      <td>False</td>\n",
              "      <td>True</td>\n",
              "      <td>False</td>\n",
              "      <td>False</td>\n",
              "      <td>True</td>\n",
              "      <td>False</td>\n",
              "      <td>False</td>\n",
              "    </tr>\n",
              "  </tbody>\n",
              "</table>\n",
              "<p>5 rows × 63 columns</p>\n",
              "</div>\n",
              "    <div class=\"colab-df-buttons\">\n",
              "\n",
              "  <div class=\"colab-df-container\">\n",
              "    <button class=\"colab-df-convert\" onclick=\"convertToInteractive('df-9a7cd40a-106c-484e-bb3b-814424927be3')\"\n",
              "            title=\"Convert this dataframe to an interactive table.\"\n",
              "            style=\"display:none;\">\n",
              "\n",
              "  <svg xmlns=\"http://www.w3.org/2000/svg\" height=\"24px\" viewBox=\"0 -960 960 960\">\n",
              "    <path d=\"M120-120v-720h720v720H120Zm60-500h600v-160H180v160Zm220 220h160v-160H400v160Zm0 220h160v-160H400v160ZM180-400h160v-160H180v160Zm440 0h160v-160H620v160ZM180-180h160v-160H180v160Zm440 0h160v-160H620v160Z\"/>\n",
              "  </svg>\n",
              "    </button>\n",
              "\n",
              "  <style>\n",
              "    .colab-df-container {\n",
              "      display:flex;\n",
              "      gap: 12px;\n",
              "    }\n",
              "\n",
              "    .colab-df-convert {\n",
              "      background-color: #E8F0FE;\n",
              "      border: none;\n",
              "      border-radius: 50%;\n",
              "      cursor: pointer;\n",
              "      display: none;\n",
              "      fill: #1967D2;\n",
              "      height: 32px;\n",
              "      padding: 0 0 0 0;\n",
              "      width: 32px;\n",
              "    }\n",
              "\n",
              "    .colab-df-convert:hover {\n",
              "      background-color: #E2EBFA;\n",
              "      box-shadow: 0px 1px 2px rgba(60, 64, 67, 0.3), 0px 1px 3px 1px rgba(60, 64, 67, 0.15);\n",
              "      fill: #174EA6;\n",
              "    }\n",
              "\n",
              "    .colab-df-buttons div {\n",
              "      margin-bottom: 4px;\n",
              "    }\n",
              "\n",
              "    [theme=dark] .colab-df-convert {\n",
              "      background-color: #3B4455;\n",
              "      fill: #D2E3FC;\n",
              "    }\n",
              "\n",
              "    [theme=dark] .colab-df-convert:hover {\n",
              "      background-color: #434B5C;\n",
              "      box-shadow: 0px 1px 3px 1px rgba(0, 0, 0, 0.15);\n",
              "      filter: drop-shadow(0px 1px 2px rgba(0, 0, 0, 0.3));\n",
              "      fill: #FFFFFF;\n",
              "    }\n",
              "  </style>\n",
              "\n",
              "    <script>\n",
              "      const buttonEl =\n",
              "        document.querySelector('#df-9a7cd40a-106c-484e-bb3b-814424927be3 button.colab-df-convert');\n",
              "      buttonEl.style.display =\n",
              "        google.colab.kernel.accessAllowed ? 'block' : 'none';\n",
              "\n",
              "      async function convertToInteractive(key) {\n",
              "        const element = document.querySelector('#df-9a7cd40a-106c-484e-bb3b-814424927be3');\n",
              "        const dataTable =\n",
              "          await google.colab.kernel.invokeFunction('convertToInteractive',\n",
              "                                                    [key], {});\n",
              "        if (!dataTable) return;\n",
              "\n",
              "        const docLinkHtml = 'Like what you see? Visit the ' +\n",
              "          '<a target=\"_blank\" href=https://colab.research.google.com/notebooks/data_table.ipynb>data table notebook</a>'\n",
              "          + ' to learn more about interactive tables.';\n",
              "        element.innerHTML = '';\n",
              "        dataTable['output_type'] = 'display_data';\n",
              "        await google.colab.output.renderOutput(dataTable, element);\n",
              "        const docLink = document.createElement('div');\n",
              "        docLink.innerHTML = docLinkHtml;\n",
              "        element.appendChild(docLink);\n",
              "      }\n",
              "    </script>\n",
              "  </div>\n",
              "\n",
              "\n",
              "    <div id=\"df-cf67cff9-18c1-42e9-8f3f-ac51f3751d7e\">\n",
              "      <button class=\"colab-df-quickchart\" onclick=\"quickchart('df-cf67cff9-18c1-42e9-8f3f-ac51f3751d7e')\"\n",
              "                title=\"Suggest charts\"\n",
              "                style=\"display:none;\">\n",
              "\n",
              "<svg xmlns=\"http://www.w3.org/2000/svg\" height=\"24px\"viewBox=\"0 0 24 24\"\n",
              "     width=\"24px\">\n",
              "    <g>\n",
              "        <path d=\"M19 3H5c-1.1 0-2 .9-2 2v14c0 1.1.9 2 2 2h14c1.1 0 2-.9 2-2V5c0-1.1-.9-2-2-2zM9 17H7v-7h2v7zm4 0h-2V7h2v10zm4 0h-2v-4h2v4z\"/>\n",
              "    </g>\n",
              "</svg>\n",
              "      </button>\n",
              "\n",
              "<style>\n",
              "  .colab-df-quickchart {\n",
              "      --bg-color: #E8F0FE;\n",
              "      --fill-color: #1967D2;\n",
              "      --hover-bg-color: #E2EBFA;\n",
              "      --hover-fill-color: #174EA6;\n",
              "      --disabled-fill-color: #AAA;\n",
              "      --disabled-bg-color: #DDD;\n",
              "  }\n",
              "\n",
              "  [theme=dark] .colab-df-quickchart {\n",
              "      --bg-color: #3B4455;\n",
              "      --fill-color: #D2E3FC;\n",
              "      --hover-bg-color: #434B5C;\n",
              "      --hover-fill-color: #FFFFFF;\n",
              "      --disabled-bg-color: #3B4455;\n",
              "      --disabled-fill-color: #666;\n",
              "  }\n",
              "\n",
              "  .colab-df-quickchart {\n",
              "    background-color: var(--bg-color);\n",
              "    border: none;\n",
              "    border-radius: 50%;\n",
              "    cursor: pointer;\n",
              "    display: none;\n",
              "    fill: var(--fill-color);\n",
              "    height: 32px;\n",
              "    padding: 0;\n",
              "    width: 32px;\n",
              "  }\n",
              "\n",
              "  .colab-df-quickchart:hover {\n",
              "    background-color: var(--hover-bg-color);\n",
              "    box-shadow: 0 1px 2px rgba(60, 64, 67, 0.3), 0 1px 3px 1px rgba(60, 64, 67, 0.15);\n",
              "    fill: var(--button-hover-fill-color);\n",
              "  }\n",
              "\n",
              "  .colab-df-quickchart-complete:disabled,\n",
              "  .colab-df-quickchart-complete:disabled:hover {\n",
              "    background-color: var(--disabled-bg-color);\n",
              "    fill: var(--disabled-fill-color);\n",
              "    box-shadow: none;\n",
              "  }\n",
              "\n",
              "  .colab-df-spinner {\n",
              "    border: 2px solid var(--fill-color);\n",
              "    border-color: transparent;\n",
              "    border-bottom-color: var(--fill-color);\n",
              "    animation:\n",
              "      spin 1s steps(1) infinite;\n",
              "  }\n",
              "\n",
              "  @keyframes spin {\n",
              "    0% {\n",
              "      border-color: transparent;\n",
              "      border-bottom-color: var(--fill-color);\n",
              "      border-left-color: var(--fill-color);\n",
              "    }\n",
              "    20% {\n",
              "      border-color: transparent;\n",
              "      border-left-color: var(--fill-color);\n",
              "      border-top-color: var(--fill-color);\n",
              "    }\n",
              "    30% {\n",
              "      border-color: transparent;\n",
              "      border-left-color: var(--fill-color);\n",
              "      border-top-color: var(--fill-color);\n",
              "      border-right-color: var(--fill-color);\n",
              "    }\n",
              "    40% {\n",
              "      border-color: transparent;\n",
              "      border-right-color: var(--fill-color);\n",
              "      border-top-color: var(--fill-color);\n",
              "    }\n",
              "    60% {\n",
              "      border-color: transparent;\n",
              "      border-right-color: var(--fill-color);\n",
              "    }\n",
              "    80% {\n",
              "      border-color: transparent;\n",
              "      border-right-color: var(--fill-color);\n",
              "      border-bottom-color: var(--fill-color);\n",
              "    }\n",
              "    90% {\n",
              "      border-color: transparent;\n",
              "      border-bottom-color: var(--fill-color);\n",
              "    }\n",
              "  }\n",
              "</style>\n",
              "\n",
              "      <script>\n",
              "        async function quickchart(key) {\n",
              "          const quickchartButtonEl =\n",
              "            document.querySelector('#' + key + ' button');\n",
              "          quickchartButtonEl.disabled = true;  // To prevent multiple clicks.\n",
              "          quickchartButtonEl.classList.add('colab-df-spinner');\n",
              "          try {\n",
              "            const charts = await google.colab.kernel.invokeFunction(\n",
              "                'suggestCharts', [key], {});\n",
              "          } catch (error) {\n",
              "            console.error('Error during call to suggestCharts:', error);\n",
              "          }\n",
              "          quickchartButtonEl.classList.remove('colab-df-spinner');\n",
              "          quickchartButtonEl.classList.add('colab-df-quickchart-complete');\n",
              "        }\n",
              "        (() => {\n",
              "          let quickchartButtonEl =\n",
              "            document.querySelector('#df-cf67cff9-18c1-42e9-8f3f-ac51f3751d7e button');\n",
              "          quickchartButtonEl.style.display =\n",
              "            google.colab.kernel.accessAllowed ? 'block' : 'none';\n",
              "        })();\n",
              "      </script>\n",
              "    </div>\n",
              "\n",
              "    </div>\n",
              "  </div>\n"
            ],
            "application/vnd.google.colaboratory.intrinsic+json": {
              "type": "dataframe"
            }
          },
          "metadata": {}
        }
      ]
    },
    {
      "cell_type": "markdown",
      "source": [
        "#5. Escolher o melhor K"
      ],
      "metadata": {
        "id": "EQP5hxuxhMos"
      }
    },
    {
      "cell_type": "code",
      "source": [
        "scores = []\n",
        "for k in range(1, 10):\n",
        "    knn = KNeighborsClassifier(n_neighbors=k)\n",
        "    knn.fit(X_train_scaled, y_train)\n",
        "    y_pred_k = knn.predict(X_valid_scaled)\n",
        "    scores.append(accuracy_score(y_valid, y_pred_k))\n",
        "\n",
        "import matplotlib.pyplot as plt\n",
        "plt.plot(range(1, 10), scores, marker=\"o\")\n",
        "plt.xlabel(\"Número de vizinhos (k)\")\n",
        "plt.ylabel(\"Accuracy\")\n",
        "plt.title(\"Escolha do melhor K\")\n",
        "plt.show()"
      ],
      "metadata": {
        "colab": {
          "base_uri": "https://localhost:8080/",
          "height": 472
        },
        "id": "612H_vhcivZU",
        "outputId": "76fa8e31-ff4d-496c-b4b9-b99fcf316976",
        "collapsed": true
      },
      "execution_count": 8,
      "outputs": [
        {
          "output_type": "display_data",
          "data": {
            "text/plain": [
              "<Figure size 640x480 with 1 Axes>"
            ],
            "image/png": "[encoded data removed]"
          },
          "metadata": {}
        }
      ]
    },
    {
      "cell_type": "markdown",
      "source": [
        "O accuracy estabiliza a partir de k=3. Por isso optámos por k=3 para o modelo final.\n"
      ],
      "metadata": {
        "id": "qVxNvcTL_efU"
      }
    },
    {
      "cell_type": "markdown",
      "source": [
        "#6. Treinar KNN"
      ],
      "metadata": {
        "id": "7G5WbOuXrnSj"
      }
    },
    {
      "cell_type": "code",
      "source": [
        "k_best=3\n",
        "knn = KNeighborsClassifier(\n",
        "    n_neighbors=k_best,\n",
        "    metric=\"minkowski\",\n",
        "    p=2\n",
        ")\n",
        "\n",
        "knn.fit(X_train_scaled, y_train)"
      ],
      "metadata": {
        "colab": {
          "base_uri": "https://localhost:8080/",
          "height": 80
        },
        "id": "fUiuJJRSrmuw",
        "outputId": "c0b9f07d-98b5-4077-e2f8-f1fb8c8eda88",
        "collapsed": true
      },
      "execution_count": 9,
      "outputs": [
        {
          "output_type": "execute_result",
          "data": {
            "text/plain": [
              "KNeighborsClassifier(n_neighbors=3)"
            ],
            "text/html": [
              "<style>#sk-container-id-1 {\n",
              "  /* Definition of color scheme common for light and dark mode */\n",
              "  --sklearn-color-text: #000;\n",
              "  --sklearn-color-text-muted: #666;\n",
              "  --sklearn-color-line: gray;\n",
              "  /* Definition of color scheme for unfitted estimators */\n",
              "  --sklearn-color-unfitted-level-0: #fff5e6;\n",
              "  --sklearn-color-unfitted-level-1: #f6e4d2;\n",
              "  --sklearn-color-unfitted-level-2: #ffe0b3;\n",
              "  --sklearn-color-unfitted-level-3: chocolate;\n",
              "  /* Definition of color scheme for fitted estimators */\n",
              "  --sklearn-color-fitted-level-0: #f0f8ff;\n",
              "  --sklearn-color-fitted-level-1: #d4ebff;\n",
              "  --sklearn-color-fitted-level-2: #b3dbfd;\n",
              "  --sklearn-color-fitted-level-3: cornflowerblue;\n",
              "\n",
              "  /* Specific color for light theme */\n",
              "  --sklearn-color-text-on-default-background: var(--sg-text-color, var(--theme-code-foreground, var(--jp-content-font-color1, black)));\n",
              "  --sklearn-color-background: var(--sg-background-color, var(--theme-background, var(--jp-layout-color0, white)));\n",
              "  --sklearn-color-border-box: var(--sg-text-color, var(--theme-code-foreground, var(--jp-content-font-color1, black)));\n",
              "  --sklearn-color-icon: #696969;\n",
              "\n",
              "  @media (prefers-color-scheme: dark) {\n",
              "    /* Redefinition of color scheme for dark theme */\n",
              "    --sklearn-color-text-on-default-background: var(--sg-text-color, var(--theme-code-foreground, var(--jp-content-font-color1, white)));\n",
              "    --sklearn-color-background: var(--sg-background-color, var(--theme-background, var(--jp-layout-color0, #111)));\n",
              "    --sklearn-color-border-box: var(--sg-text-color, var(--theme-code-foreground, var(--jp-content-font-color1, white)));\n",
              "    --sklearn-color-icon: #878787;\n",
              "  }\n",
              "}\n",
              "\n",
              "#sk-container-id-1 {\n",
              "  color: var(--sklearn-color-text);\n",
              "}\n",
              "\n",
              "#sk-container-id-1 pre {\n",
              "  padding: 0;\n",
              "}\n",
              "\n",
              "#sk-container-id-1 input.sk-hidden--visually {\n",
              "  border: 0;\n",
              "  clip: rect(1px 1px 1px 1px);\n",
              "  clip: rect(1px, 1px, 1px, 1px);\n",
              "  height: 1px;\n",
              "  margin: -1px;\n",
              "  overflow: hidden;\n",
              "  padding: 0;\n",
              "  position: absolute;\n",
              "  width: 1px;\n",
              "}\n",
              "\n",
              "#sk-container-id-1 div.sk-dashed-wrapped {\n",
              "  border: 1px dashed var(--sklearn-color-line);\n",
              "  margin: 0 0.4em 0.5em 0.4em;\n",
              "  box-sizing: border-box;\n",
              "  padding-bottom: 0.4em;\n",
              "  background-color: var(--sklearn-color-background);\n",
              "}\n",
              "\n",
              "#sk-container-id-1 div.sk-container {\n",
              "  /* jupyter's `normalize.less` sets `[hidden] { display: none; }`\n",
              "     but bootstrap.min.css set `[hidden] { display: none !important; }`\n",
              "     so we also need the `!important` here to be able to override the\n",
              "     default hidden behavior on the sphinx rendered scikit-learn.org.\n",
              "     See: https://github.com/scikit-learn/scikit-learn/issues/21755 */\n",
              "  display: inline-block !important;\n",
              "  position: relative;\n",
              "}\n",
              "\n",
              "#sk-container-id-1 div.sk-text-repr-fallback {\n",
              "  display: none;\n",
              "}\n",
              "\n",
              "div.sk-parallel-item,\n",
              "div.sk-serial,\n",
              "div.sk-item {\n",
              "  /* draw centered vertical line to link estimators */\n",
              "  background-image: linear-gradient(var(--sklearn-color-text-on-default-background), var(--sklearn-color-text-on-default-background));\n",
              "  background-size: 2px 100%;\n",
              "  background-repeat: no-repeat;\n",
              "  background-position: center center;\n",
              "}\n",
              "\n",
              "/* Parallel-specific style estimator block */\n",
              "\n",
              "#sk-container-id-1 div.sk-parallel-item::after {\n",
              "  content: \"\";\n",
              "  width: 100%;\n",
              "  border-bottom: 2px solid var(--sklearn-color-text-on-default-background);\n",
              "  flex-grow: 1;\n",
              "}\n",
              "\n",
              "#sk-container-id-1 div.sk-parallel {\n",
              "  display: flex;\n",
              "  align-items: stretch;\n",
              "  justify-content: center;\n",
              "  background-color: var(--sklearn-color-background);\n",
              "  position: relative;\n",
              "}\n",
              "\n",
              "#sk-container-id-1 div.sk-parallel-item {\n",
              "  display: flex;\n",
              "  flex-direction: column;\n",
              "}\n",
              "\n",
              "#sk-container-id-1 div.sk-parallel-item:first-child::after {\n",
              "  align-self: flex-end;\n",
              "  width: 50%;\n",
              "}\n",
              "\n",
              "#sk-container-id-1 div.sk-parallel-item:last-child::after {\n",
              "  align-self: flex-start;\n",
              "  width: 50%;\n",
              "}\n",
              "\n",
              "#sk-container-id-1 div.sk-parallel-item:only-child::after {\n",
              "  width: 0;\n",
              "}\n",
              "\n",
              "/* Serial-specific style estimator block */\n",
              "\n",
              "#sk-container-id-1 div.sk-serial {\n",
              "  display: flex;\n",
              "  flex-direction: column;\n",
              "  align-items: center;\n",
              "  background-color: var(--sklearn-color-background);\n",
              "  padding-right: 1em;\n",
              "  padding-left: 1em;\n",
              "}\n",
              "\n",
              "\n",
              "/* Toggleable style: style used for estimator/Pipeline/ColumnTransformer box that is\n",
              "clickable and can be expanded/collapsed.\n",
              "- Pipeline and ColumnTransformer use this feature and define the default style\n",
              "- Estimators will overwrite some part of the style using the `sk-estimator` class\n",
              "*/\n",
              "\n",
              "/* Pipeline and ColumnTransformer style (default) */\n",
              "\n",
              "#sk-container-id-1 div.sk-toggleable {\n",
              "  /* Default theme specific background. It is overwritten whether we have a\n",
              "  specific estimator or a Pipeline/ColumnTransformer */\n",
              "  background-color: var(--sklearn-color-background);\n",
              "}\n",
              "\n",
              "/* Toggleable label */\n",
              "#sk-container-id-1 label.sk-toggleable__label {\n",
              "  cursor: pointer;\n",
              "  display: flex;\n",
              "  width: 100%;\n",
              "  margin-bottom: 0;\n",
              "  padding: 0.5em;\n",
              "  box-sizing: border-box;\n",
              "  text-align: center;\n",
              "  align-items: start;\n",
              "  justify-content: space-between;\n",
              "  gap: 0.5em;\n",
              "}\n",
              "\n",
              "#sk-container-id-1 label.sk-toggleable__label .caption {\n",
              "  font-size: 0.6rem;\n",
              "  font-weight: lighter;\n",
              "  color: var(--sklearn-color-text-muted);\n",
              "}\n",
              "\n",
              "#sk-container-id-1 label.sk-toggleable__label-arrow:before {\n",
              "  /* Arrow on the left of the label */\n",
              "  content: \"▸\";\n",
              "  float: left;\n",
              "  margin-right: 0.25em;\n",
              "  color: var(--sklearn-color-icon);\n",
              "}\n",
              "\n",
              "#sk-container-id-1 label.sk-toggleable__label-arrow:hover:before {\n",
              "  color: var(--sklearn-color-text);\n",
              "}\n",
              "\n",
              "/* Toggleable content - dropdown */\n",
              "\n",
              "#sk-container-id-1 div.sk-toggleable__content {\n",
              "  max-height: 0;\n",
              "  max-width: 0;\n",
              "  overflow: hidden;\n",
              "  text-align: left;\n",
              "  /* unfitted */\n",
              "  background-color: var(--sklearn-color-unfitted-level-0);\n",
              "}\n",
              "\n",
              "#sk-container-id-1 div.sk-toggleable__content.fitted {\n",
              "  /* fitted */\n",
              "  background-color: var(--sklearn-color-fitted-level-0);\n",
              "}\n",
              "\n",
              "#sk-container-id-1 div.sk-toggleable__content pre {\n",
              "  margin: 0.2em;\n",
              "  border-radius: 0.25em;\n",
              "  color: var(--sklearn-color-text);\n",
              "  /* unfitted */\n",
              "  background-color: var(--sklearn-color-unfitted-level-0);\n",
              "}\n",
              "\n",
              "#sk-container-id-1 div.sk-toggleable__content.fitted pre {\n",
              "  /* unfitted */\n",
              "  background-color: var(--sklearn-color-fitted-level-0);\n",
              "}\n",
              "\n",
              "#sk-container-id-1 input.sk-toggleable__control:checked~div.sk-toggleable__content {\n",
              "  /* Expand drop-down */\n",
              "  max-height: 200px;\n",
              "  max-width: 100%;\n",
              "  overflow: auto;\n",
              "}\n",
              "\n",
              "#sk-container-id-1 input.sk-toggleable__control:checked~label.sk-toggleable__label-arrow:before {\n",
              "  content: \"▾\";\n",
              "}\n",
              "\n",
              "/* Pipeline/ColumnTransformer-specific style */\n",
              "\n",
              "#sk-container-id-1 div.sk-label input.sk-toggleable__control:checked~label.sk-toggleable__label {\n",
              "  color: var(--sklearn-color-text);\n",
              "  background-color: var(--sklearn-color-unfitted-level-2);\n",
              "}\n",
              "\n",
              "#sk-container-id-1 div.sk-label.fitted input.sk-toggleable__control:checked~label.sk-toggleable__label {\n",
              "  background-color: var(--sklearn-color-fitted-level-2);\n",
              "}\n",
              "\n",
              "/* Estimator-specific style */\n",
              "\n",
              "/* Colorize estimator box */\n",
              "#sk-container-id-1 div.sk-estimator input.sk-toggleable__control:checked~label.sk-toggleable__label {\n",
              "  /* unfitted */\n",
              "  background-color: var(--sklearn-color-unfitted-level-2);\n",
              "}\n",
              "\n",
              "#sk-container-id-1 div.sk-estimator.fitted input.sk-toggleable__control:checked~label.sk-toggleable__label {\n",
              "  /* fitted */\n",
              "  background-color: var(--sklearn-color-fitted-level-2);\n",
              "}\n",
              "\n",
              "#sk-container-id-1 div.sk-label label.sk-toggleable__label,\n",
              "#sk-container-id-1 div.sk-label label {\n",
              "  /* The background is the default theme color */\n",
              "  color: var(--sklearn-color-text-on-default-background);\n",
              "}\n",
              "\n",
              "/* On hover, darken the color of the background */\n",
              "#sk-container-id-1 div.sk-label:hover label.sk-toggleable__label {\n",
              "  color: var(--sklearn-color-text);\n",
              "  background-color: var(--sklearn-color-unfitted-level-2);\n",
              "}\n",
              "\n",
              "/* Label box, darken color on hover, fitted */\n",
              "#sk-container-id-1 div.sk-label.fitted:hover label.sk-toggleable__label.fitted {\n",
              "  color: var(--sklearn-color-text);\n",
              "  background-color: var(--sklearn-color-fitted-level-2);\n",
              "}\n",
              "\n",
              "/* Estimator label */\n",
              "\n",
              "#sk-container-id-1 div.sk-label label {\n",
              "  font-family: monospace;\n",
              "  font-weight: bold;\n",
              "  display: inline-block;\n",
              "  line-height: 1.2em;\n",
              "}\n",
              "\n",
              "#sk-container-id-1 div.sk-label-container {\n",
              "  text-align: center;\n",
              "}\n",
              "\n",
              "/* Estimator-specific */\n",
              "#sk-container-id-1 div.sk-estimator {\n",
              "  font-family: monospace;\n",
              "  border: 1px dotted var(--sklearn-color-border-box);\n",
              "  border-radius: 0.25em;\n",
              "  box-sizing: border-box;\n",
              "  margin-bottom: 0.5em;\n",
              "  /* unfitted */\n",
              "  background-color: var(--sklearn-color-unfitted-level-0);\n",
              "}\n",
              "\n",
              "#sk-container-id-1 div.sk-estimator.fitted {\n",
              "  /* fitted */\n",
              "  background-color: var(--sklearn-color-fitted-level-0);\n",
              "}\n",
              "\n",
              "/* on hover */\n",
              "#sk-container-id-1 div.sk-estimator:hover {\n",
              "  /* unfitted */\n",
              "  background-color: var(--sklearn-color-unfitted-level-2);\n",
              "}\n",
              "\n",
              "#sk-container-id-1 div.sk-estimator.fitted:hover {\n",
              "  /* fitted */\n",
              "  background-color: var(--sklearn-color-fitted-level-2);\n",
              "}\n",
              "\n",
              "/* Specification for estimator info (e.g. \"i\" and \"?\") */\n",
              "\n",
              "/* Common style for \"i\" and \"?\" */\n",
              "\n",
              ".sk-estimator-doc-link,\n",
              "a:link.sk-estimator-doc-link,\n",
              "a:visited.sk-estimator-doc-link {\n",
              "  float: right;\n",
              "  font-size: smaller;\n",
              "  line-height: 1em;\n",
              "  font-family: monospace;\n",
              "  background-color: var(--sklearn-color-background);\n",
              "  border-radius: 1em;\n",
              "  height: 1em;\n",
              "  width: 1em;\n",
              "  text-decoration: none !important;\n",
              "  margin-left: 0.5em;\n",
              "  text-align: center;\n",
              "  /* unfitted */\n",
              "  border: var(--sklearn-color-unfitted-level-1) 1pt solid;\n",
              "  color: var(--sklearn-color-unfitted-level-1);\n",
              "}\n",
              "\n",
              ".sk-estimator-doc-link.fitted,\n",
              "a:link.sk-estimator-doc-link.fitted,\n",
              "a:visited.sk-estimator-doc-link.fitted {\n",
              "  /* fitted */\n",
              "  border: var(--sklearn-color-fitted-level-1) 1pt solid;\n",
              "  color: var(--sklearn-color-fitted-level-1);\n",
              "}\n",
              "\n",
              "/* On hover */\n",
              "div.sk-estimator:hover .sk-estimator-doc-link:hover,\n",
              ".sk-estimator-doc-link:hover,\n",
              "div.sk-label-container:hover .sk-estimator-doc-link:hover,\n",
              ".sk-estimator-doc-link:hover {\n",
              "  /* unfitted */\n",
              "  background-color: var(--sklearn-color-unfitted-level-3);\n",
              "  color: var(--sklearn-color-background);\n",
              "  text-decoration: none;\n",
              "}\n",
              "\n",
              "div.sk-estimator.fitted:hover .sk-estimator-doc-link.fitted:hover,\n",
              ".sk-estimator-doc-link.fitted:hover,\n",
              "div.sk-label-container:hover .sk-estimator-doc-link.fitted:hover,\n",
              ".sk-estimator-doc-link.fitted:hover {\n",
              "  /* fitted */\n",
              "  background-color: var(--sklearn-color-fitted-level-3);\n",
              "  color: var(--sklearn-color-background);\n",
              "  text-decoration: none;\n",
              "}\n",
              "\n",
              "/* Span, style for the box shown on hovering the info icon */\n",
              ".sk-estimator-doc-link span {\n",
              "  display: none;\n",
              "  z-index: 9999;\n",
              "  position: relative;\n",
              "  font-weight: normal;\n",
              "  right: .2ex;\n",
              "  padding: .5ex;\n",
              "  margin: .5ex;\n",
              "  width: min-content;\n",
              "  min-width: 20ex;\n",
              "  max-width: 50ex;\n",
              "  color: var(--sklearn-color-text);\n",
              "  box-shadow: 2pt 2pt 4pt #999;\n",
              "  /* unfitted */\n",
              "  background: var(--sklearn-color-unfitted-level-0);\n",
              "  border: .5pt solid var(--sklearn-color-unfitted-level-3);\n",
              "}\n",
              "\n",
              ".sk-estimator-doc-link.fitted span {\n",
              "  /* fitted */\n",
              "  background: var(--sklearn-color-fitted-level-0);\n",
              "  border: var(--sklearn-color-fitted-level-3);\n",
              "}\n",
              "\n",
              ".sk-estimator-doc-link:hover span {\n",
              "  display: block;\n",
              "}\n",
              "\n",
              "/* \"?\"-specific style due to the `<a>` HTML tag */\n",
              "\n",
              "#sk-container-id-1 a.estimator_doc_link {\n",
              "  float: right;\n",
              "  font-size: 1rem;\n",
              "  line-height: 1em;\n",
              "  font-family: monospace;\n",
              "  background-color: var(--sklearn-color-background);\n",
              "  border-radius: 1rem;\n",
              "  height: 1rem;\n",
              "  width: 1rem;\n",
              "  text-decoration: none;\n",
              "  /* unfitted */\n",
              "  color: var(--sklearn-color-unfitted-level-1);\n",
              "  border: var(--sklearn-color-unfitted-level-1) 1pt solid;\n",
              "}\n",
              "\n",
              "#sk-container-id-1 a.estimator_doc_link.fitted {\n",
              "  /* fitted */\n",
              "  border: var(--sklearn-color-fitted-level-1) 1pt solid;\n",
              "  color: var(--sklearn-color-fitted-level-1);\n",
              "}\n",
              "\n",
              "/* On hover */\n",
              "#sk-container-id-1 a.estimator_doc_link:hover {\n",
              "  /* unfitted */\n",
              "  background-color: var(--sklearn-color-unfitted-level-3);\n",
              "  color: var(--sklearn-color-background);\n",
              "  text-decoration: none;\n",
              "}\n",
              "\n",
              "#sk-container-id-1 a.estimator_doc_link.fitted:hover {\n",
              "  /* fitted */\n",
              "  background-color: var(--sklearn-color-fitted-level-3);\n",
              "}\n",
              "</style><div id=\"sk-container-id-1\" class=\"sk-top-container\"><div class=\"sk-text-repr-fallback\"><pre>KNeighborsClassifier(n_neighbors=3)</pre><b>In a Jupyter environment, please rerun this cell to show the HTML representation or trust the notebook. <br />On GitHub, the HTML representation is unable to render, please try loading this page with nbviewer.org.</b></div><div class=\"sk-container\" hidden><div class=\"sk-item\"><div class=\"sk-estimator fitted sk-toggleable\"><input class=\"sk-toggleable__control sk-hidden--visually\" id=\"sk-estimator-id-1\" type=\"checkbox\" checked><label for=\"sk-estimator-id-1\" class=\"sk-toggleable__label fitted sk-toggleable__label-arrow\"><div><div>KNeighborsClassifier</div></div><div><a class=\"sk-estimator-doc-link fitted\" rel=\"noreferrer\" target=\"_blank\" href=\"https://scikit-learn.org/1.6/modules/generated/sklearn.neighbors.KNeighborsClassifier.html\">?<span>Documentation for KNeighborsClassifier</span></a><span class=\"sk-estimator-doc-link fitted\">i<span>Fitted</span></span></div></label><div class=\"sk-toggleable__content fitted\"><pre>KNeighborsClassifier(n_neighbors=3)</pre></div> </div></div></div></div>"
            ]
          },
          "metadata": {},
          "execution_count": 9
        }
      ]
    },
    {
      "cell_type": "markdown",
      "source": [
        "#7. Comparação entre Validação e Teste"
      ],
      "metadata": {
        "id": "txxcd3dkrsFK"
      }
    },
    {
      "cell_type": "markdown",
      "source": [
        "##7.1 Avaliação da Validação"
      ],
      "metadata": {
        "id": "Qgr1i72rxaTJ"
      }
    },
    {
      "cell_type": "code",
      "source": [
        "# Avaliar a Validação Y\n",
        "\n",
        "y_pred = knn.predict(X_valid_scaled)\n",
        "\n",
        "print(\"📊 Classification Report\")\n",
        "print(classification_report(y_valid, y_pred))\n",
        "\n",
        "print(\"🔎 Confusion Matrix\")\n",
        "print(confusion_matrix(y_valid, y_pred))"
      ],
      "metadata": {
        "colab": {
          "base_uri": "https://localhost:8080/"
        },
        "id": "HjxSf2A3xMkF",
        "outputId": "864e50e1-3424-4926-efde-a01442275833",
        "collapsed": true
      },
      "execution_count": 10,
      "outputs": [
        {
          "output_type": "stream",
          "name": "stdout",
          "text": [
            "📊 Classification Report\n",
            "              precision    recall  f1-score   support\n",
            "\n",
            "           0       0.67      0.69      0.68     10425\n",
            "           1       0.72      0.71      0.72     12072\n",
            "\n",
            "    accuracy                           0.70     22497\n",
            "   macro avg       0.70      0.70      0.70     22497\n",
            "weighted avg       0.70      0.70      0.70     22497\n",
            "\n",
            "🔎 Confusion Matrix\n",
            "[[7142 3283]\n",
            " [3454 8618]]\n"
          ]
        }
      ]
    },
    {
      "cell_type": "markdown",
      "source": [
        "Conclusão: Accuracy ~0.70, classes equilibradas, precision/recall semelhantes."
      ],
      "metadata": {
        "id": "q6Jx01T2x9_S"
      }
    },
    {
      "cell_type": "code",
      "source": [
        "# Matriz de Confusão Teste (Percentual)\n",
        "cm = confusion_matrix(y_valid, y_pred)\n",
        "cm_pct = cm.astype(float) / cm.sum(axis=1, keepdims=True) * 100\n",
        "\n",
        "plt.figure(figsize=(6,5))\n",
        "sns.heatmap(cm_pct, annot=True, fmt=\".2f\", cmap=\"Greens\",\n",
        "            xticklabels=['Not Sold', 'Sold'],\n",
        "            yticklabels=['Not Sold', 'Sold'])\n",
        "plt.xlabel(\"Predicted\")\n",
        "plt.ylabel(\"Actual\")\n",
        "plt.title(f\"KNN (k={3})\")\n",
        "plt.show()"
      ],
      "metadata": {
        "colab": {
          "base_uri": "https://localhost:8080/",
          "height": 487
        },
        "id": "M3zKIxbnpuRI",
        "outputId": "9deb3f02-cd3e-4456-9d35-8e2139eccda2",
        "collapsed": true
      },
      "execution_count": 11,
      "outputs": [
        {
          "output_type": "display_data",
          "data": {
            "text/plain": [
              "<Figure size 600x500 with 2 Axes>"
            ],
            "image/png": "[encoded data removed]"
          },
          "metadata": {}
        }
      ]
    },
    {
      "cell_type": "code",
      "source": [
        "# Probabilidades do KNN Validação\n",
        "y_proba_knn = knn.predict_proba(X_valid_scaled)[:, 1]\n",
        "\n",
        "# AUC\n",
        "auc_knn = roc_auc_score(y_valid, y_proba_knn)\n",
        "print(f\"ROC AUC (KNN): {auc_knn:.3f}\")\n",
        "\n",
        "# Curva ROC\n",
        "fpr_knn, tpr_knn, thresholds_knn = roc_curve(y_valid, y_proba_knn)\n",
        "\n",
        "plt.figure(figsize=(6,6))\n",
        "plt.plot(fpr_knn, tpr_knn, label=f\"KNN AUC = {auc_knn:.3f}\", color=\"green\")\n",
        "plt.plot([0,1], [0,1], linestyle=\"--\", color=\"grey\")\n",
        "plt.xlabel(\"False Positive Rate\")\n",
        "plt.ylabel(\"True Positive Rate\")\n",
        "plt.title(\"ROC Curve - KNN Validation\")\n",
        "plt.legend()\n",
        "plt.show()"
      ],
      "metadata": {
        "colab": {
          "base_uri": "https://localhost:8080/",
          "height": 581
        },
        "id": "gszJaBTk0-J4",
        "outputId": "27c3a0d1-ff4c-4d64-a52e-6e4a6557a005",
        "collapsed": true
      },
      "execution_count": 12,
      "outputs": [
        {
          "output_type": "stream",
          "name": "stdout",
          "text": [
            "ROC AUC (KNN): 0.750\n"
          ]
        },
        {
          "output_type": "display_data",
          "data": {
            "text/plain": [
              "<Figure size 600x600 with 1 Axes>"
            ],
            "image/png": "[encoded data removed]"
          },
          "metadata": {}
        }
      ]
    },
    {
      "cell_type": "markdown",
      "source": [
        "Conclusão: AUC próximo de 0.7 indica um desempenho moderado; melhor que aleatório (0.5), mas não excelente."
      ],
      "metadata": {
        "id": "4yIXGc_NyDDh"
      }
    },
    {
      "cell_type": "code",
      "source": [
        "# Avaliar Teste Y\n",
        "y_pred = knn.predict(X_test_scaled)\n",
        "\n",
        "print(\"📊 Classification Report\")\n",
        "print(classification_report(y_test, y_pred))\n",
        "\n",
        "print(\"🔎 Confusion Matrix\")\n",
        "print(confusion_matrix(y_test, y_pred))\n"
      ],
      "metadata": {
        "colab": {
          "base_uri": "https://localhost:8080/"
        },
        "id": "8YtV2zNGruDJ",
        "outputId": "4d79edfe-f860-480c-f151-87571566ec10",
        "collapsed": true
      },
      "execution_count": 13,
      "outputs": [
        {
          "output_type": "stream",
          "name": "stdout",
          "text": [
            "📊 Classification Report\n",
            "              precision    recall  f1-score   support\n",
            "\n",
            "           0       0.67      0.68      0.68     10425\n",
            "           1       0.72      0.71      0.72     12072\n",
            "\n",
            "    accuracy                           0.70     22497\n",
            "   macro avg       0.70      0.70      0.70     22497\n",
            "weighted avg       0.70      0.70      0.70     22497\n",
            "\n",
            "🔎 Confusion Matrix\n",
            "[[7134 3291]\n",
            " [3441 8631]]\n"
          ]
        }
      ]
    },
    {
      "cell_type": "markdown",
      "source": [
        "##7.2 Avaliação do Test"
      ],
      "metadata": {
        "id": "X9bdDoNbxYPt"
      }
    },
    {
      "cell_type": "code",
      "source": [
        "# Probabilidades do KNN Test\n",
        "\n",
        "y_proba_knn = knn.predict_proba(X_test_scaled)[:, 1]\n",
        "\n",
        "# AUC\n",
        "auc_knn = roc_auc_score(y_test, y_proba_knn)\n",
        "print(f\"ROC AUC (KNN): {auc_knn:.3f}\")\n",
        "\n",
        "# Curva ROC\n",
        "fpr_knn, tpr_knn, thresholds_knn = roc_curve(y_test, y_proba_knn)\n",
        "\n",
        "plt.figure(figsize=(6,6))\n",
        "plt.plot(fpr_knn, tpr_knn, label=f\"KNN AUC = {auc_knn:.3f}\", color=\"green\")\n",
        "plt.plot([0,1], [0,1], linestyle=\"--\", color=\"grey\")\n",
        "plt.xlabel(\"False Positive Rate\")\n",
        "plt.ylabel(\"True Positive Rate\")\n",
        "plt.title(\"ROC Curve - KNN Test\")\n",
        "plt.legend()\n",
        "plt.show()\n"
      ],
      "metadata": {
        "colab": {
          "base_uri": "https://localhost:8080/",
          "height": 581
        },
        "id": "9nvnJSjGqhX9",
        "outputId": "4e9b2f07-0e71-476f-9630-39a9e1a786f7",
        "collapsed": true
      },
      "execution_count": 14,
      "outputs": [
        {
          "output_type": "stream",
          "name": "stdout",
          "text": [
            "ROC AUC (KNN): 0.750\n"
          ]
        },
        {
          "output_type": "display_data",
          "data": {
            "text/plain": [
              "<Figure size 600x600 with 1 Axes>"
            ],
            "image/png": "[encoded data removed]"
          },
          "metadata": {}
        }
      ]
    },
    {
      "cell_type": "code",
      "source": [
        "# Matriz de Confusão Teste (Percentual)\n",
        "cm = confusion_matrix(y_test, y_pred)\n",
        "cm_pct = cm.astype(float) / cm.sum(axis=1, keepdims=True) * 100\n",
        "\n",
        "plt.figure(figsize=(6,5))\n",
        "sns.heatmap(cm_pct, annot=True, fmt=\".2f\", cmap=\"Greens\",\n",
        "            xticklabels=['Not Sold', 'Sold'],\n",
        "            yticklabels=['Not Sold', 'Sold'])\n",
        "plt.xlabel(\"Predicted\")\n",
        "plt.ylabel(\"Actual\")\n",
        "plt.title(f\"KNN (k={k_best})\")\n",
        "plt.show()"
      ],
      "metadata": {
        "colab": {
          "base_uri": "https://localhost:8080/",
          "height": 487
        },
        "id": "BMIr9H7tsEKS",
        "outputId": "7b9dba35-7881-4c20-e642-694ffbcb12d5",
        "collapsed": true
      },
      "execution_count": 15,
      "outputs": [
        {
          "output_type": "display_data",
          "data": {
            "text/plain": [
              "<Figure size 600x500 with 2 Axes>"
            ],
            "image/png": "[encoded data removed]"
          },
          "metadata": {}
        }
      ]
    },
    {
      "cell_type": "code",
      "source": [
        "# Matriz de Confusão Teste (Absoluto)\n",
        "cm = confusion_matrix(y_test, y_pred)\n",
        "\n",
        "plt.figure(figsize=(6,5))\n",
        "sns.heatmap(cm, annot=True, fmt=\"d\", cmap=\"Greens\",\n",
        "            xticklabels=['Not Sold', 'Sold'],\n",
        "            yticklabels=['Not Sold', 'Sold'])\n",
        "plt.xlabel(\"Predicted\")\n",
        "plt.ylabel(\"Actual\")\n",
        "plt.title(f\"KNN (k={k_best})\")\n",
        "plt.show()"
      ],
      "metadata": {
        "colab": {
          "base_uri": "https://localhost:8080/",
          "height": 487
        },
        "id": "9XHAwJ_vDTKE",
        "outputId": "30afaf36-25d3-4dc3-a089-d57972b598d9",
        "collapsed": true
      },
      "execution_count": 16,
      "outputs": [
        {
          "output_type": "display_data",
          "data": {
            "text/plain": [
              "<Figure size 600x500 with 2 Axes>"
            ],
            "image/png": "[encoded data removed]"
          },
          "metadata": {}
        }
      ]
    },
    {
      "cell_type": "markdown",
      "source": [
        "Conclusão: As métricas no test são semelhantes às de validation, sugerindo que o modelo generaliza razoavelmente sem overfitting."
      ],
      "metadata": {
        "id": "ntjsMMBiyVgm"
      }
    },
    {
      "cell_type": "markdown",
      "source": [
        "##7.3 Importância das Métricas"
      ],
      "metadata": {
        "id": "v7HVcEG9xODu"
      }
    },
    {
      "cell_type": "code",
      "source": [
        "#Garantir que o modelo foi treinado com DataFrame\n",
        "\n",
        "# 1) Subamostrar X_test para acelerar\n",
        "n_samples = 10000\n",
        "if len(X_test) > n_samples:\n",
        "    X_eval, _, y_eval, _ = train_test_split(\n",
        "        X_test, y_test,\n",
        "        train_size=n_samples,\n",
        "        stratify=y_test,\n",
        "        random_state=42\n",
        "    )\n",
        "else:\n",
        "    X_eval, y_eval = X_test, y_test\n",
        "\n",
        "# 2) Scorer\n",
        "scorer = make_scorer(f1_score)\n",
        "\n",
        "# 3) Permutation Importance paralelizada\n",
        "perm = permutation_importance(\n",
        "    knn,\n",
        "    X_eval, y_eval,\n",
        "    n_repeats=1,\n",
        "    random_state=42,\n",
        "    scoring=scorer,\n",
        "    n_jobs=-1\n",
        ")\n",
        "\n",
        "imp_df = (\n",
        "    pd.DataFrame({\n",
        "        \"feature\": X_eval.columns,\n",
        "        \"importance_mean\": perm.importances_mean,\n",
        "        \"importance_std\": perm.importances_std\n",
        "    })\n",
        "    .sort_values(\"importance_mean\", ascending=False)\n",
        "    .reset_index(drop=True)\n",
        ")\n",
        "\n",
        "print(\"\\nPermutation Importance (KNN) — subamostrado:\")\n",
        "print(imp_df.head(20))\n"
      ],
      "metadata": {
        "colab": {
          "base_uri": "https://localhost:8080/"
        },
        "id": "OrHGJeHkBpW7",
        "outputId": "7b9423ff-e363-4ce6-bd08-93f804510926",
        "collapsed": true
      },
      "execution_count": 17,
      "outputs": [
        {
          "output_type": "stream",
          "name": "stdout",
          "text": [
            "\n",
            "Permutation Importance (KNN) — subamostrado:\n",
            "              feature  importance_mean  importance_std\n",
            "0   labelling_dow_sin         0.007418             0.0\n",
            "1    expiring_dow_cos         0.005049             0.0\n",
            "2   selling_square_ft         0.001981             0.0\n",
            "3          weight (g)         0.000906             0.0\n",
            "4      StoreCluster_2         0.000052             0.0\n",
            "5          Margin (%)         0.000000             0.0\n",
            "6              oldpvp         0.000000             0.0\n",
            "7          d_Marca 12         0.000000             0.0\n",
            "8           d_Marca 1         0.000000             0.0\n",
            "9          d_Marca 10         0.000000             0.0\n",
            "10         d_Marca 11         0.000000             0.0\n",
            "11         d_Marca 14         0.000000             0.0\n",
            "12         Profit (€)         0.000000             0.0\n",
            "13             newpvp         0.000000             0.0\n",
            "14           discount         0.000000             0.0\n",
            "15         d_Marca 23         0.000000             0.0\n",
            "16         d_Marca 17         0.000000             0.0\n",
            "17         d_Marca 18         0.000000             0.0\n",
            "18         d_Marca 19         0.000000             0.0\n",
            "19          d_Marca 2         0.000000             0.0\n"
          ]
        }
      ]
    },
    {
      "cell_type": "markdown",
      "source": [],
      "metadata": {
        "id": "hXr8Dhsig9UB"
      }
    }
  ]
}